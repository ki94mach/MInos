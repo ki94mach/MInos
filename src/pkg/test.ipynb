{
 "cells": [
  {
   "cell_type": "code",
   "execution_count": 1,
   "metadata": {},
   "outputs": [],
   "source": [
    "from MedCore import *\n",
    "from RegistryManager import RegistryManager\n",
    "from utils import commit"
   ]
  },
  {
   "cell_type": "code",
   "execution_count": 2,
   "metadata": {},
   "outputs": [],
   "source": [
    "rm = RegistryManager()"
   ]
  },
  {
   "cell_type": "code",
   "execution_count": 3,
   "metadata": {},
   "outputs": [],
   "source": [
    "lung_cancer = Characteristic('Primary Indication', 'lung Cancer')\n",
    "nsclc = Characteristic('type', 'NSCLC')\n",
    "keras = Characteristic('Biomarker', 'KRAS G12C')\n",
    "pdl1 = Characteristic('Biomarker', 'PDL1 < 1%')\n",
    "ps_2 = Characteristic('Performance', 'Status 2')\n",
    "carboplatin = Drug('Carboplatin', '450 mg')\n",
    "gemcitabine = Drug('Gemcitabine', '1 g')\n",
    "paclitaxel = Drug('Paclitaxel', '100 mg')\n",
    "pembrolizumab = Drug('Pembrolizumab', '200 mg')\n",
    "regimen_1 = MedicalTreatment('Carboplatin with Gemcitabine')\n",
    "regimen_1.add_drug(carboplatin, annual_patient_con=13)\n",
    "regimen_1.add_drug(carboplatin, annual_patient_con=13)\n",
    "regimen_2 = MedicalTreatment('Carboplatin with Paclitaxel')\n",
    "regimen_2.add_drug(carboplatin, annual_patient_con=15)\n",
    "regimen_2.add_drug(paclitaxel, annual_patient_con=20)\n",
    "combined_regimen = AlternativeTreatments(regimen_1, regimen_2)\n",
    "treatment_c = MedicalTreatment('Pembrolizumab')\n",
    "treatment_c.add_drug(pembrolizumab, annual_patient_con=10)"
   ]
  },
  {
   "cell_type": "code",
   "execution_count": 4,
   "metadata": {},
   "outputs": [],
   "source": [
    "population = Characteristic('Population', 'Iran')\n",
    "patient_lc = Patient(90_000_000, population)\n",
    "patient_lc.add_characteristic(lung_cancer, rate=0.0001)\n",
    "patient_lc.add_characteristic(nsclc, rate=0.85)\n",
    "metastatic=  Characteristic('Metastasis', 'Metatstatic')\n",
    "bone_metastatic = Characteristic('Metastasis', 'Bone Metastasis')\n",
    "patient_lc.add_characteristic(metastatic, rate=0.45)\n",
    "patient_lc.add_characteristic(bone_metastatic, rate=0.343)\n",
    "denosumab = Drug('Denosumab', '120 mg')\n",
    "denosumab_reg = MedicalTreatment('Denosumab Treatment')\n",
    "denosumab_reg.add_drug(denosumab, 13)\n",
    "zoledronic_acid = Drug('zoledronic acid', '4 mg')\n",
    "zoledronic_acid_reg = MedicalTreatment('Zoledronic acid Treatment')\n",
    "zoledronic_acid_reg.add_drug(zoledronic_acid, 13)\n",
    "bone_target = AlternativeTreatments(denosumab_reg, zoledronic_acid_reg)\n",
    "patient_lc.add_treatment(bone_target)\n",
    "bone_treated_fu = FollowUp(patient_lc, 0.43)\n",
    "bone_treated_fu.add_to_patient()\n",
    "patient_lc.register_patient()"
   ]
  },
  {
   "cell_type": "code",
   "execution_count": 5,
   "metadata": {},
   "outputs": [],
   "source": [
    "other_mutation = Characteristic('Mutation', 'Other mutations')\n",
    "kras_g12c = Characteristic('Mutation', 'KRAS G12C')\n",
    "patient_om = patient_lc.add_branch(other_mutation, 0.39, metastatic)\n",
    "patient_km = patient_lc.add_branch(kras_g12c, 0.61, metastatic)\n",
    "patient_om.register_patient()"
   ]
  },
  {
   "cell_type": "code",
   "execution_count": 6,
   "metadata": {},
   "outputs": [],
   "source": [
    "patient_p = Patient(90_000_000, population)\n",
    "male_p = Characteristic('Population', 'male population')\n",
    "patient_p.add_characteristic(male_p, 0.5055)\n",
    "prostate_c = Characteristic('Primary indication', 'Prostate Cancer')\n",
    "patient_p.add_characteristic(prostate_c, 0.0018457)\n",
    "patient_p.add_characteristic(metastatic, 0.08)\n",
    "regional = Characteristic('Type', 'regional')\n",
    "regional_p = patient_p.add_branch(regional, 0.13, prostate_c)\n",
    "local = Characteristic('Type', 'local')\n",
    "local_p = patient_p.add_branch(local, 0.69, prostate_c)"
   ]
  },
  {
   "cell_type": "code",
   "execution_count": 7,
   "metadata": {},
   "outputs": [],
   "source": [
    "patient_p.register_patient()\n",
    "local_p.register_patient()\n",
    "regional_p.register_patient()"
   ]
  },
  {
   "cell_type": "code",
   "execution_count": null,
   "metadata": {},
   "outputs": [
    {
     "ename": "ImportError",
     "evalue": "cannot import name 'get_transaction' from 'transaction' (c:\\Users\\Mohajeri.K\\AppData\\Local\\anaconda3\\envs\\patient\\lib\\site-packages\\transaction\\__init__.py)",
     "output_type": "error",
     "traceback": [
      "\u001b[1;31m---------------------------------------------------------------------------\u001b[0m",
      "\u001b[1;31mImportError\u001b[0m                               Traceback (most recent call last)",
      "Cell \u001b[1;32mIn[12], line 2\u001b[0m\n\u001b[0;32m      1\u001b[0m \u001b[38;5;28;01mfrom\u001b[39;00m \u001b[38;5;21;01mZODB\u001b[39;00m \u001b[38;5;28;01mimport\u001b[39;00m FileStorage, DB\n\u001b[1;32m----> 2\u001b[0m \u001b[38;5;28;01mfrom\u001b[39;00m \u001b[38;5;21;01mtransaction\u001b[39;00m \u001b[38;5;28;01mimport\u001b[39;00m get_transaction\n",
      "\u001b[1;31mImportError\u001b[0m: cannot import name 'get_transaction' from 'transaction' (c:\\Users\\Mohajeri.K\\AppData\\Local\\anaconda3\\envs\\patient\\lib\\site-packages\\transaction\\__init__.py)"
     ]
    }
   ],
   "source": [
    "from ZODB import FileStorage, DB\n",
    "import transaction"
   ]
  },
  {
   "cell_type": "code",
   "execution_count": 14,
   "metadata": {},
   "outputs": [],
   "source": [
    "transaction.commit()"
   ]
  },
  {
   "cell_type": "code",
   "execution_count": 15,
   "metadata": {},
   "outputs": [],
   "source": [
    "rm.connection.close()"
   ]
  },
  {
   "cell_type": "code",
   "execution_count": 4,
   "metadata": {},
   "outputs": [
    {
     "name": "stderr",
     "output_type": "stream",
     "text": [
      "ERROR:ZODB.Connection:Couldn't load state for persistent.mapping.PersistentMapping 0x04\n",
      "Traceback (most recent call last):\n",
      "  File \"c:\\Users\\Mohajeri.K\\AppData\\Local\\anaconda3\\envs\\patient\\lib\\site-packages\\ZODB\\Connection.py\", line 788, in setstate\n",
      "    self._reader.setGhostState(obj, p)\n",
      "  File \"c:\\Users\\Mohajeri.K\\AppData\\Local\\anaconda3\\envs\\patient\\lib\\site-packages\\ZODB\\serialize.py\", line 638, in setGhostState\n",
      "    state = self.getState(pickle)\n",
      "  File \"c:\\Users\\Mohajeri.K\\AppData\\Local\\anaconda3\\envs\\patient\\lib\\site-packages\\ZODB\\serialize.py\", line 631, in getState\n",
      "    return unpickler.load()\n",
      "  File \"c:\\Users\\Mohajeri.K\\AppData\\Local\\anaconda3\\envs\\patient\\lib\\site-packages\\ZODB\\serialize.py\", line 498, in _persistent_load\n",
      "    return self.load_persistent(*reference)\n",
      "  File \"c:\\Users\\Mohajeri.K\\AppData\\Local\\anaconda3\\envs\\patient\\lib\\site-packages\\ZODB\\serialize.py\", line 533, in load_persistent\n",
      "    obj = klass.__new__(klass)\n",
      "  File \"c:\\Users\\Mohajeri.K\\MyProjects\\Minos\\src\\pkg\\MedCore.py\", line 243, in __new__\n",
      "    def __init__(self, *alternatives: Treatment, rates: list=None):\n",
      "  File \"c:\\Users\\Mohajeri.K\\MyProjects\\Minos\\src\\pkg\\MedCore.py\", line 167, in __new__\n",
      "    if key in registry:\n",
      "  File \"c:\\Users\\Mohajeri.K\\AppData\\Local\\anaconda3\\envs\\patient\\lib\\collections\\__init__.py\", line 1119, in __contains__\n",
      "    return key in self.data\n",
      "  File \"c:\\Users\\Mohajeri.K\\AppData\\Local\\anaconda3\\envs\\patient\\lib\\site-packages\\persistent\\mapping.py\", line 29, in __get__\n",
      "    return self.func(inst)\n",
      "  File \"c:\\Users\\Mohajeri.K\\AppData\\Local\\anaconda3\\envs\\patient\\lib\\site-packages\\persistent\\mapping.py\", line 149, in data\n",
      "    data = self.__dict__.pop('_container')\n",
      "KeyError: '_container'\n",
      "ERROR:ZODB.Connection:Couldn't load state for persistent.list.PersistentList 0x1b\n",
      "Traceback (most recent call last):\n",
      "  File \"c:\\Users\\Mohajeri.K\\AppData\\Local\\anaconda3\\envs\\patient\\lib\\site-packages\\ZODB\\Connection.py\", line 788, in setstate\n",
      "    self._reader.setGhostState(obj, p)\n",
      "  File \"c:\\Users\\Mohajeri.K\\AppData\\Local\\anaconda3\\envs\\patient\\lib\\site-packages\\ZODB\\serialize.py\", line 638, in setGhostState\n",
      "    state = self.getState(pickle)\n",
      "  File \"c:\\Users\\Mohajeri.K\\AppData\\Local\\anaconda3\\envs\\patient\\lib\\site-packages\\ZODB\\serialize.py\", line 631, in getState\n",
      "    return unpickler.load()\n",
      "  File \"c:\\Users\\Mohajeri.K\\AppData\\Local\\anaconda3\\envs\\patient\\lib\\site-packages\\ZODB\\serialize.py\", line 498, in _persistent_load\n",
      "    return self.load_persistent(*reference)\n",
      "  File \"c:\\Users\\Mohajeri.K\\AppData\\Local\\anaconda3\\envs\\patient\\lib\\site-packages\\ZODB\\serialize.py\", line 533, in load_persistent\n",
      "    obj = klass.__new__(klass)\n",
      "  File \"c:\\Users\\Mohajeri.K\\MyProjects\\Minos\\src\\pkg\\MedCore.py\", line 243, in __new__\n",
      "    def __init__(self, *alternatives: Treatment, rates: list=None):\n",
      "  File \"c:\\Users\\Mohajeri.K\\MyProjects\\Minos\\src\\pkg\\MedCore.py\", line 167, in __new__\n",
      "    if key in registry:\n",
      "  File \"c:\\Users\\Mohajeri.K\\AppData\\Local\\anaconda3\\envs\\patient\\lib\\collections\\__init__.py\", line 1119, in __contains__\n",
      "    return key in self.data\n",
      "  File \"c:\\Users\\Mohajeri.K\\AppData\\Local\\anaconda3\\envs\\patient\\lib\\site-packages\\ZODB\\Connection.py\", line 788, in setstate\n",
      "    self._reader.setGhostState(obj, p)\n",
      "  File \"c:\\Users\\Mohajeri.K\\AppData\\Local\\anaconda3\\envs\\patient\\lib\\site-packages\\ZODB\\serialize.py\", line 638, in setGhostState\n",
      "    state = self.getState(pickle)\n",
      "  File \"c:\\Users\\Mohajeri.K\\AppData\\Local\\anaconda3\\envs\\patient\\lib\\site-packages\\ZODB\\serialize.py\", line 631, in getState\n",
      "    return unpickler.load()\n",
      "  File \"c:\\Users\\Mohajeri.K\\AppData\\Local\\anaconda3\\envs\\patient\\lib\\site-packages\\ZODB\\serialize.py\", line 498, in _persistent_load\n",
      "    return self.load_persistent(*reference)\n",
      "  File \"c:\\Users\\Mohajeri.K\\AppData\\Local\\anaconda3\\envs\\patient\\lib\\site-packages\\ZODB\\serialize.py\", line 533, in load_persistent\n",
      "    obj = klass.__new__(klass)\n",
      "  File \"c:\\Users\\Mohajeri.K\\MyProjects\\Minos\\src\\pkg\\MedCore.py\", line 243, in __new__\n",
      "    def __init__(self, *alternatives: Treatment, rates: list=None):\n",
      "  File \"c:\\Users\\Mohajeri.K\\MyProjects\\Minos\\src\\pkg\\MedCore.py\", line 167, in __new__\n",
      "    if key in registry:\n",
      "  File \"c:\\Users\\Mohajeri.K\\AppData\\Local\\anaconda3\\envs\\patient\\lib\\collections\\__init__.py\", line 1119, in __contains__\n",
      "    return key in self.data\n",
      "  File \"c:\\Users\\Mohajeri.K\\AppData\\Local\\anaconda3\\envs\\patient\\lib\\site-packages\\persistent\\mapping.py\", line 29, in __get__\n",
      "    return self.func(inst)\n",
      "  File \"c:\\Users\\Mohajeri.K\\AppData\\Local\\anaconda3\\envs\\patient\\lib\\site-packages\\persistent\\mapping.py\", line 149, in data\n",
      "    data = self.__dict__.pop('_container')\n",
      "KeyError: '_container'\n"
     ]
    },
    {
     "ename": "KeyError",
     "evalue": "'_container'",
     "output_type": "error",
     "traceback": [
      "\u001b[1;31m---------------------------------------------------------------------------\u001b[0m",
      "\u001b[1;31mKeyError\u001b[0m                                  Traceback (most recent call last)",
      "File \u001b[1;32mc:\\Users\\Mohajeri.K\\AppData\\Local\\anaconda3\\envs\\patient\\lib\\site-packages\\IPython\\core\\formatters.py:711\u001b[0m, in \u001b[0;36mPlainTextFormatter.__call__\u001b[1;34m(self, obj)\u001b[0m\n\u001b[0;32m    704\u001b[0m stream \u001b[38;5;241m=\u001b[39m StringIO()\n\u001b[0;32m    705\u001b[0m printer \u001b[38;5;241m=\u001b[39m pretty\u001b[38;5;241m.\u001b[39mRepresentationPrinter(stream, \u001b[38;5;28mself\u001b[39m\u001b[38;5;241m.\u001b[39mverbose,\n\u001b[0;32m    706\u001b[0m     \u001b[38;5;28mself\u001b[39m\u001b[38;5;241m.\u001b[39mmax_width, \u001b[38;5;28mself\u001b[39m\u001b[38;5;241m.\u001b[39mnewline,\n\u001b[0;32m    707\u001b[0m     max_seq_length\u001b[38;5;241m=\u001b[39m\u001b[38;5;28mself\u001b[39m\u001b[38;5;241m.\u001b[39mmax_seq_length,\n\u001b[0;32m    708\u001b[0m     singleton_pprinters\u001b[38;5;241m=\u001b[39m\u001b[38;5;28mself\u001b[39m\u001b[38;5;241m.\u001b[39msingleton_printers,\n\u001b[0;32m    709\u001b[0m     type_pprinters\u001b[38;5;241m=\u001b[39m\u001b[38;5;28mself\u001b[39m\u001b[38;5;241m.\u001b[39mtype_printers,\n\u001b[0;32m    710\u001b[0m     deferred_pprinters\u001b[38;5;241m=\u001b[39m\u001b[38;5;28mself\u001b[39m\u001b[38;5;241m.\u001b[39mdeferred_printers)\n\u001b[1;32m--> 711\u001b[0m \u001b[43mprinter\u001b[49m\u001b[38;5;241;43m.\u001b[39;49m\u001b[43mpretty\u001b[49m\u001b[43m(\u001b[49m\u001b[43mobj\u001b[49m\u001b[43m)\u001b[49m\n\u001b[0;32m    712\u001b[0m printer\u001b[38;5;241m.\u001b[39mflush()\n\u001b[0;32m    713\u001b[0m \u001b[38;5;28;01mreturn\u001b[39;00m stream\u001b[38;5;241m.\u001b[39mgetvalue()\n",
      "File \u001b[1;32mc:\\Users\\Mohajeri.K\\AppData\\Local\\anaconda3\\envs\\patient\\lib\\site-packages\\IPython\\lib\\pretty.py:419\u001b[0m, in \u001b[0;36mRepresentationPrinter.pretty\u001b[1;34m(self, obj)\u001b[0m\n\u001b[0;32m    408\u001b[0m                         \u001b[38;5;28;01mreturn\u001b[39;00m meth(obj, \u001b[38;5;28mself\u001b[39m, cycle)\n\u001b[0;32m    409\u001b[0m                 \u001b[38;5;28;01mif\u001b[39;00m (\n\u001b[0;32m    410\u001b[0m                     \u001b[38;5;28mcls\u001b[39m \u001b[38;5;129;01mis\u001b[39;00m \u001b[38;5;129;01mnot\u001b[39;00m \u001b[38;5;28mobject\u001b[39m\n\u001b[0;32m    411\u001b[0m                     \u001b[38;5;66;03m# check if cls defines __repr__\u001b[39;00m\n\u001b[1;32m   (...)\u001b[0m\n\u001b[0;32m    417\u001b[0m                     \u001b[38;5;129;01mand\u001b[39;00m \u001b[38;5;28mcallable\u001b[39m(_safe_getattr(\u001b[38;5;28mcls\u001b[39m, \u001b[38;5;124m\"\u001b[39m\u001b[38;5;124m__repr__\u001b[39m\u001b[38;5;124m\"\u001b[39m, \u001b[38;5;28;01mNone\u001b[39;00m))\n\u001b[0;32m    418\u001b[0m                 ):\n\u001b[1;32m--> 419\u001b[0m                     \u001b[38;5;28;01mreturn\u001b[39;00m \u001b[43m_repr_pprint\u001b[49m\u001b[43m(\u001b[49m\u001b[43mobj\u001b[49m\u001b[43m,\u001b[49m\u001b[43m \u001b[49m\u001b[38;5;28;43mself\u001b[39;49m\u001b[43m,\u001b[49m\u001b[43m \u001b[49m\u001b[43mcycle\u001b[49m\u001b[43m)\u001b[49m\n\u001b[0;32m    421\u001b[0m     \u001b[38;5;28;01mreturn\u001b[39;00m _default_pprint(obj, \u001b[38;5;28mself\u001b[39m, cycle)\n\u001b[0;32m    422\u001b[0m \u001b[38;5;28;01mfinally\u001b[39;00m:\n",
      "File \u001b[1;32mc:\\Users\\Mohajeri.K\\AppData\\Local\\anaconda3\\envs\\patient\\lib\\site-packages\\IPython\\lib\\pretty.py:794\u001b[0m, in \u001b[0;36m_repr_pprint\u001b[1;34m(obj, p, cycle)\u001b[0m\n\u001b[0;32m    792\u001b[0m \u001b[38;5;250m\u001b[39m\u001b[38;5;124;03m\"\"\"A pprint that just redirects to the normal repr function.\"\"\"\u001b[39;00m\n\u001b[0;32m    793\u001b[0m \u001b[38;5;66;03m# Find newlines and replace them with p.break_()\u001b[39;00m\n\u001b[1;32m--> 794\u001b[0m output \u001b[38;5;241m=\u001b[39m \u001b[38;5;28;43mrepr\u001b[39;49m\u001b[43m(\u001b[49m\u001b[43mobj\u001b[49m\u001b[43m)\u001b[49m\n\u001b[0;32m    795\u001b[0m lines \u001b[38;5;241m=\u001b[39m output\u001b[38;5;241m.\u001b[39msplitlines()\n\u001b[0;32m    796\u001b[0m \u001b[38;5;28;01mwith\u001b[39;00m p\u001b[38;5;241m.\u001b[39mgroup():\n",
      "File \u001b[1;32mc:\\Users\\Mohajeri.K\\AppData\\Local\\anaconda3\\envs\\patient\\lib\\collections\\__init__.py:1123\u001b[0m, in \u001b[0;36mUserDict.__repr__\u001b[1;34m(self)\u001b[0m\n\u001b[0;32m   1122\u001b[0m \u001b[38;5;28;01mdef\u001b[39;00m \u001b[38;5;21m__repr__\u001b[39m(\u001b[38;5;28mself\u001b[39m):\n\u001b[1;32m-> 1123\u001b[0m     \u001b[38;5;28;01mreturn\u001b[39;00m \u001b[38;5;28;43mrepr\u001b[39;49m\u001b[43m(\u001b[49m\u001b[38;5;28;43mself\u001b[39;49m\u001b[38;5;241;43m.\u001b[39;49m\u001b[43mdata\u001b[49m\u001b[43m)\u001b[49m\n",
      "File \u001b[1;32mc:\\Users\\Mohajeri.K\\AppData\\Local\\anaconda3\\envs\\patient\\lib\\collections\\__init__.py:1123\u001b[0m, in \u001b[0;36mUserDict.__repr__\u001b[1;34m(self)\u001b[0m\n\u001b[0;32m   1122\u001b[0m \u001b[38;5;28;01mdef\u001b[39;00m \u001b[38;5;21m__repr__\u001b[39m(\u001b[38;5;28mself\u001b[39m):\n\u001b[1;32m-> 1123\u001b[0m     \u001b[38;5;28;01mreturn\u001b[39;00m \u001b[38;5;28;43mrepr\u001b[39;49m\u001b[43m(\u001b[49m\u001b[38;5;28;43mself\u001b[39;49m\u001b[38;5;241;43m.\u001b[39;49m\u001b[43mdata\u001b[49m\u001b[43m)\u001b[49m\n",
      "File \u001b[1;32mc:\\Users\\Mohajeri.K\\MyProjects\\Minos\\src\\pkg\\MedCore.py:429\u001b[0m, in \u001b[0;36m__repr__\u001b[1;34m(self)\u001b[0m\n\u001b[0;32m    426\u001b[0m     \u001b[38;5;28;01mdef\u001b[39;00m \u001b[38;5;21m__repr__\u001b[39m(\u001b[38;5;28mself\u001b[39m):\n\u001b[0;32m    427\u001b[0m         \u001b[38;5;28;01mreturn\u001b[39;00m \u001b[38;5;124mf\u001b[39m\u001b[38;5;124m\"\u001b[39m\u001b[38;5;124mPatient(chars=\u001b[39m\u001b[38;5;132;01m{\u001b[39;00m\u001b[38;5;28mself\u001b[39m\u001b[38;5;241m.\u001b[39mget_char_names()\u001b[38;5;132;01m}\u001b[39;00m\u001b[38;5;124m, \u001b[39m\u001b[38;5;130;01m\\n\u001b[39;00m\u001b[38;5;124mSize=\u001b[39m\u001b[38;5;132;01m{\u001b[39;00m\u001b[38;5;28mself\u001b[39m\u001b[38;5;241m.\u001b[39msize\u001b[38;5;132;01m}\u001b[39;00m\u001b[38;5;124m, \u001b[39m\u001b[38;5;130;01m\\n\u001b[39;00m\u001b[38;5;124mTreatments=\u001b[39m\u001b[38;5;132;01m{\u001b[39;00m\u001b[38;5;28mself\u001b[39m\u001b[38;5;241m.\u001b[39mtreatments\u001b[38;5;132;01m}\u001b[39;00m\u001b[38;5;124m)\u001b[39m\u001b[38;5;124m\"\u001b[39m\n\u001b[1;32m--> 429\u001b[0m \u001b[38;5;28;01mclass\u001b[39;00m \u001b[38;5;21;01mFollowUp\u001b[39;00m(Persistent):\n\u001b[0;32m    430\u001b[0m \u001b[38;5;250m    \u001b[39m\u001b[38;5;124;03m\"\"\"Represents follow-up data for a patient group after receiving treatment.\u001b[39;00m\n\u001b[0;32m    431\u001b[0m \n\u001b[0;32m    432\u001b[0m \u001b[38;5;124;03m    Attributes:\u001b[39;00m\n\u001b[1;32m   (...)\u001b[0m\n\u001b[0;32m    436\u001b[0m \u001b[38;5;124;03m        new_patient (Patient): The new patient group after adding the follow-up characteristic.\u001b[39;00m\n\u001b[0;32m    437\u001b[0m \u001b[38;5;124;03m    \"\"\"\u001b[39;00m\n\u001b[0;32m    438\u001b[0m     \u001b[38;5;28;01mdef\u001b[39;00m \u001b[38;5;21m__new__\u001b[39m(\u001b[38;5;28mcls\u001b[39m, patient: Patient\u001b[38;5;241m=\u001b[39m\u001b[38;5;28;01mNone\u001b[39;00m, overall_survival: \u001b[38;5;28mfloat\u001b[39m\u001b[38;5;241m=\u001b[39m\u001b[38;5;28;01mNone\u001b[39;00m):\n",
      "File \u001b[1;32mc:\\Users\\Mohajeri.K\\AppData\\Local\\anaconda3\\envs\\patient\\lib\\collections\\__init__.py:1193\u001b[0m, in \u001b[0;36mUserList.__repr__\u001b[1;34m(self)\u001b[0m\n\u001b[0;32m   1192\u001b[0m \u001b[38;5;28;01mdef\u001b[39;00m \u001b[38;5;21m__repr__\u001b[39m(\u001b[38;5;28mself\u001b[39m):\n\u001b[1;32m-> 1193\u001b[0m     \u001b[38;5;28;01mreturn\u001b[39;00m \u001b[38;5;28mrepr\u001b[39m(\u001b[38;5;28;43mself\u001b[39;49m\u001b[38;5;241;43m.\u001b[39;49m\u001b[43mdata\u001b[49m)\n",
      "File \u001b[1;32mc:\\Users\\Mohajeri.K\\AppData\\Local\\anaconda3\\envs\\patient\\lib\\site-packages\\ZODB\\Connection.py:788\u001b[0m, in \u001b[0;36mConnection.setstate\u001b[1;34m(self, obj)\u001b[0m\n\u001b[0;32m    784\u001b[0m p, serial \u001b[38;5;241m=\u001b[39m \u001b[38;5;28mself\u001b[39m\u001b[38;5;241m.\u001b[39m_storage\u001b[38;5;241m.\u001b[39mload(oid)\n\u001b[0;32m    786\u001b[0m \u001b[38;5;28mself\u001b[39m\u001b[38;5;241m.\u001b[39m_load_count \u001b[38;5;241m+\u001b[39m\u001b[38;5;241m=\u001b[39m \u001b[38;5;241m1\u001b[39m\n\u001b[1;32m--> 788\u001b[0m \u001b[38;5;28;43mself\u001b[39;49m\u001b[38;5;241;43m.\u001b[39;49m\u001b[43m_reader\u001b[49m\u001b[38;5;241;43m.\u001b[39;49m\u001b[43msetGhostState\u001b[49m\u001b[43m(\u001b[49m\u001b[43mobj\u001b[49m\u001b[43m,\u001b[49m\u001b[43m \u001b[49m\u001b[43mp\u001b[49m\u001b[43m)\u001b[49m\n\u001b[0;32m    789\u001b[0m obj\u001b[38;5;241m.\u001b[39m_p_serial \u001b[38;5;241m=\u001b[39m serial\n\u001b[0;32m    790\u001b[0m \u001b[38;5;28mself\u001b[39m\u001b[38;5;241m.\u001b[39m_cache\u001b[38;5;241m.\u001b[39mupdate_object_size_estimation(oid, \u001b[38;5;28mlen\u001b[39m(p))\n",
      "File \u001b[1;32mc:\\Users\\Mohajeri.K\\AppData\\Local\\anaconda3\\envs\\patient\\lib\\site-packages\\ZODB\\serialize.py:638\u001b[0m, in \u001b[0;36mObjectReader.setGhostState\u001b[1;34m(self, obj, pickle)\u001b[0m\n\u001b[0;32m    637\u001b[0m \u001b[38;5;28;01mdef\u001b[39;00m \u001b[38;5;21msetGhostState\u001b[39m(\u001b[38;5;28mself\u001b[39m, obj, pickle):\n\u001b[1;32m--> 638\u001b[0m     state \u001b[38;5;241m=\u001b[39m \u001b[38;5;28;43mself\u001b[39;49m\u001b[38;5;241;43m.\u001b[39;49m\u001b[43mgetState\u001b[49m\u001b[43m(\u001b[49m\u001b[43mpickle\u001b[49m\u001b[43m)\u001b[49m\n\u001b[0;32m    639\u001b[0m     obj\u001b[38;5;241m.\u001b[39m__setstate__(state)\n",
      "File \u001b[1;32mc:\\Users\\Mohajeri.K\\AppData\\Local\\anaconda3\\envs\\patient\\lib\\site-packages\\ZODB\\serialize.py:631\u001b[0m, in \u001b[0;36mObjectReader.getState\u001b[1;34m(self, pickle)\u001b[0m\n\u001b[0;32m    629\u001b[0m \u001b[38;5;28;01mtry\u001b[39;00m:\n\u001b[0;32m    630\u001b[0m     unpickler\u001b[38;5;241m.\u001b[39mload()  \u001b[38;5;66;03m# skip the class metadata\u001b[39;00m\n\u001b[1;32m--> 631\u001b[0m     \u001b[38;5;28;01mreturn\u001b[39;00m \u001b[43munpickler\u001b[49m\u001b[38;5;241;43m.\u001b[39;49m\u001b[43mload\u001b[49m\u001b[43m(\u001b[49m\u001b[43m)\u001b[49m\n\u001b[0;32m    632\u001b[0m \u001b[38;5;28;01mexcept\u001b[39;00m \u001b[38;5;167;01mEOFError\u001b[39;00m:\n\u001b[0;32m    633\u001b[0m     log \u001b[38;5;241m=\u001b[39m logging\u001b[38;5;241m.\u001b[39mgetLogger(\u001b[38;5;124m\"\u001b[39m\u001b[38;5;124mZODB.serialize\u001b[39m\u001b[38;5;124m\"\u001b[39m)\n",
      "File \u001b[1;32mc:\\Users\\Mohajeri.K\\AppData\\Local\\anaconda3\\envs\\patient\\lib\\site-packages\\ZODB\\serialize.py:498\u001b[0m, in \u001b[0;36mObjectReader._persistent_load\u001b[1;34m(self, reference)\u001b[0m\n\u001b[0;32m    496\u001b[0m \u001b[38;5;28;01mdef\u001b[39;00m \u001b[38;5;21m_persistent_load\u001b[39m(\u001b[38;5;28mself\u001b[39m, reference):\n\u001b[0;32m    497\u001b[0m     \u001b[38;5;28;01mif\u001b[39;00m \u001b[38;5;28misinstance\u001b[39m(reference, \u001b[38;5;28mtuple\u001b[39m):\n\u001b[1;32m--> 498\u001b[0m         \u001b[38;5;28;01mreturn\u001b[39;00m \u001b[38;5;28;43mself\u001b[39;49m\u001b[38;5;241;43m.\u001b[39;49m\u001b[43mload_persistent\u001b[49m\u001b[43m(\u001b[49m\u001b[38;5;241;43m*\u001b[39;49m\u001b[43mreference\u001b[49m\u001b[43m)\u001b[49m\n\u001b[0;32m    499\u001b[0m     \u001b[38;5;28;01melif\u001b[39;00m \u001b[38;5;28misinstance\u001b[39m(reference, (\u001b[38;5;28mbytes\u001b[39m, \u001b[38;5;28mstr\u001b[39m)):\n\u001b[0;32m    500\u001b[0m         \u001b[38;5;28;01mreturn\u001b[39;00m \u001b[38;5;28mself\u001b[39m\u001b[38;5;241m.\u001b[39mload_oid(reference)\n",
      "File \u001b[1;32mc:\\Users\\Mohajeri.K\\AppData\\Local\\anaconda3\\envs\\patient\\lib\\site-packages\\ZODB\\serialize.py:533\u001b[0m, in \u001b[0;36mObjectReader.load_persistent\u001b[1;34m(self, oid, klass)\u001b[0m\n\u001b[0;32m    530\u001b[0m         klass \u001b[38;5;241m=\u001b[39m broken\u001b[38;5;241m.\u001b[39mpersistentBroken(klass)\n\u001b[0;32m    532\u001b[0m \u001b[38;5;28;01mtry\u001b[39;00m:\n\u001b[1;32m--> 533\u001b[0m     obj \u001b[38;5;241m=\u001b[39m \u001b[43mklass\u001b[49m\u001b[38;5;241;43m.\u001b[39;49m\u001b[38;5;21;43m__new__\u001b[39;49m\u001b[43m(\u001b[49m\u001b[43mklass\u001b[49m\u001b[43m)\u001b[49m\n\u001b[0;32m    534\u001b[0m \u001b[38;5;28;01mexcept\u001b[39;00m \u001b[38;5;167;01mTypeError\u001b[39;00m:\n\u001b[0;32m    535\u001b[0m     \u001b[38;5;66;03m# Couldn't create the instance.  Maybe there's more\u001b[39;00m\n\u001b[0;32m    536\u001b[0m     \u001b[38;5;66;03m# current data in the object's actual record!\u001b[39;00m\n\u001b[0;32m    537\u001b[0m     \u001b[38;5;28;01mreturn\u001b[39;00m \u001b[38;5;28mself\u001b[39m\u001b[38;5;241m.\u001b[39m_conn\u001b[38;5;241m.\u001b[39mget(oid)\n",
      "File \u001b[1;32mc:\\Users\\Mohajeri.K\\MyProjects\\Minos\\src\\pkg\\MedCore.py:243\u001b[0m, in \u001b[0;36mAlternativeTreatments.__new__\u001b[1;34m(cls, rates, *alternatives)\u001b[0m\n\u001b[0;32m    241\u001b[0m \u001b[38;5;28;01mdef\u001b[39;00m \u001b[38;5;21m__new__\u001b[39m(\u001b[38;5;28mcls\u001b[39m, \u001b[38;5;241m*\u001b[39malternatives: Treatment, rates: \u001b[38;5;28mlist\u001b[39m\u001b[38;5;241m=\u001b[39m\u001b[38;5;28;01mNone\u001b[39;00m):\n\u001b[0;32m    242\u001b[0m     combined_name \u001b[38;5;241m=\u001b[39m \u001b[38;5;124m\"\u001b[39m\u001b[38;5;124m / \u001b[39m\u001b[38;5;124m\"\u001b[39m\u001b[38;5;241m.\u001b[39mjoin(treatment\u001b[38;5;241m.\u001b[39mname \u001b[38;5;28;01mfor\u001b[39;00m treatment \u001b[38;5;129;01min\u001b[39;00m alternatives)\n\u001b[1;32m--> 243\u001b[0m     \u001b[38;5;28;01mreturn\u001b[39;00m \u001b[38;5;28;43msuper\u001b[39;49m\u001b[43m(\u001b[49m\u001b[43m)\u001b[49m\u001b[38;5;241;43m.\u001b[39;49m\u001b[38;5;21;43m__new__\u001b[39;49m\u001b[43m(\u001b[49m\u001b[38;5;28;43mcls\u001b[39;49m\u001b[43m,\u001b[49m\u001b[43m \u001b[49m\u001b[43mcombined_name\u001b[49m\u001b[43m)\u001b[49m\n",
      "File \u001b[1;32mc:\\Users\\Mohajeri.K\\MyProjects\\Minos\\src\\pkg\\MedCore.py:167\u001b[0m, in \u001b[0;36mTreatment.__new__\u001b[1;34m(cls, name)\u001b[0m\n\u001b[0;32m    165\u001b[0m registry \u001b[38;5;241m=\u001b[39m RegistryManager()\u001b[38;5;241m.\u001b[39mget_registry(\u001b[38;5;124m'\u001b[39m\u001b[38;5;124mtreatment_registry\u001b[39m\u001b[38;5;124m'\u001b[39m)\n\u001b[0;32m    166\u001b[0m key \u001b[38;5;241m=\u001b[39m (\u001b[38;5;28mcls\u001b[39m\u001b[38;5;241m.\u001b[39m\u001b[38;5;18m__name__\u001b[39m, name)\n\u001b[1;32m--> 167\u001b[0m \u001b[38;5;28;01mif\u001b[39;00m \u001b[43mkey\u001b[49m\u001b[43m \u001b[49m\u001b[38;5;129;43;01min\u001b[39;49;00m\u001b[43m \u001b[49m\u001b[43mregistry\u001b[49m:\n\u001b[0;32m    168\u001b[0m     \u001b[38;5;28;01mreturn\u001b[39;00m registry[key]\n\u001b[0;32m    169\u001b[0m \u001b[38;5;28;01melse\u001b[39;00m:\n",
      "File \u001b[1;32mc:\\Users\\Mohajeri.K\\AppData\\Local\\anaconda3\\envs\\patient\\lib\\collections\\__init__.py:1119\u001b[0m, in \u001b[0;36mUserDict.__contains__\u001b[1;34m(self, key)\u001b[0m\n\u001b[0;32m   1118\u001b[0m \u001b[38;5;28;01mdef\u001b[39;00m \u001b[38;5;21m__contains__\u001b[39m(\u001b[38;5;28mself\u001b[39m, key):\n\u001b[1;32m-> 1119\u001b[0m     \u001b[38;5;28;01mreturn\u001b[39;00m key \u001b[38;5;129;01min\u001b[39;00m \u001b[38;5;28;43mself\u001b[39;49m\u001b[38;5;241;43m.\u001b[39;49m\u001b[43mdata\u001b[49m\n",
      "File \u001b[1;32mc:\\Users\\Mohajeri.K\\AppData\\Local\\anaconda3\\envs\\patient\\lib\\site-packages\\ZODB\\Connection.py:788\u001b[0m, in \u001b[0;36mConnection.setstate\u001b[1;34m(self, obj)\u001b[0m\n\u001b[0;32m    784\u001b[0m p, serial \u001b[38;5;241m=\u001b[39m \u001b[38;5;28mself\u001b[39m\u001b[38;5;241m.\u001b[39m_storage\u001b[38;5;241m.\u001b[39mload(oid)\n\u001b[0;32m    786\u001b[0m \u001b[38;5;28mself\u001b[39m\u001b[38;5;241m.\u001b[39m_load_count \u001b[38;5;241m+\u001b[39m\u001b[38;5;241m=\u001b[39m \u001b[38;5;241m1\u001b[39m\n\u001b[1;32m--> 788\u001b[0m \u001b[38;5;28;43mself\u001b[39;49m\u001b[38;5;241;43m.\u001b[39;49m\u001b[43m_reader\u001b[49m\u001b[38;5;241;43m.\u001b[39;49m\u001b[43msetGhostState\u001b[49m\u001b[43m(\u001b[49m\u001b[43mobj\u001b[49m\u001b[43m,\u001b[49m\u001b[43m \u001b[49m\u001b[43mp\u001b[49m\u001b[43m)\u001b[49m\n\u001b[0;32m    789\u001b[0m obj\u001b[38;5;241m.\u001b[39m_p_serial \u001b[38;5;241m=\u001b[39m serial\n\u001b[0;32m    790\u001b[0m \u001b[38;5;28mself\u001b[39m\u001b[38;5;241m.\u001b[39m_cache\u001b[38;5;241m.\u001b[39mupdate_object_size_estimation(oid, \u001b[38;5;28mlen\u001b[39m(p))\n",
      "File \u001b[1;32mc:\\Users\\Mohajeri.K\\AppData\\Local\\anaconda3\\envs\\patient\\lib\\site-packages\\ZODB\\serialize.py:638\u001b[0m, in \u001b[0;36mObjectReader.setGhostState\u001b[1;34m(self, obj, pickle)\u001b[0m\n\u001b[0;32m    637\u001b[0m \u001b[38;5;28;01mdef\u001b[39;00m \u001b[38;5;21msetGhostState\u001b[39m(\u001b[38;5;28mself\u001b[39m, obj, pickle):\n\u001b[1;32m--> 638\u001b[0m     state \u001b[38;5;241m=\u001b[39m \u001b[38;5;28;43mself\u001b[39;49m\u001b[38;5;241;43m.\u001b[39;49m\u001b[43mgetState\u001b[49m\u001b[43m(\u001b[49m\u001b[43mpickle\u001b[49m\u001b[43m)\u001b[49m\n\u001b[0;32m    639\u001b[0m     obj\u001b[38;5;241m.\u001b[39m__setstate__(state)\n",
      "File \u001b[1;32mc:\\Users\\Mohajeri.K\\AppData\\Local\\anaconda3\\envs\\patient\\lib\\site-packages\\ZODB\\serialize.py:631\u001b[0m, in \u001b[0;36mObjectReader.getState\u001b[1;34m(self, pickle)\u001b[0m\n\u001b[0;32m    629\u001b[0m \u001b[38;5;28;01mtry\u001b[39;00m:\n\u001b[0;32m    630\u001b[0m     unpickler\u001b[38;5;241m.\u001b[39mload()  \u001b[38;5;66;03m# skip the class metadata\u001b[39;00m\n\u001b[1;32m--> 631\u001b[0m     \u001b[38;5;28;01mreturn\u001b[39;00m \u001b[43munpickler\u001b[49m\u001b[38;5;241;43m.\u001b[39;49m\u001b[43mload\u001b[49m\u001b[43m(\u001b[49m\u001b[43m)\u001b[49m\n\u001b[0;32m    632\u001b[0m \u001b[38;5;28;01mexcept\u001b[39;00m \u001b[38;5;167;01mEOFError\u001b[39;00m:\n\u001b[0;32m    633\u001b[0m     log \u001b[38;5;241m=\u001b[39m logging\u001b[38;5;241m.\u001b[39mgetLogger(\u001b[38;5;124m\"\u001b[39m\u001b[38;5;124mZODB.serialize\u001b[39m\u001b[38;5;124m\"\u001b[39m)\n",
      "File \u001b[1;32mc:\\Users\\Mohajeri.K\\AppData\\Local\\anaconda3\\envs\\patient\\lib\\site-packages\\ZODB\\serialize.py:498\u001b[0m, in \u001b[0;36mObjectReader._persistent_load\u001b[1;34m(self, reference)\u001b[0m\n\u001b[0;32m    496\u001b[0m \u001b[38;5;28;01mdef\u001b[39;00m \u001b[38;5;21m_persistent_load\u001b[39m(\u001b[38;5;28mself\u001b[39m, reference):\n\u001b[0;32m    497\u001b[0m     \u001b[38;5;28;01mif\u001b[39;00m \u001b[38;5;28misinstance\u001b[39m(reference, \u001b[38;5;28mtuple\u001b[39m):\n\u001b[1;32m--> 498\u001b[0m         \u001b[38;5;28;01mreturn\u001b[39;00m \u001b[38;5;28;43mself\u001b[39;49m\u001b[38;5;241;43m.\u001b[39;49m\u001b[43mload_persistent\u001b[49m\u001b[43m(\u001b[49m\u001b[38;5;241;43m*\u001b[39;49m\u001b[43mreference\u001b[49m\u001b[43m)\u001b[49m\n\u001b[0;32m    499\u001b[0m     \u001b[38;5;28;01melif\u001b[39;00m \u001b[38;5;28misinstance\u001b[39m(reference, (\u001b[38;5;28mbytes\u001b[39m, \u001b[38;5;28mstr\u001b[39m)):\n\u001b[0;32m    500\u001b[0m         \u001b[38;5;28;01mreturn\u001b[39;00m \u001b[38;5;28mself\u001b[39m\u001b[38;5;241m.\u001b[39mload_oid(reference)\n",
      "File \u001b[1;32mc:\\Users\\Mohajeri.K\\AppData\\Local\\anaconda3\\envs\\patient\\lib\\site-packages\\ZODB\\serialize.py:533\u001b[0m, in \u001b[0;36mObjectReader.load_persistent\u001b[1;34m(self, oid, klass)\u001b[0m\n\u001b[0;32m    530\u001b[0m         klass \u001b[38;5;241m=\u001b[39m broken\u001b[38;5;241m.\u001b[39mpersistentBroken(klass)\n\u001b[0;32m    532\u001b[0m \u001b[38;5;28;01mtry\u001b[39;00m:\n\u001b[1;32m--> 533\u001b[0m     obj \u001b[38;5;241m=\u001b[39m \u001b[43mklass\u001b[49m\u001b[38;5;241;43m.\u001b[39;49m\u001b[38;5;21;43m__new__\u001b[39;49m\u001b[43m(\u001b[49m\u001b[43mklass\u001b[49m\u001b[43m)\u001b[49m\n\u001b[0;32m    534\u001b[0m \u001b[38;5;28;01mexcept\u001b[39;00m \u001b[38;5;167;01mTypeError\u001b[39;00m:\n\u001b[0;32m    535\u001b[0m     \u001b[38;5;66;03m# Couldn't create the instance.  Maybe there's more\u001b[39;00m\n\u001b[0;32m    536\u001b[0m     \u001b[38;5;66;03m# current data in the object's actual record!\u001b[39;00m\n\u001b[0;32m    537\u001b[0m     \u001b[38;5;28;01mreturn\u001b[39;00m \u001b[38;5;28mself\u001b[39m\u001b[38;5;241m.\u001b[39m_conn\u001b[38;5;241m.\u001b[39mget(oid)\n",
      "File \u001b[1;32mc:\\Users\\Mohajeri.K\\MyProjects\\Minos\\src\\pkg\\MedCore.py:243\u001b[0m, in \u001b[0;36mAlternativeTreatments.__new__\u001b[1;34m(cls, rates, *alternatives)\u001b[0m\n\u001b[0;32m    241\u001b[0m \u001b[38;5;28;01mdef\u001b[39;00m \u001b[38;5;21m__new__\u001b[39m(\u001b[38;5;28mcls\u001b[39m, \u001b[38;5;241m*\u001b[39malternatives: Treatment, rates: \u001b[38;5;28mlist\u001b[39m\u001b[38;5;241m=\u001b[39m\u001b[38;5;28;01mNone\u001b[39;00m):\n\u001b[0;32m    242\u001b[0m     combined_name \u001b[38;5;241m=\u001b[39m \u001b[38;5;124m\"\u001b[39m\u001b[38;5;124m / \u001b[39m\u001b[38;5;124m\"\u001b[39m\u001b[38;5;241m.\u001b[39mjoin(treatment\u001b[38;5;241m.\u001b[39mname \u001b[38;5;28;01mfor\u001b[39;00m treatment \u001b[38;5;129;01min\u001b[39;00m alternatives)\n\u001b[1;32m--> 243\u001b[0m     \u001b[38;5;28;01mreturn\u001b[39;00m \u001b[38;5;28;43msuper\u001b[39;49m\u001b[43m(\u001b[49m\u001b[43m)\u001b[49m\u001b[38;5;241;43m.\u001b[39;49m\u001b[38;5;21;43m__new__\u001b[39;49m\u001b[43m(\u001b[49m\u001b[38;5;28;43mcls\u001b[39;49m\u001b[43m,\u001b[49m\u001b[43m \u001b[49m\u001b[43mcombined_name\u001b[49m\u001b[43m)\u001b[49m\n",
      "File \u001b[1;32mc:\\Users\\Mohajeri.K\\MyProjects\\Minos\\src\\pkg\\MedCore.py:167\u001b[0m, in \u001b[0;36mTreatment.__new__\u001b[1;34m(cls, name)\u001b[0m\n\u001b[0;32m    165\u001b[0m registry \u001b[38;5;241m=\u001b[39m RegistryManager()\u001b[38;5;241m.\u001b[39mget_registry(\u001b[38;5;124m'\u001b[39m\u001b[38;5;124mtreatment_registry\u001b[39m\u001b[38;5;124m'\u001b[39m)\n\u001b[0;32m    166\u001b[0m key \u001b[38;5;241m=\u001b[39m (\u001b[38;5;28mcls\u001b[39m\u001b[38;5;241m.\u001b[39m\u001b[38;5;18m__name__\u001b[39m, name)\n\u001b[1;32m--> 167\u001b[0m \u001b[38;5;28;01mif\u001b[39;00m \u001b[43mkey\u001b[49m\u001b[43m \u001b[49m\u001b[38;5;129;43;01min\u001b[39;49;00m\u001b[43m \u001b[49m\u001b[43mregistry\u001b[49m:\n\u001b[0;32m    168\u001b[0m     \u001b[38;5;28;01mreturn\u001b[39;00m registry[key]\n\u001b[0;32m    169\u001b[0m \u001b[38;5;28;01melse\u001b[39;00m:\n",
      "File \u001b[1;32mc:\\Users\\Mohajeri.K\\AppData\\Local\\anaconda3\\envs\\patient\\lib\\collections\\__init__.py:1119\u001b[0m, in \u001b[0;36mUserDict.__contains__\u001b[1;34m(self, key)\u001b[0m\n\u001b[0;32m   1118\u001b[0m \u001b[38;5;28;01mdef\u001b[39;00m \u001b[38;5;21m__contains__\u001b[39m(\u001b[38;5;28mself\u001b[39m, key):\n\u001b[1;32m-> 1119\u001b[0m     \u001b[38;5;28;01mreturn\u001b[39;00m key \u001b[38;5;129;01min\u001b[39;00m \u001b[38;5;28;43mself\u001b[39;49m\u001b[38;5;241;43m.\u001b[39;49m\u001b[43mdata\u001b[49m\n",
      "File \u001b[1;32mc:\\Users\\Mohajeri.K\\AppData\\Local\\anaconda3\\envs\\patient\\lib\\site-packages\\persistent\\mapping.py:29\u001b[0m, in \u001b[0;36mdefault.__get__\u001b[1;34m(self, inst, class_)\u001b[0m\n\u001b[0;32m     27\u001b[0m \u001b[38;5;28;01mif\u001b[39;00m inst \u001b[38;5;129;01mis\u001b[39;00m \u001b[38;5;28;01mNone\u001b[39;00m:\n\u001b[0;32m     28\u001b[0m     \u001b[38;5;28;01mreturn\u001b[39;00m \u001b[38;5;28mself\u001b[39m\n\u001b[1;32m---> 29\u001b[0m \u001b[38;5;28;01mreturn\u001b[39;00m \u001b[38;5;28;43mself\u001b[39;49m\u001b[38;5;241;43m.\u001b[39;49m\u001b[43mfunc\u001b[49m\u001b[43m(\u001b[49m\u001b[43minst\u001b[49m\u001b[43m)\u001b[49m\n",
      "File \u001b[1;32mc:\\Users\\Mohajeri.K\\AppData\\Local\\anaconda3\\envs\\patient\\lib\\site-packages\\persistent\\mapping.py:149\u001b[0m, in \u001b[0;36mPersistentMapping.data\u001b[1;34m(self)\u001b[0m\n\u001b[0;32m    143\u001b[0m \u001b[38;5;129m@default\u001b[39m\n\u001b[0;32m    144\u001b[0m \u001b[38;5;28;01mdef\u001b[39;00m \u001b[38;5;21mdata\u001b[39m(\u001b[38;5;28mself\u001b[39m):\n\u001b[0;32m    145\u001b[0m     \u001b[38;5;66;03m# We don't want to cause a write on read, so we're careful not to\u001b[39;00m\n\u001b[0;32m    146\u001b[0m     \u001b[38;5;66;03m# do anything that would cause us to become marked as changed, however,\u001b[39;00m\n\u001b[0;32m    147\u001b[0m     \u001b[38;5;66;03m# if we're modified, then the saved record will have data, not\u001b[39;00m\n\u001b[0;32m    148\u001b[0m     \u001b[38;5;66;03m# _container.\u001b[39;00m\n\u001b[1;32m--> 149\u001b[0m     data \u001b[38;5;241m=\u001b[39m \u001b[38;5;28;43mself\u001b[39;49m\u001b[38;5;241;43m.\u001b[39;49m\u001b[38;5;18;43m__dict__\u001b[39;49m\u001b[38;5;241;43m.\u001b[39;49m\u001b[43mpop\u001b[49m\u001b[43m(\u001b[49m\u001b[38;5;124;43m'\u001b[39;49m\u001b[38;5;124;43m_container\u001b[39;49m\u001b[38;5;124;43m'\u001b[39;49m\u001b[43m)\u001b[49m\n\u001b[0;32m    150\u001b[0m     \u001b[38;5;28mself\u001b[39m\u001b[38;5;241m.\u001b[39m\u001b[38;5;18m__dict__\u001b[39m[\u001b[38;5;124m'\u001b[39m\u001b[38;5;124mdata\u001b[39m\u001b[38;5;124m'\u001b[39m] \u001b[38;5;241m=\u001b[39m data\n\u001b[0;32m    152\u001b[0m     \u001b[38;5;28;01mreturn\u001b[39;00m data\n",
      "\u001b[1;31mKeyError\u001b[0m: '_container'"
     ]
    }
   ],
   "source": [
    "rm.root"
   ]
  },
  {
   "cell_type": "code",
   "execution_count": 5,
   "metadata": {},
   "outputs": [
    {
     "name": "stderr",
     "output_type": "stream",
     "text": [
      "ERROR:ZODB.Connection:Shouldn't load state for MedCore.Characteristic 0x18 when the connection is closed\n",
      "Traceback (most recent call last):\n",
      "  File \"c:\\Users\\Mohajeri.K\\AppData\\Local\\anaconda3\\envs\\patient\\lib\\site-packages\\ZODB\\Connection.py\", line 778, in setstate\n",
      "    raise ConnectionStateError(msg)\n",
      "ZODB.POSException.ConnectionStateError: Shouldn't load state for MedCore.Characteristic 0x18 when the connection is closed\n"
     ]
    },
    {
     "ename": "ConnectionStateError",
     "evalue": "Shouldn't load state for MedCore.Characteristic 0x18 when the connection is closed",
     "output_type": "error",
     "traceback": [
      "\u001b[1;31m---------------------------------------------------------------------------\u001b[0m",
      "\u001b[1;31mConnectionStateError\u001b[0m                      Traceback (most recent call last)",
      "Cell \u001b[1;32mIn[5], line 3\u001b[0m\n\u001b[0;32m      1\u001b[0m rm \u001b[38;5;241m=\u001b[39m RegistryManager()\n\u001b[0;32m      2\u001b[0m registry \u001b[38;5;241m=\u001b[39m rm\u001b[38;5;241m.\u001b[39mget_registry(\u001b[38;5;124m'\u001b[39m\u001b[38;5;124mcharacteristic_registry\u001b[39m\u001b[38;5;124m'\u001b[39m)\n\u001b[1;32m----> 3\u001b[0m \u001b[38;5;28;43mprint\u001b[39;49m\u001b[43m(\u001b[49m\u001b[43mregistry\u001b[49m\u001b[43m)\u001b[49m\n",
      "File \u001b[1;32mc:\\Users\\Mohajeri.K\\AppData\\Local\\anaconda3\\envs\\patient\\lib\\collections\\__init__.py:1123\u001b[0m, in \u001b[0;36mUserDict.__repr__\u001b[1;34m(self)\u001b[0m\n\u001b[0;32m   1122\u001b[0m \u001b[38;5;28;01mdef\u001b[39;00m \u001b[38;5;21m__repr__\u001b[39m(\u001b[38;5;28mself\u001b[39m):\n\u001b[1;32m-> 1123\u001b[0m     \u001b[38;5;28;01mreturn\u001b[39;00m \u001b[38;5;28;43mrepr\u001b[39;49m\u001b[43m(\u001b[49m\u001b[38;5;28;43mself\u001b[39;49m\u001b[38;5;241;43m.\u001b[39;49m\u001b[43mdata\u001b[49m\u001b[43m)\u001b[49m\n",
      "File \u001b[1;32mc:\\Users\\Mohajeri.K\\MyProjects\\Minos\\src\\pkg\\MedCore.py:73\u001b[0m, in \u001b[0;36mCharacteristic.__repr__\u001b[1;34m(self)\u001b[0m\n\u001b[0;32m     72\u001b[0m \u001b[38;5;28;01mdef\u001b[39;00m \u001b[38;5;21m__repr__\u001b[39m(\u001b[38;5;28mself\u001b[39m):\n\u001b[1;32m---> 73\u001b[0m     \u001b[38;5;28;01mreturn\u001b[39;00m \u001b[38;5;124mf\u001b[39m\u001b[38;5;124m\"\u001b[39m\u001b[38;5;130;01m\\n\u001b[39;00m\u001b[38;5;124mCharacteristic(\u001b[39m\u001b[38;5;124m'\u001b[39m\u001b[38;5;124mtype: \u001b[39m\u001b[38;5;132;01m{\u001b[39;00m\u001b[38;5;28;43mself\u001b[39;49m\u001b[38;5;241;43m.\u001b[39;49m\u001b[43mtype\u001b[49m\u001b[38;5;132;01m}\u001b[39;00m\u001b[38;5;124m, name: \u001b[39m\u001b[38;5;132;01m{\u001b[39;00m\u001b[38;5;28mself\u001b[39m\u001b[38;5;241m.\u001b[39mname\u001b[38;5;132;01m}\u001b[39;00m\u001b[38;5;124m'\u001b[39m\u001b[38;5;124m)\u001b[39m\u001b[38;5;124m\"\u001b[39m\n",
      "File \u001b[1;32mc:\\Users\\Mohajeri.K\\AppData\\Local\\anaconda3\\envs\\patient\\lib\\site-packages\\ZODB\\Connection.py:778\u001b[0m, in \u001b[0;36mConnection.setstate\u001b[1;34m(self, obj)\u001b[0m\n\u001b[0;32m    774\u001b[0m msg \u001b[38;5;241m=\u001b[39m (\u001b[38;5;124m\"\u001b[39m\u001b[38;5;124mShouldn\u001b[39m\u001b[38;5;124m'\u001b[39m\u001b[38;5;124mt load state for \u001b[39m\u001b[38;5;132;01m%s\u001b[39;00m\u001b[38;5;124m \u001b[39m\u001b[38;5;132;01m%s\u001b[39;00m\u001b[38;5;124m \u001b[39m\u001b[38;5;124m\"\u001b[39m\n\u001b[0;32m    775\u001b[0m        \u001b[38;5;124m\"\u001b[39m\u001b[38;5;124mwhen the connection is closed\u001b[39m\u001b[38;5;124m\"\u001b[39m\n\u001b[0;32m    776\u001b[0m        \u001b[38;5;241m%\u001b[39m (className(obj), oid_repr(oid)))\n\u001b[0;32m    777\u001b[0m \u001b[38;5;28;01mtry\u001b[39;00m:\n\u001b[1;32m--> 778\u001b[0m     \u001b[38;5;28;01mraise\u001b[39;00m ConnectionStateError(msg)\n\u001b[0;32m    779\u001b[0m \u001b[38;5;28;01mexcept\u001b[39;00m:  \u001b[38;5;66;03m# noqa: E722 do not use bare 'except'\u001b[39;00m\n\u001b[0;32m    780\u001b[0m     \u001b[38;5;28mself\u001b[39m\u001b[38;5;241m.\u001b[39m_log\u001b[38;5;241m.\u001b[39mexception(msg)\n",
      "\u001b[1;31mConnectionStateError\u001b[0m: Shouldn't load state for MedCore.Characteristic 0x18 when the connection is closed"
     ]
    }
   ],
   "source": [
    "rm = RegistryManager()\n",
    "registry = rm.get_registry('characteristic_registry')\n",
    "print(registry)"
   ]
  },
  {
   "cell_type": "code",
   "execution_count": 4,
   "metadata": {},
   "outputs": [],
   "source": [
    "rm.close()"
   ]
  },
  {
   "cell_type": "code",
   "execution_count": 4,
   "metadata": {},
   "outputs": [
    {
     "name": "stderr",
     "output_type": "stream",
     "text": [
      "ERROR:ZODB.Connection:Couldn't load state for persistent.mapping.PersistentMapping 0x04\n",
      "Traceback (most recent call last):\n",
      "  File \"c:\\Users\\Mohajeri.K\\AppData\\Local\\anaconda3\\envs\\patient\\lib\\site-packages\\ZODB\\Connection.py\", line 788, in setstate\n",
      "    self._reader.setGhostState(obj, p)\n",
      "  File \"c:\\Users\\Mohajeri.K\\AppData\\Local\\anaconda3\\envs\\patient\\lib\\site-packages\\ZODB\\serialize.py\", line 638, in setGhostState\n",
      "    state = self.getState(pickle)\n",
      "  File \"c:\\Users\\Mohajeri.K\\AppData\\Local\\anaconda3\\envs\\patient\\lib\\site-packages\\ZODB\\serialize.py\", line 631, in getState\n",
      "    return unpickler.load()\n",
      "  File \"c:\\Users\\Mohajeri.K\\AppData\\Local\\anaconda3\\envs\\patient\\lib\\site-packages\\ZODB\\serialize.py\", line 498, in _persistent_load\n",
      "    return self.load_persistent(*reference)\n",
      "  File \"c:\\Users\\Mohajeri.K\\AppData\\Local\\anaconda3\\envs\\patient\\lib\\site-packages\\ZODB\\serialize.py\", line 533, in load_persistent\n",
      "    obj = klass.__new__(klass)\n",
      "  File \"c:\\Users\\Mohajeri.K\\MyProjects\\Minos\\src\\pkg\\MedCore.py\", line 243, in __new__\n",
      "    return super().__new__(cls, combined_name)\n",
      "  File \"c:\\Users\\Mohajeri.K\\MyProjects\\Minos\\src\\pkg\\MedCore.py\", line 167, in __new__\n",
      "    if key in registry:\n",
      "  File \"c:\\Users\\Mohajeri.K\\AppData\\Local\\anaconda3\\envs\\patient\\lib\\collections\\__init__.py\", line 1119, in __contains__\n",
      "    return key in self.data\n",
      "  File \"c:\\Users\\Mohajeri.K\\AppData\\Local\\anaconda3\\envs\\patient\\lib\\site-packages\\persistent\\mapping.py\", line 29, in __get__\n",
      "    return self.func(inst)\n",
      "  File \"c:\\Users\\Mohajeri.K\\AppData\\Local\\anaconda3\\envs\\patient\\lib\\site-packages\\persistent\\mapping.py\", line 149, in data\n",
      "    data = self.__dict__.pop('_container')\n",
      "KeyError: '_container'\n",
      "ERROR:ZODB.Connection:Couldn't load state for persistent.list.PersistentList 0x1b\n",
      "Traceback (most recent call last):\n",
      "  File \"c:\\Users\\Mohajeri.K\\AppData\\Local\\anaconda3\\envs\\patient\\lib\\site-packages\\ZODB\\Connection.py\", line 788, in setstate\n",
      "    self._reader.setGhostState(obj, p)\n",
      "  File \"c:\\Users\\Mohajeri.K\\AppData\\Local\\anaconda3\\envs\\patient\\lib\\site-packages\\ZODB\\serialize.py\", line 638, in setGhostState\n",
      "    state = self.getState(pickle)\n",
      "  File \"c:\\Users\\Mohajeri.K\\AppData\\Local\\anaconda3\\envs\\patient\\lib\\site-packages\\ZODB\\serialize.py\", line 631, in getState\n",
      "    return unpickler.load()\n",
      "  File \"c:\\Users\\Mohajeri.K\\AppData\\Local\\anaconda3\\envs\\patient\\lib\\site-packages\\ZODB\\serialize.py\", line 498, in _persistent_load\n",
      "    return self.load_persistent(*reference)\n",
      "  File \"c:\\Users\\Mohajeri.K\\AppData\\Local\\anaconda3\\envs\\patient\\lib\\site-packages\\ZODB\\serialize.py\", line 533, in load_persistent\n",
      "    obj = klass.__new__(klass)\n",
      "  File \"c:\\Users\\Mohajeri.K\\MyProjects\\Minos\\src\\pkg\\MedCore.py\", line 243, in __new__\n",
      "    return super().__new__(cls, combined_name)\n",
      "  File \"c:\\Users\\Mohajeri.K\\MyProjects\\Minos\\src\\pkg\\MedCore.py\", line 167, in __new__\n",
      "    if key in registry:\n",
      "  File \"c:\\Users\\Mohajeri.K\\AppData\\Local\\anaconda3\\envs\\patient\\lib\\collections\\__init__.py\", line 1119, in __contains__\n",
      "    return key in self.data\n",
      "  File \"c:\\Users\\Mohajeri.K\\AppData\\Local\\anaconda3\\envs\\patient\\lib\\site-packages\\ZODB\\Connection.py\", line 788, in setstate\n",
      "    self._reader.setGhostState(obj, p)\n",
      "  File \"c:\\Users\\Mohajeri.K\\AppData\\Local\\anaconda3\\envs\\patient\\lib\\site-packages\\ZODB\\serialize.py\", line 638, in setGhostState\n",
      "    state = self.getState(pickle)\n",
      "  File \"c:\\Users\\Mohajeri.K\\AppData\\Local\\anaconda3\\envs\\patient\\lib\\site-packages\\ZODB\\serialize.py\", line 631, in getState\n",
      "    return unpickler.load()\n",
      "  File \"c:\\Users\\Mohajeri.K\\AppData\\Local\\anaconda3\\envs\\patient\\lib\\site-packages\\ZODB\\serialize.py\", line 498, in _persistent_load\n",
      "    return self.load_persistent(*reference)\n",
      "  File \"c:\\Users\\Mohajeri.K\\AppData\\Local\\anaconda3\\envs\\patient\\lib\\site-packages\\ZODB\\serialize.py\", line 533, in load_persistent\n",
      "    obj = klass.__new__(klass)\n",
      "  File \"c:\\Users\\Mohajeri.K\\MyProjects\\Minos\\src\\pkg\\MedCore.py\", line 243, in __new__\n",
      "    return super().__new__(cls, combined_name)\n",
      "  File \"c:\\Users\\Mohajeri.K\\MyProjects\\Minos\\src\\pkg\\MedCore.py\", line 167, in __new__\n",
      "    if key in registry:\n",
      "  File \"c:\\Users\\Mohajeri.K\\AppData\\Local\\anaconda3\\envs\\patient\\lib\\collections\\__init__.py\", line 1119, in __contains__\n",
      "    return key in self.data\n",
      "  File \"c:\\Users\\Mohajeri.K\\AppData\\Local\\anaconda3\\envs\\patient\\lib\\site-packages\\persistent\\mapping.py\", line 29, in __get__\n",
      "    return self.func(inst)\n",
      "  File \"c:\\Users\\Mohajeri.K\\AppData\\Local\\anaconda3\\envs\\patient\\lib\\site-packages\\persistent\\mapping.py\", line 149, in data\n",
      "    data = self.__dict__.pop('_container')\n",
      "KeyError: '_container'\n"
     ]
    },
    {
     "ename": "KeyError",
     "evalue": "'_container'",
     "output_type": "error",
     "traceback": [
      "\u001b[1;31m---------------------------------------------------------------------------\u001b[0m",
      "\u001b[1;31mKeyError\u001b[0m                                  Traceback (most recent call last)",
      "File \u001b[1;32mc:\\Users\\Mohajeri.K\\AppData\\Local\\anaconda3\\envs\\patient\\lib\\site-packages\\IPython\\core\\formatters.py:711\u001b[0m, in \u001b[0;36mPlainTextFormatter.__call__\u001b[1;34m(self, obj)\u001b[0m\n\u001b[0;32m    704\u001b[0m stream \u001b[38;5;241m=\u001b[39m StringIO()\n\u001b[0;32m    705\u001b[0m printer \u001b[38;5;241m=\u001b[39m pretty\u001b[38;5;241m.\u001b[39mRepresentationPrinter(stream, \u001b[38;5;28mself\u001b[39m\u001b[38;5;241m.\u001b[39mverbose,\n\u001b[0;32m    706\u001b[0m     \u001b[38;5;28mself\u001b[39m\u001b[38;5;241m.\u001b[39mmax_width, \u001b[38;5;28mself\u001b[39m\u001b[38;5;241m.\u001b[39mnewline,\n\u001b[0;32m    707\u001b[0m     max_seq_length\u001b[38;5;241m=\u001b[39m\u001b[38;5;28mself\u001b[39m\u001b[38;5;241m.\u001b[39mmax_seq_length,\n\u001b[0;32m    708\u001b[0m     singleton_pprinters\u001b[38;5;241m=\u001b[39m\u001b[38;5;28mself\u001b[39m\u001b[38;5;241m.\u001b[39msingleton_printers,\n\u001b[0;32m    709\u001b[0m     type_pprinters\u001b[38;5;241m=\u001b[39m\u001b[38;5;28mself\u001b[39m\u001b[38;5;241m.\u001b[39mtype_printers,\n\u001b[0;32m    710\u001b[0m     deferred_pprinters\u001b[38;5;241m=\u001b[39m\u001b[38;5;28mself\u001b[39m\u001b[38;5;241m.\u001b[39mdeferred_printers)\n\u001b[1;32m--> 711\u001b[0m \u001b[43mprinter\u001b[49m\u001b[38;5;241;43m.\u001b[39;49m\u001b[43mpretty\u001b[49m\u001b[43m(\u001b[49m\u001b[43mobj\u001b[49m\u001b[43m)\u001b[49m\n\u001b[0;32m    712\u001b[0m printer\u001b[38;5;241m.\u001b[39mflush()\n\u001b[0;32m    713\u001b[0m \u001b[38;5;28;01mreturn\u001b[39;00m stream\u001b[38;5;241m.\u001b[39mgetvalue()\n",
      "File \u001b[1;32mc:\\Users\\Mohajeri.K\\AppData\\Local\\anaconda3\\envs\\patient\\lib\\site-packages\\IPython\\lib\\pretty.py:419\u001b[0m, in \u001b[0;36mRepresentationPrinter.pretty\u001b[1;34m(self, obj)\u001b[0m\n\u001b[0;32m    408\u001b[0m                         \u001b[38;5;28;01mreturn\u001b[39;00m meth(obj, \u001b[38;5;28mself\u001b[39m, cycle)\n\u001b[0;32m    409\u001b[0m                 \u001b[38;5;28;01mif\u001b[39;00m (\n\u001b[0;32m    410\u001b[0m                     \u001b[38;5;28mcls\u001b[39m \u001b[38;5;129;01mis\u001b[39;00m \u001b[38;5;129;01mnot\u001b[39;00m \u001b[38;5;28mobject\u001b[39m\n\u001b[0;32m    411\u001b[0m                     \u001b[38;5;66;03m# check if cls defines __repr__\u001b[39;00m\n\u001b[1;32m   (...)\u001b[0m\n\u001b[0;32m    417\u001b[0m                     \u001b[38;5;129;01mand\u001b[39;00m \u001b[38;5;28mcallable\u001b[39m(_safe_getattr(\u001b[38;5;28mcls\u001b[39m, \u001b[38;5;124m\"\u001b[39m\u001b[38;5;124m__repr__\u001b[39m\u001b[38;5;124m\"\u001b[39m, \u001b[38;5;28;01mNone\u001b[39;00m))\n\u001b[0;32m    418\u001b[0m                 ):\n\u001b[1;32m--> 419\u001b[0m                     \u001b[38;5;28;01mreturn\u001b[39;00m \u001b[43m_repr_pprint\u001b[49m\u001b[43m(\u001b[49m\u001b[43mobj\u001b[49m\u001b[43m,\u001b[49m\u001b[43m \u001b[49m\u001b[38;5;28;43mself\u001b[39;49m\u001b[43m,\u001b[49m\u001b[43m \u001b[49m\u001b[43mcycle\u001b[49m\u001b[43m)\u001b[49m\n\u001b[0;32m    421\u001b[0m     \u001b[38;5;28;01mreturn\u001b[39;00m _default_pprint(obj, \u001b[38;5;28mself\u001b[39m, cycle)\n\u001b[0;32m    422\u001b[0m \u001b[38;5;28;01mfinally\u001b[39;00m:\n",
      "File \u001b[1;32mc:\\Users\\Mohajeri.K\\AppData\\Local\\anaconda3\\envs\\patient\\lib\\site-packages\\IPython\\lib\\pretty.py:794\u001b[0m, in \u001b[0;36m_repr_pprint\u001b[1;34m(obj, p, cycle)\u001b[0m\n\u001b[0;32m    792\u001b[0m \u001b[38;5;250m\u001b[39m\u001b[38;5;124;03m\"\"\"A pprint that just redirects to the normal repr function.\"\"\"\u001b[39;00m\n\u001b[0;32m    793\u001b[0m \u001b[38;5;66;03m# Find newlines and replace them with p.break_()\u001b[39;00m\n\u001b[1;32m--> 794\u001b[0m output \u001b[38;5;241m=\u001b[39m \u001b[38;5;28;43mrepr\u001b[39;49m\u001b[43m(\u001b[49m\u001b[43mobj\u001b[49m\u001b[43m)\u001b[49m\n\u001b[0;32m    795\u001b[0m lines \u001b[38;5;241m=\u001b[39m output\u001b[38;5;241m.\u001b[39msplitlines()\n\u001b[0;32m    796\u001b[0m \u001b[38;5;28;01mwith\u001b[39;00m p\u001b[38;5;241m.\u001b[39mgroup():\n",
      "File \u001b[1;32mc:\\Users\\Mohajeri.K\\AppData\\Local\\anaconda3\\envs\\patient\\lib\\collections\\__init__.py:1123\u001b[0m, in \u001b[0;36mUserDict.__repr__\u001b[1;34m(self)\u001b[0m\n\u001b[0;32m   1122\u001b[0m \u001b[38;5;28;01mdef\u001b[39;00m \u001b[38;5;21m__repr__\u001b[39m(\u001b[38;5;28mself\u001b[39m):\n\u001b[1;32m-> 1123\u001b[0m     \u001b[38;5;28;01mreturn\u001b[39;00m \u001b[38;5;28;43mrepr\u001b[39;49m\u001b[43m(\u001b[49m\u001b[38;5;28;43mself\u001b[39;49m\u001b[38;5;241;43m.\u001b[39;49m\u001b[43mdata\u001b[49m\u001b[43m)\u001b[49m\n",
      "File \u001b[1;32mc:\\Users\\Mohajeri.K\\MyProjects\\Minos\\src\\pkg\\MedCore.py:429\u001b[0m, in \u001b[0;36mPatient.__repr__\u001b[1;34m(self)\u001b[0m\n\u001b[0;32m    428\u001b[0m \u001b[38;5;28;01mdef\u001b[39;00m \u001b[38;5;21m__repr__\u001b[39m(\u001b[38;5;28mself\u001b[39m):\n\u001b[1;32m--> 429\u001b[0m     \u001b[38;5;28;01mreturn\u001b[39;00m \u001b[38;5;124mf\u001b[39m\u001b[38;5;124m\"\u001b[39m\u001b[38;5;124mPatient(chars=\u001b[39m\u001b[38;5;132;01m{\u001b[39;00m\u001b[38;5;28mself\u001b[39m\u001b[38;5;241m.\u001b[39mget_char_names()\u001b[38;5;132;01m}\u001b[39;00m\u001b[38;5;124m, \u001b[39m\u001b[38;5;130;01m\\n\u001b[39;00m\u001b[38;5;124mSize=\u001b[39m\u001b[38;5;132;01m{\u001b[39;00m\u001b[38;5;28mself\u001b[39m\u001b[38;5;241m.\u001b[39msize\u001b[38;5;132;01m}\u001b[39;00m\u001b[38;5;124m, \u001b[39m\u001b[38;5;130;01m\\n\u001b[39;00m\u001b[38;5;124mTreatments=\u001b[39m\u001b[38;5;132;01m{\u001b[39;00m\u001b[38;5;28mself\u001b[39m\u001b[38;5;241m.\u001b[39mtreatments\u001b[38;5;132;01m}\u001b[39;00m\u001b[38;5;124m)\u001b[39m\u001b[38;5;124m\"\u001b[39m\n",
      "File \u001b[1;32mc:\\Users\\Mohajeri.K\\AppData\\Local\\anaconda3\\envs\\patient\\lib\\collections\\__init__.py:1193\u001b[0m, in \u001b[0;36mUserList.__repr__\u001b[1;34m(self)\u001b[0m\n\u001b[0;32m   1192\u001b[0m \u001b[38;5;28;01mdef\u001b[39;00m \u001b[38;5;21m__repr__\u001b[39m(\u001b[38;5;28mself\u001b[39m):\n\u001b[1;32m-> 1193\u001b[0m     \u001b[38;5;28;01mreturn\u001b[39;00m \u001b[38;5;28mrepr\u001b[39m(\u001b[38;5;28;43mself\u001b[39;49m\u001b[38;5;241;43m.\u001b[39;49m\u001b[43mdata\u001b[49m)\n",
      "File \u001b[1;32mc:\\Users\\Mohajeri.K\\AppData\\Local\\anaconda3\\envs\\patient\\lib\\site-packages\\ZODB\\Connection.py:788\u001b[0m, in \u001b[0;36mConnection.setstate\u001b[1;34m(self, obj)\u001b[0m\n\u001b[0;32m    784\u001b[0m p, serial \u001b[38;5;241m=\u001b[39m \u001b[38;5;28mself\u001b[39m\u001b[38;5;241m.\u001b[39m_storage\u001b[38;5;241m.\u001b[39mload(oid)\n\u001b[0;32m    786\u001b[0m \u001b[38;5;28mself\u001b[39m\u001b[38;5;241m.\u001b[39m_load_count \u001b[38;5;241m+\u001b[39m\u001b[38;5;241m=\u001b[39m \u001b[38;5;241m1\u001b[39m\n\u001b[1;32m--> 788\u001b[0m \u001b[38;5;28;43mself\u001b[39;49m\u001b[38;5;241;43m.\u001b[39;49m\u001b[43m_reader\u001b[49m\u001b[38;5;241;43m.\u001b[39;49m\u001b[43msetGhostState\u001b[49m\u001b[43m(\u001b[49m\u001b[43mobj\u001b[49m\u001b[43m,\u001b[49m\u001b[43m \u001b[49m\u001b[43mp\u001b[49m\u001b[43m)\u001b[49m\n\u001b[0;32m    789\u001b[0m obj\u001b[38;5;241m.\u001b[39m_p_serial \u001b[38;5;241m=\u001b[39m serial\n\u001b[0;32m    790\u001b[0m \u001b[38;5;28mself\u001b[39m\u001b[38;5;241m.\u001b[39m_cache\u001b[38;5;241m.\u001b[39mupdate_object_size_estimation(oid, \u001b[38;5;28mlen\u001b[39m(p))\n",
      "File \u001b[1;32mc:\\Users\\Mohajeri.K\\AppData\\Local\\anaconda3\\envs\\patient\\lib\\site-packages\\ZODB\\serialize.py:638\u001b[0m, in \u001b[0;36mObjectReader.setGhostState\u001b[1;34m(self, obj, pickle)\u001b[0m\n\u001b[0;32m    637\u001b[0m \u001b[38;5;28;01mdef\u001b[39;00m \u001b[38;5;21msetGhostState\u001b[39m(\u001b[38;5;28mself\u001b[39m, obj, pickle):\n\u001b[1;32m--> 638\u001b[0m     state \u001b[38;5;241m=\u001b[39m \u001b[38;5;28;43mself\u001b[39;49m\u001b[38;5;241;43m.\u001b[39;49m\u001b[43mgetState\u001b[49m\u001b[43m(\u001b[49m\u001b[43mpickle\u001b[49m\u001b[43m)\u001b[49m\n\u001b[0;32m    639\u001b[0m     obj\u001b[38;5;241m.\u001b[39m__setstate__(state)\n",
      "File \u001b[1;32mc:\\Users\\Mohajeri.K\\AppData\\Local\\anaconda3\\envs\\patient\\lib\\site-packages\\ZODB\\serialize.py:631\u001b[0m, in \u001b[0;36mObjectReader.getState\u001b[1;34m(self, pickle)\u001b[0m\n\u001b[0;32m    629\u001b[0m \u001b[38;5;28;01mtry\u001b[39;00m:\n\u001b[0;32m    630\u001b[0m     unpickler\u001b[38;5;241m.\u001b[39mload()  \u001b[38;5;66;03m# skip the class metadata\u001b[39;00m\n\u001b[1;32m--> 631\u001b[0m     \u001b[38;5;28;01mreturn\u001b[39;00m \u001b[43munpickler\u001b[49m\u001b[38;5;241;43m.\u001b[39;49m\u001b[43mload\u001b[49m\u001b[43m(\u001b[49m\u001b[43m)\u001b[49m\n\u001b[0;32m    632\u001b[0m \u001b[38;5;28;01mexcept\u001b[39;00m \u001b[38;5;167;01mEOFError\u001b[39;00m:\n\u001b[0;32m    633\u001b[0m     log \u001b[38;5;241m=\u001b[39m logging\u001b[38;5;241m.\u001b[39mgetLogger(\u001b[38;5;124m\"\u001b[39m\u001b[38;5;124mZODB.serialize\u001b[39m\u001b[38;5;124m\"\u001b[39m)\n",
      "File \u001b[1;32mc:\\Users\\Mohajeri.K\\AppData\\Local\\anaconda3\\envs\\patient\\lib\\site-packages\\ZODB\\serialize.py:498\u001b[0m, in \u001b[0;36mObjectReader._persistent_load\u001b[1;34m(self, reference)\u001b[0m\n\u001b[0;32m    496\u001b[0m \u001b[38;5;28;01mdef\u001b[39;00m \u001b[38;5;21m_persistent_load\u001b[39m(\u001b[38;5;28mself\u001b[39m, reference):\n\u001b[0;32m    497\u001b[0m     \u001b[38;5;28;01mif\u001b[39;00m \u001b[38;5;28misinstance\u001b[39m(reference, \u001b[38;5;28mtuple\u001b[39m):\n\u001b[1;32m--> 498\u001b[0m         \u001b[38;5;28;01mreturn\u001b[39;00m \u001b[38;5;28;43mself\u001b[39;49m\u001b[38;5;241;43m.\u001b[39;49m\u001b[43mload_persistent\u001b[49m\u001b[43m(\u001b[49m\u001b[38;5;241;43m*\u001b[39;49m\u001b[43mreference\u001b[49m\u001b[43m)\u001b[49m\n\u001b[0;32m    499\u001b[0m     \u001b[38;5;28;01melif\u001b[39;00m \u001b[38;5;28misinstance\u001b[39m(reference, (\u001b[38;5;28mbytes\u001b[39m, \u001b[38;5;28mstr\u001b[39m)):\n\u001b[0;32m    500\u001b[0m         \u001b[38;5;28;01mreturn\u001b[39;00m \u001b[38;5;28mself\u001b[39m\u001b[38;5;241m.\u001b[39mload_oid(reference)\n",
      "File \u001b[1;32mc:\\Users\\Mohajeri.K\\AppData\\Local\\anaconda3\\envs\\patient\\lib\\site-packages\\ZODB\\serialize.py:533\u001b[0m, in \u001b[0;36mObjectReader.load_persistent\u001b[1;34m(self, oid, klass)\u001b[0m\n\u001b[0;32m    530\u001b[0m         klass \u001b[38;5;241m=\u001b[39m broken\u001b[38;5;241m.\u001b[39mpersistentBroken(klass)\n\u001b[0;32m    532\u001b[0m \u001b[38;5;28;01mtry\u001b[39;00m:\n\u001b[1;32m--> 533\u001b[0m     obj \u001b[38;5;241m=\u001b[39m \u001b[43mklass\u001b[49m\u001b[38;5;241;43m.\u001b[39;49m\u001b[38;5;21;43m__new__\u001b[39;49m\u001b[43m(\u001b[49m\u001b[43mklass\u001b[49m\u001b[43m)\u001b[49m\n\u001b[0;32m    534\u001b[0m \u001b[38;5;28;01mexcept\u001b[39;00m \u001b[38;5;167;01mTypeError\u001b[39;00m:\n\u001b[0;32m    535\u001b[0m     \u001b[38;5;66;03m# Couldn't create the instance.  Maybe there's more\u001b[39;00m\n\u001b[0;32m    536\u001b[0m     \u001b[38;5;66;03m# current data in the object's actual record!\u001b[39;00m\n\u001b[0;32m    537\u001b[0m     \u001b[38;5;28;01mreturn\u001b[39;00m \u001b[38;5;28mself\u001b[39m\u001b[38;5;241m.\u001b[39m_conn\u001b[38;5;241m.\u001b[39mget(oid)\n",
      "File \u001b[1;32mc:\\Users\\Mohajeri.K\\MyProjects\\Minos\\src\\pkg\\MedCore.py:243\u001b[0m, in \u001b[0;36mAlternativeTreatments.__new__\u001b[1;34m(cls, rates, *alternatives)\u001b[0m\n\u001b[0;32m    241\u001b[0m \u001b[38;5;28;01mdef\u001b[39;00m \u001b[38;5;21m__new__\u001b[39m(\u001b[38;5;28mcls\u001b[39m, \u001b[38;5;241m*\u001b[39malternatives: Treatment, rates: \u001b[38;5;28mlist\u001b[39m\u001b[38;5;241m=\u001b[39m\u001b[38;5;28;01mNone\u001b[39;00m):\n\u001b[0;32m    242\u001b[0m     combined_name \u001b[38;5;241m=\u001b[39m \u001b[38;5;124m\"\u001b[39m\u001b[38;5;124m / \u001b[39m\u001b[38;5;124m\"\u001b[39m\u001b[38;5;241m.\u001b[39mjoin(treatment\u001b[38;5;241m.\u001b[39mname \u001b[38;5;28;01mfor\u001b[39;00m treatment \u001b[38;5;129;01min\u001b[39;00m alternatives)\n\u001b[1;32m--> 243\u001b[0m     \u001b[38;5;28;01mreturn\u001b[39;00m \u001b[38;5;28;43msuper\u001b[39;49m\u001b[43m(\u001b[49m\u001b[43m)\u001b[49m\u001b[38;5;241;43m.\u001b[39;49m\u001b[38;5;21;43m__new__\u001b[39;49m\u001b[43m(\u001b[49m\u001b[38;5;28;43mcls\u001b[39;49m\u001b[43m,\u001b[49m\u001b[43m \u001b[49m\u001b[43mcombined_name\u001b[49m\u001b[43m)\u001b[49m\n",
      "File \u001b[1;32mc:\\Users\\Mohajeri.K\\MyProjects\\Minos\\src\\pkg\\MedCore.py:167\u001b[0m, in \u001b[0;36mTreatment.__new__\u001b[1;34m(cls, name)\u001b[0m\n\u001b[0;32m    165\u001b[0m registry \u001b[38;5;241m=\u001b[39m RegistryManager()\u001b[38;5;241m.\u001b[39mget_registry(\u001b[38;5;124m'\u001b[39m\u001b[38;5;124mtreatment_registry\u001b[39m\u001b[38;5;124m'\u001b[39m)\n\u001b[0;32m    166\u001b[0m key \u001b[38;5;241m=\u001b[39m (\u001b[38;5;28mcls\u001b[39m\u001b[38;5;241m.\u001b[39m\u001b[38;5;18m__name__\u001b[39m, name)\n\u001b[1;32m--> 167\u001b[0m \u001b[38;5;28;01mif\u001b[39;00m \u001b[43mkey\u001b[49m\u001b[43m \u001b[49m\u001b[38;5;129;43;01min\u001b[39;49;00m\u001b[43m \u001b[49m\u001b[43mregistry\u001b[49m:\n\u001b[0;32m    168\u001b[0m     \u001b[38;5;28;01mreturn\u001b[39;00m registry[key]\n\u001b[0;32m    169\u001b[0m \u001b[38;5;28;01melse\u001b[39;00m:\n",
      "File \u001b[1;32mc:\\Users\\Mohajeri.K\\AppData\\Local\\anaconda3\\envs\\patient\\lib\\collections\\__init__.py:1119\u001b[0m, in \u001b[0;36mUserDict.__contains__\u001b[1;34m(self, key)\u001b[0m\n\u001b[0;32m   1118\u001b[0m \u001b[38;5;28;01mdef\u001b[39;00m \u001b[38;5;21m__contains__\u001b[39m(\u001b[38;5;28mself\u001b[39m, key):\n\u001b[1;32m-> 1119\u001b[0m     \u001b[38;5;28;01mreturn\u001b[39;00m key \u001b[38;5;129;01min\u001b[39;00m \u001b[38;5;28;43mself\u001b[39;49m\u001b[38;5;241;43m.\u001b[39;49m\u001b[43mdata\u001b[49m\n",
      "File \u001b[1;32mc:\\Users\\Mohajeri.K\\AppData\\Local\\anaconda3\\envs\\patient\\lib\\site-packages\\ZODB\\Connection.py:788\u001b[0m, in \u001b[0;36mConnection.setstate\u001b[1;34m(self, obj)\u001b[0m\n\u001b[0;32m    784\u001b[0m p, serial \u001b[38;5;241m=\u001b[39m \u001b[38;5;28mself\u001b[39m\u001b[38;5;241m.\u001b[39m_storage\u001b[38;5;241m.\u001b[39mload(oid)\n\u001b[0;32m    786\u001b[0m \u001b[38;5;28mself\u001b[39m\u001b[38;5;241m.\u001b[39m_load_count \u001b[38;5;241m+\u001b[39m\u001b[38;5;241m=\u001b[39m \u001b[38;5;241m1\u001b[39m\n\u001b[1;32m--> 788\u001b[0m \u001b[38;5;28;43mself\u001b[39;49m\u001b[38;5;241;43m.\u001b[39;49m\u001b[43m_reader\u001b[49m\u001b[38;5;241;43m.\u001b[39;49m\u001b[43msetGhostState\u001b[49m\u001b[43m(\u001b[49m\u001b[43mobj\u001b[49m\u001b[43m,\u001b[49m\u001b[43m \u001b[49m\u001b[43mp\u001b[49m\u001b[43m)\u001b[49m\n\u001b[0;32m    789\u001b[0m obj\u001b[38;5;241m.\u001b[39m_p_serial \u001b[38;5;241m=\u001b[39m serial\n\u001b[0;32m    790\u001b[0m \u001b[38;5;28mself\u001b[39m\u001b[38;5;241m.\u001b[39m_cache\u001b[38;5;241m.\u001b[39mupdate_object_size_estimation(oid, \u001b[38;5;28mlen\u001b[39m(p))\n",
      "File \u001b[1;32mc:\\Users\\Mohajeri.K\\AppData\\Local\\anaconda3\\envs\\patient\\lib\\site-packages\\ZODB\\serialize.py:638\u001b[0m, in \u001b[0;36mObjectReader.setGhostState\u001b[1;34m(self, obj, pickle)\u001b[0m\n\u001b[0;32m    637\u001b[0m \u001b[38;5;28;01mdef\u001b[39;00m \u001b[38;5;21msetGhostState\u001b[39m(\u001b[38;5;28mself\u001b[39m, obj, pickle):\n\u001b[1;32m--> 638\u001b[0m     state \u001b[38;5;241m=\u001b[39m \u001b[38;5;28;43mself\u001b[39;49m\u001b[38;5;241;43m.\u001b[39;49m\u001b[43mgetState\u001b[49m\u001b[43m(\u001b[49m\u001b[43mpickle\u001b[49m\u001b[43m)\u001b[49m\n\u001b[0;32m    639\u001b[0m     obj\u001b[38;5;241m.\u001b[39m__setstate__(state)\n",
      "File \u001b[1;32mc:\\Users\\Mohajeri.K\\AppData\\Local\\anaconda3\\envs\\patient\\lib\\site-packages\\ZODB\\serialize.py:631\u001b[0m, in \u001b[0;36mObjectReader.getState\u001b[1;34m(self, pickle)\u001b[0m\n\u001b[0;32m    629\u001b[0m \u001b[38;5;28;01mtry\u001b[39;00m:\n\u001b[0;32m    630\u001b[0m     unpickler\u001b[38;5;241m.\u001b[39mload()  \u001b[38;5;66;03m# skip the class metadata\u001b[39;00m\n\u001b[1;32m--> 631\u001b[0m     \u001b[38;5;28;01mreturn\u001b[39;00m \u001b[43munpickler\u001b[49m\u001b[38;5;241;43m.\u001b[39;49m\u001b[43mload\u001b[49m\u001b[43m(\u001b[49m\u001b[43m)\u001b[49m\n\u001b[0;32m    632\u001b[0m \u001b[38;5;28;01mexcept\u001b[39;00m \u001b[38;5;167;01mEOFError\u001b[39;00m:\n\u001b[0;32m    633\u001b[0m     log \u001b[38;5;241m=\u001b[39m logging\u001b[38;5;241m.\u001b[39mgetLogger(\u001b[38;5;124m\"\u001b[39m\u001b[38;5;124mZODB.serialize\u001b[39m\u001b[38;5;124m\"\u001b[39m)\n",
      "File \u001b[1;32mc:\\Users\\Mohajeri.K\\AppData\\Local\\anaconda3\\envs\\patient\\lib\\site-packages\\ZODB\\serialize.py:498\u001b[0m, in \u001b[0;36mObjectReader._persistent_load\u001b[1;34m(self, reference)\u001b[0m\n\u001b[0;32m    496\u001b[0m \u001b[38;5;28;01mdef\u001b[39;00m \u001b[38;5;21m_persistent_load\u001b[39m(\u001b[38;5;28mself\u001b[39m, reference):\n\u001b[0;32m    497\u001b[0m     \u001b[38;5;28;01mif\u001b[39;00m \u001b[38;5;28misinstance\u001b[39m(reference, \u001b[38;5;28mtuple\u001b[39m):\n\u001b[1;32m--> 498\u001b[0m         \u001b[38;5;28;01mreturn\u001b[39;00m \u001b[38;5;28;43mself\u001b[39;49m\u001b[38;5;241;43m.\u001b[39;49m\u001b[43mload_persistent\u001b[49m\u001b[43m(\u001b[49m\u001b[38;5;241;43m*\u001b[39;49m\u001b[43mreference\u001b[49m\u001b[43m)\u001b[49m\n\u001b[0;32m    499\u001b[0m     \u001b[38;5;28;01melif\u001b[39;00m \u001b[38;5;28misinstance\u001b[39m(reference, (\u001b[38;5;28mbytes\u001b[39m, \u001b[38;5;28mstr\u001b[39m)):\n\u001b[0;32m    500\u001b[0m         \u001b[38;5;28;01mreturn\u001b[39;00m \u001b[38;5;28mself\u001b[39m\u001b[38;5;241m.\u001b[39mload_oid(reference)\n",
      "File \u001b[1;32mc:\\Users\\Mohajeri.K\\AppData\\Local\\anaconda3\\envs\\patient\\lib\\site-packages\\ZODB\\serialize.py:533\u001b[0m, in \u001b[0;36mObjectReader.load_persistent\u001b[1;34m(self, oid, klass)\u001b[0m\n\u001b[0;32m    530\u001b[0m         klass \u001b[38;5;241m=\u001b[39m broken\u001b[38;5;241m.\u001b[39mpersistentBroken(klass)\n\u001b[0;32m    532\u001b[0m \u001b[38;5;28;01mtry\u001b[39;00m:\n\u001b[1;32m--> 533\u001b[0m     obj \u001b[38;5;241m=\u001b[39m \u001b[43mklass\u001b[49m\u001b[38;5;241;43m.\u001b[39;49m\u001b[38;5;21;43m__new__\u001b[39;49m\u001b[43m(\u001b[49m\u001b[43mklass\u001b[49m\u001b[43m)\u001b[49m\n\u001b[0;32m    534\u001b[0m \u001b[38;5;28;01mexcept\u001b[39;00m \u001b[38;5;167;01mTypeError\u001b[39;00m:\n\u001b[0;32m    535\u001b[0m     \u001b[38;5;66;03m# Couldn't create the instance.  Maybe there's more\u001b[39;00m\n\u001b[0;32m    536\u001b[0m     \u001b[38;5;66;03m# current data in the object's actual record!\u001b[39;00m\n\u001b[0;32m    537\u001b[0m     \u001b[38;5;28;01mreturn\u001b[39;00m \u001b[38;5;28mself\u001b[39m\u001b[38;5;241m.\u001b[39m_conn\u001b[38;5;241m.\u001b[39mget(oid)\n",
      "File \u001b[1;32mc:\\Users\\Mohajeri.K\\MyProjects\\Minos\\src\\pkg\\MedCore.py:243\u001b[0m, in \u001b[0;36mAlternativeTreatments.__new__\u001b[1;34m(cls, rates, *alternatives)\u001b[0m\n\u001b[0;32m    241\u001b[0m \u001b[38;5;28;01mdef\u001b[39;00m \u001b[38;5;21m__new__\u001b[39m(\u001b[38;5;28mcls\u001b[39m, \u001b[38;5;241m*\u001b[39malternatives: Treatment, rates: \u001b[38;5;28mlist\u001b[39m\u001b[38;5;241m=\u001b[39m\u001b[38;5;28;01mNone\u001b[39;00m):\n\u001b[0;32m    242\u001b[0m     combined_name \u001b[38;5;241m=\u001b[39m \u001b[38;5;124m\"\u001b[39m\u001b[38;5;124m / \u001b[39m\u001b[38;5;124m\"\u001b[39m\u001b[38;5;241m.\u001b[39mjoin(treatment\u001b[38;5;241m.\u001b[39mname \u001b[38;5;28;01mfor\u001b[39;00m treatment \u001b[38;5;129;01min\u001b[39;00m alternatives)\n\u001b[1;32m--> 243\u001b[0m     \u001b[38;5;28;01mreturn\u001b[39;00m \u001b[38;5;28;43msuper\u001b[39;49m\u001b[43m(\u001b[49m\u001b[43m)\u001b[49m\u001b[38;5;241;43m.\u001b[39;49m\u001b[38;5;21;43m__new__\u001b[39;49m\u001b[43m(\u001b[49m\u001b[38;5;28;43mcls\u001b[39;49m\u001b[43m,\u001b[49m\u001b[43m \u001b[49m\u001b[43mcombined_name\u001b[49m\u001b[43m)\u001b[49m\n",
      "File \u001b[1;32mc:\\Users\\Mohajeri.K\\MyProjects\\Minos\\src\\pkg\\MedCore.py:167\u001b[0m, in \u001b[0;36mTreatment.__new__\u001b[1;34m(cls, name)\u001b[0m\n\u001b[0;32m    165\u001b[0m registry \u001b[38;5;241m=\u001b[39m RegistryManager()\u001b[38;5;241m.\u001b[39mget_registry(\u001b[38;5;124m'\u001b[39m\u001b[38;5;124mtreatment_registry\u001b[39m\u001b[38;5;124m'\u001b[39m)\n\u001b[0;32m    166\u001b[0m key \u001b[38;5;241m=\u001b[39m (\u001b[38;5;28mcls\u001b[39m\u001b[38;5;241m.\u001b[39m\u001b[38;5;18m__name__\u001b[39m, name)\n\u001b[1;32m--> 167\u001b[0m \u001b[38;5;28;01mif\u001b[39;00m \u001b[43mkey\u001b[49m\u001b[43m \u001b[49m\u001b[38;5;129;43;01min\u001b[39;49;00m\u001b[43m \u001b[49m\u001b[43mregistry\u001b[49m:\n\u001b[0;32m    168\u001b[0m     \u001b[38;5;28;01mreturn\u001b[39;00m registry[key]\n\u001b[0;32m    169\u001b[0m \u001b[38;5;28;01melse\u001b[39;00m:\n",
      "File \u001b[1;32mc:\\Users\\Mohajeri.K\\AppData\\Local\\anaconda3\\envs\\patient\\lib\\collections\\__init__.py:1119\u001b[0m, in \u001b[0;36mUserDict.__contains__\u001b[1;34m(self, key)\u001b[0m\n\u001b[0;32m   1118\u001b[0m \u001b[38;5;28;01mdef\u001b[39;00m \u001b[38;5;21m__contains__\u001b[39m(\u001b[38;5;28mself\u001b[39m, key):\n\u001b[1;32m-> 1119\u001b[0m     \u001b[38;5;28;01mreturn\u001b[39;00m key \u001b[38;5;129;01min\u001b[39;00m \u001b[38;5;28;43mself\u001b[39;49m\u001b[38;5;241;43m.\u001b[39;49m\u001b[43mdata\u001b[49m\n",
      "File \u001b[1;32mc:\\Users\\Mohajeri.K\\AppData\\Local\\anaconda3\\envs\\patient\\lib\\site-packages\\persistent\\mapping.py:29\u001b[0m, in \u001b[0;36mdefault.__get__\u001b[1;34m(self, inst, class_)\u001b[0m\n\u001b[0;32m     27\u001b[0m \u001b[38;5;28;01mif\u001b[39;00m inst \u001b[38;5;129;01mis\u001b[39;00m \u001b[38;5;28;01mNone\u001b[39;00m:\n\u001b[0;32m     28\u001b[0m     \u001b[38;5;28;01mreturn\u001b[39;00m \u001b[38;5;28mself\u001b[39m\n\u001b[1;32m---> 29\u001b[0m \u001b[38;5;28;01mreturn\u001b[39;00m \u001b[38;5;28;43mself\u001b[39;49m\u001b[38;5;241;43m.\u001b[39;49m\u001b[43mfunc\u001b[49m\u001b[43m(\u001b[49m\u001b[43minst\u001b[49m\u001b[43m)\u001b[49m\n",
      "File \u001b[1;32mc:\\Users\\Mohajeri.K\\AppData\\Local\\anaconda3\\envs\\patient\\lib\\site-packages\\persistent\\mapping.py:149\u001b[0m, in \u001b[0;36mPersistentMapping.data\u001b[1;34m(self)\u001b[0m\n\u001b[0;32m    143\u001b[0m \u001b[38;5;129m@default\u001b[39m\n\u001b[0;32m    144\u001b[0m \u001b[38;5;28;01mdef\u001b[39;00m \u001b[38;5;21mdata\u001b[39m(\u001b[38;5;28mself\u001b[39m):\n\u001b[0;32m    145\u001b[0m     \u001b[38;5;66;03m# We don't want to cause a write on read, so we're careful not to\u001b[39;00m\n\u001b[0;32m    146\u001b[0m     \u001b[38;5;66;03m# do anything that would cause us to become marked as changed, however,\u001b[39;00m\n\u001b[0;32m    147\u001b[0m     \u001b[38;5;66;03m# if we're modified, then the saved record will have data, not\u001b[39;00m\n\u001b[0;32m    148\u001b[0m     \u001b[38;5;66;03m# _container.\u001b[39;00m\n\u001b[1;32m--> 149\u001b[0m     data \u001b[38;5;241m=\u001b[39m \u001b[38;5;28;43mself\u001b[39;49m\u001b[38;5;241;43m.\u001b[39;49m\u001b[38;5;18;43m__dict__\u001b[39;49m\u001b[38;5;241;43m.\u001b[39;49m\u001b[43mpop\u001b[49m\u001b[43m(\u001b[49m\u001b[38;5;124;43m'\u001b[39;49m\u001b[38;5;124;43m_container\u001b[39;49m\u001b[38;5;124;43m'\u001b[39;49m\u001b[43m)\u001b[49m\n\u001b[0;32m    150\u001b[0m     \u001b[38;5;28mself\u001b[39m\u001b[38;5;241m.\u001b[39m\u001b[38;5;18m__dict__\u001b[39m[\u001b[38;5;124m'\u001b[39m\u001b[38;5;124mdata\u001b[39m\u001b[38;5;124m'\u001b[39m] \u001b[38;5;241m=\u001b[39m data\n\u001b[0;32m    152\u001b[0m     \u001b[38;5;28;01mreturn\u001b[39;00m data\n",
      "\u001b[1;31mKeyError\u001b[0m: '_container'"
     ]
    }
   ],
   "source": [
    "con = RegistryManager()\n",
    "dict = con.get_registry('patient_registry')\n",
    "dict"
   ]
  },
  {
   "cell_type": "code",
   "execution_count": 14,
   "metadata": {},
   "outputs": [
    {
     "data": {
      "text/plain": [
       "['Iran', 'Lung Cancer', 'NSCLC', 'Metatstatic', 'KRAS G12C']"
      ]
     },
     "execution_count": 14,
     "metadata": {},
     "output_type": "execute_result"
    }
   ],
   "source": [
    "patient_3.get_char_names()"
   ]
  },
  {
   "cell_type": "code",
   "execution_count": 15,
   "metadata": {},
   "outputs": [],
   "source": [
    "con.close()"
   ]
  },
  {
   "cell_type": "code",
   "execution_count": 3,
   "metadata": {},
   "outputs": [
    {
     "ename": "NameError",
     "evalue": "name 'rm' is not defined",
     "output_type": "error",
     "traceback": [
      "\u001b[1;31m---------------------------------------------------------------------------\u001b[0m",
      "\u001b[1;31mNameError\u001b[0m                                 Traceback (most recent call last)",
      "Cell \u001b[1;32mIn[3], line 1\u001b[0m\n\u001b[1;32m----> 1\u001b[0m \u001b[43mrm\u001b[49m\u001b[38;5;241m.\u001b[39mroot\n",
      "\u001b[1;31mNameError\u001b[0m: name 'rm' is not defined"
     ]
    }
   ],
   "source": [
    "rm.root"
   ]
  },
  {
   "cell_type": "code",
   "execution_count": 1,
   "metadata": {},
   "outputs": [
    {
     "name": "stderr",
     "output_type": "stream",
     "text": [
      "Ignoring index for c:\\Users\\Mohajeri.K\\MyProjects\\Minos\\src\\data\\minos_data.fs\n"
     ]
    }
   ],
   "source": [
    "import ZODB, ZODB.FileStorage\n",
    "storage = ZODB.FileStorage.FileStorage('..\\data\\minos_data.fs')\n",
    "db = ZODB.DB(storage)\n",
    "connection = db.open()\n",
    "root = connection.root()"
   ]
  },
  {
   "cell_type": "code",
   "execution_count": 2,
   "metadata": {},
   "outputs": [
    {
     "name": "stderr",
     "output_type": "stream",
     "text": [
      "Couldn't load state for persistent.list.PersistentList 0x28\n",
      "Traceback (most recent call last):\n",
      "  File \"c:\\Users\\Mohajeri.K\\AppData\\Local\\anaconda3\\envs\\patient\\lib\\site-packages\\zc\\lockfile\\__init__.py\", line 43, in _lock_file\n",
      "    msvcrt.locking(file.fileno(), msvcrt.LK_NBLCK, 1)\n",
      "PermissionError: [Errno 13] Permission denied\n",
      "\n",
      "During handling of the above exception, another exception occurred:\n",
      "\n",
      "Traceback (most recent call last):\n",
      "  File \"c:\\Users\\Mohajeri.K\\AppData\\Local\\anaconda3\\envs\\patient\\lib\\site-packages\\ZODB\\Connection.py\", line 788, in setstate\n",
      "    self._reader.setGhostState(obj, p)\n",
      "  File \"c:\\Users\\Mohajeri.K\\AppData\\Local\\anaconda3\\envs\\patient\\lib\\site-packages\\ZODB\\serialize.py\", line 638, in setGhostState\n",
      "    state = self.getState(pickle)\n",
      "  File \"c:\\Users\\Mohajeri.K\\AppData\\Local\\anaconda3\\envs\\patient\\lib\\site-packages\\ZODB\\serialize.py\", line 631, in getState\n",
      "    return unpickler.load()\n",
      "  File \"c:\\Users\\Mohajeri.K\\AppData\\Local\\anaconda3\\envs\\patient\\lib\\site-packages\\ZODB\\serialize.py\", line 498, in _persistent_load\n",
      "    return self.load_persistent(*reference)\n",
      "  File \"c:\\Users\\Mohajeri.K\\AppData\\Local\\anaconda3\\envs\\patient\\lib\\site-packages\\ZODB\\serialize.py\", line 533, in load_persistent\n",
      "    obj = klass.__new__(klass)\n",
      "  File \"c:\\Users\\Mohajeri.K\\MyProjects\\Minos\\src\\pkg\\MedCore.py\", line 258, in __new__\n",
      "    return super().__new__(cls, combined_name)\n",
      "  File \"c:\\Users\\Mohajeri.K\\MyProjects\\Minos\\src\\pkg\\MedCore.py\", line 176, in __new__\n",
      "    registry = RegistryManager().get_registry('treatment_registry')\n",
      "  File \"c:\\Users\\Mohajeri.K\\MyProjects\\Minos\\src\\pkg\\RegistryManager.py\", line 12, in __new__\n",
      "    cls._instance._initialize(db_path)\n",
      "  File \"c:\\Users\\Mohajeri.K\\MyProjects\\Minos\\src\\pkg\\RegistryManager.py\", line 18, in _initialize\n",
      "    self.storage = ZODB.FileStorage.FileStorage(db_path)\n",
      "  File \"c:\\Users\\Mohajeri.K\\AppData\\Local\\anaconda3\\envs\\patient\\lib\\site-packages\\ZODB\\FileStorage\\FileStorage.py\", line 251, in __init__\n",
      "    self._lock_file = LockFile(file_name + '.lock')\n",
      "  File \"c:\\Users\\Mohajeri.K\\AppData\\Local\\anaconda3\\envs\\patient\\lib\\site-packages\\zc\\lockfile\\__init__.py\", line 120, in __init__\n",
      "    super().__init__(path)\n",
      "  File \"c:\\Users\\Mohajeri.K\\AppData\\Local\\anaconda3\\envs\\patient\\lib\\site-packages\\zc\\lockfile\\__init__.py\", line 93, in __init__\n",
      "    _lock_file(fp)\n",
      "  File \"c:\\Users\\Mohajeri.K\\AppData\\Local\\anaconda3\\envs\\patient\\lib\\site-packages\\zc\\lockfile\\__init__.py\", line 45, in _lock_file\n",
      "    raise LockError(\"Couldn't lock %r\" % file.name)\n",
      "zc.lockfile.LockError: Couldn't lock 'C:/Users/Mohajeri.K/MyProjects/Minos/src/data/minos_data.fs.lock'\n"
     ]
    },
    {
     "ename": "LockError",
     "evalue": "Couldn't lock 'C:/Users/Mohajeri.K/MyProjects/Minos/src/data/minos_data.fs.lock'",
     "output_type": "error",
     "traceback": [
      "\u001b[1;31m---------------------------------------------------------------------------\u001b[0m",
      "\u001b[1;31mPermissionError\u001b[0m                           Traceback (most recent call last)",
      "File \u001b[1;32mc:\\Users\\Mohajeri.K\\AppData\\Local\\anaconda3\\envs\\patient\\lib\\site-packages\\zc\\lockfile\\__init__.py:43\u001b[0m, in \u001b[0;36m_lock_file\u001b[1;34m(file)\u001b[0m\n\u001b[0;32m     42\u001b[0m \u001b[38;5;28;01mtry\u001b[39;00m:\n\u001b[1;32m---> 43\u001b[0m     \u001b[43mmsvcrt\u001b[49m\u001b[38;5;241;43m.\u001b[39;49m\u001b[43mlocking\u001b[49m\u001b[43m(\u001b[49m\u001b[43mfile\u001b[49m\u001b[38;5;241;43m.\u001b[39;49m\u001b[43mfileno\u001b[49m\u001b[43m(\u001b[49m\u001b[43m)\u001b[49m\u001b[43m,\u001b[49m\u001b[43m \u001b[49m\u001b[43mmsvcrt\u001b[49m\u001b[38;5;241;43m.\u001b[39;49m\u001b[43mLK_NBLCK\u001b[49m\u001b[43m,\u001b[49m\u001b[43m \u001b[49m\u001b[38;5;241;43m1\u001b[39;49m\u001b[43m)\u001b[49m\n\u001b[0;32m     44\u001b[0m \u001b[38;5;28;01mexcept\u001b[39;00m \u001b[38;5;167;01mOSError\u001b[39;00m:\n",
      "\u001b[1;31mPermissionError\u001b[0m: [Errno 13] Permission denied",
      "\nDuring handling of the above exception, another exception occurred:\n",
      "\u001b[1;31mLockError\u001b[0m                                 Traceback (most recent call last)",
      "File \u001b[1;32mc:\\Users\\Mohajeri.K\\AppData\\Local\\anaconda3\\envs\\patient\\lib\\site-packages\\IPython\\core\\formatters.py:711\u001b[0m, in \u001b[0;36mPlainTextFormatter.__call__\u001b[1;34m(self, obj)\u001b[0m\n\u001b[0;32m    704\u001b[0m stream \u001b[38;5;241m=\u001b[39m StringIO()\n\u001b[0;32m    705\u001b[0m printer \u001b[38;5;241m=\u001b[39m pretty\u001b[38;5;241m.\u001b[39mRepresentationPrinter(stream, \u001b[38;5;28mself\u001b[39m\u001b[38;5;241m.\u001b[39mverbose,\n\u001b[0;32m    706\u001b[0m     \u001b[38;5;28mself\u001b[39m\u001b[38;5;241m.\u001b[39mmax_width, \u001b[38;5;28mself\u001b[39m\u001b[38;5;241m.\u001b[39mnewline,\n\u001b[0;32m    707\u001b[0m     max_seq_length\u001b[38;5;241m=\u001b[39m\u001b[38;5;28mself\u001b[39m\u001b[38;5;241m.\u001b[39mmax_seq_length,\n\u001b[0;32m    708\u001b[0m     singleton_pprinters\u001b[38;5;241m=\u001b[39m\u001b[38;5;28mself\u001b[39m\u001b[38;5;241m.\u001b[39msingleton_printers,\n\u001b[0;32m    709\u001b[0m     type_pprinters\u001b[38;5;241m=\u001b[39m\u001b[38;5;28mself\u001b[39m\u001b[38;5;241m.\u001b[39mtype_printers,\n\u001b[0;32m    710\u001b[0m     deferred_pprinters\u001b[38;5;241m=\u001b[39m\u001b[38;5;28mself\u001b[39m\u001b[38;5;241m.\u001b[39mdeferred_printers)\n\u001b[1;32m--> 711\u001b[0m \u001b[43mprinter\u001b[49m\u001b[38;5;241;43m.\u001b[39;49m\u001b[43mpretty\u001b[49m\u001b[43m(\u001b[49m\u001b[43mobj\u001b[49m\u001b[43m)\u001b[49m\n\u001b[0;32m    712\u001b[0m printer\u001b[38;5;241m.\u001b[39mflush()\n\u001b[0;32m    713\u001b[0m \u001b[38;5;28;01mreturn\u001b[39;00m stream\u001b[38;5;241m.\u001b[39mgetvalue()\n",
      "File \u001b[1;32mc:\\Users\\Mohajeri.K\\AppData\\Local\\anaconda3\\envs\\patient\\lib\\site-packages\\IPython\\lib\\pretty.py:419\u001b[0m, in \u001b[0;36mRepresentationPrinter.pretty\u001b[1;34m(self, obj)\u001b[0m\n\u001b[0;32m    408\u001b[0m                         \u001b[38;5;28;01mreturn\u001b[39;00m meth(obj, \u001b[38;5;28mself\u001b[39m, cycle)\n\u001b[0;32m    409\u001b[0m                 \u001b[38;5;28;01mif\u001b[39;00m (\n\u001b[0;32m    410\u001b[0m                     \u001b[38;5;28mcls\u001b[39m \u001b[38;5;129;01mis\u001b[39;00m \u001b[38;5;129;01mnot\u001b[39;00m \u001b[38;5;28mobject\u001b[39m\n\u001b[0;32m    411\u001b[0m                     \u001b[38;5;66;03m# check if cls defines __repr__\u001b[39;00m\n\u001b[1;32m   (...)\u001b[0m\n\u001b[0;32m    417\u001b[0m                     \u001b[38;5;129;01mand\u001b[39;00m \u001b[38;5;28mcallable\u001b[39m(_safe_getattr(\u001b[38;5;28mcls\u001b[39m, \u001b[38;5;124m\"\u001b[39m\u001b[38;5;124m__repr__\u001b[39m\u001b[38;5;124m\"\u001b[39m, \u001b[38;5;28;01mNone\u001b[39;00m))\n\u001b[0;32m    418\u001b[0m                 ):\n\u001b[1;32m--> 419\u001b[0m                     \u001b[38;5;28;01mreturn\u001b[39;00m \u001b[43m_repr_pprint\u001b[49m\u001b[43m(\u001b[49m\u001b[43mobj\u001b[49m\u001b[43m,\u001b[49m\u001b[43m \u001b[49m\u001b[38;5;28;43mself\u001b[39;49m\u001b[43m,\u001b[49m\u001b[43m \u001b[49m\u001b[43mcycle\u001b[49m\u001b[43m)\u001b[49m\n\u001b[0;32m    421\u001b[0m     \u001b[38;5;28;01mreturn\u001b[39;00m _default_pprint(obj, \u001b[38;5;28mself\u001b[39m, cycle)\n\u001b[0;32m    422\u001b[0m \u001b[38;5;28;01mfinally\u001b[39;00m:\n",
      "File \u001b[1;32mc:\\Users\\Mohajeri.K\\AppData\\Local\\anaconda3\\envs\\patient\\lib\\site-packages\\IPython\\lib\\pretty.py:794\u001b[0m, in \u001b[0;36m_repr_pprint\u001b[1;34m(obj, p, cycle)\u001b[0m\n\u001b[0;32m    792\u001b[0m \u001b[38;5;250m\u001b[39m\u001b[38;5;124;03m\"\"\"A pprint that just redirects to the normal repr function.\"\"\"\u001b[39;00m\n\u001b[0;32m    793\u001b[0m \u001b[38;5;66;03m# Find newlines and replace them with p.break_()\u001b[39;00m\n\u001b[1;32m--> 794\u001b[0m output \u001b[38;5;241m=\u001b[39m \u001b[38;5;28;43mrepr\u001b[39;49m\u001b[43m(\u001b[49m\u001b[43mobj\u001b[49m\u001b[43m)\u001b[49m\n\u001b[0;32m    795\u001b[0m lines \u001b[38;5;241m=\u001b[39m output\u001b[38;5;241m.\u001b[39msplitlines()\n\u001b[0;32m    796\u001b[0m \u001b[38;5;28;01mwith\u001b[39;00m p\u001b[38;5;241m.\u001b[39mgroup():\n",
      "File \u001b[1;32mc:\\Users\\Mohajeri.K\\AppData\\Local\\anaconda3\\envs\\patient\\lib\\collections\\__init__.py:1123\u001b[0m, in \u001b[0;36mUserDict.__repr__\u001b[1;34m(self)\u001b[0m\n\u001b[0;32m   1122\u001b[0m \u001b[38;5;28;01mdef\u001b[39;00m \u001b[38;5;21m__repr__\u001b[39m(\u001b[38;5;28mself\u001b[39m):\n\u001b[1;32m-> 1123\u001b[0m     \u001b[38;5;28;01mreturn\u001b[39;00m \u001b[38;5;28;43mrepr\u001b[39;49m\u001b[43m(\u001b[49m\u001b[38;5;28;43mself\u001b[39;49m\u001b[38;5;241;43m.\u001b[39;49m\u001b[43mdata\u001b[49m\u001b[43m)\u001b[49m\n",
      "File \u001b[1;32mc:\\Users\\Mohajeri.K\\AppData\\Local\\anaconda3\\envs\\patient\\lib\\collections\\__init__.py:1123\u001b[0m, in \u001b[0;36mUserDict.__repr__\u001b[1;34m(self)\u001b[0m\n\u001b[0;32m   1122\u001b[0m \u001b[38;5;28;01mdef\u001b[39;00m \u001b[38;5;21m__repr__\u001b[39m(\u001b[38;5;28mself\u001b[39m):\n\u001b[1;32m-> 1123\u001b[0m     \u001b[38;5;28;01mreturn\u001b[39;00m \u001b[38;5;28;43mrepr\u001b[39;49m\u001b[43m(\u001b[49m\u001b[38;5;28;43mself\u001b[39;49m\u001b[38;5;241;43m.\u001b[39;49m\u001b[43mdata\u001b[49m\u001b[43m)\u001b[49m\n",
      "File \u001b[1;32mc:\\Users\\Mohajeri.K\\MyProjects\\Minos\\src\\pkg\\MedCore.py:445\u001b[0m, in \u001b[0;36mPatient.__repr__\u001b[1;34m(self)\u001b[0m\n\u001b[0;32m    444\u001b[0m \u001b[38;5;28;01mdef\u001b[39;00m \u001b[38;5;21m__repr__\u001b[39m(\u001b[38;5;28mself\u001b[39m):\n\u001b[1;32m--> 445\u001b[0m     \u001b[38;5;28;01mreturn\u001b[39;00m \u001b[38;5;124mf\u001b[39m\u001b[38;5;124m\"\u001b[39m\u001b[38;5;124mPatient(chars=\u001b[39m\u001b[38;5;132;01m{\u001b[39;00m\u001b[38;5;28mself\u001b[39m\u001b[38;5;241m.\u001b[39mget_char_names()\u001b[38;5;132;01m}\u001b[39;00m\u001b[38;5;124m, \u001b[39m\u001b[38;5;130;01m\\n\u001b[39;00m\u001b[38;5;124mSize=\u001b[39m\u001b[38;5;132;01m{\u001b[39;00m\u001b[38;5;28mself\u001b[39m\u001b[38;5;241m.\u001b[39msize\u001b[38;5;132;01m}\u001b[39;00m\u001b[38;5;124m, \u001b[39m\u001b[38;5;130;01m\\n\u001b[39;00m\u001b[38;5;124mTreatments=\u001b[39m\u001b[38;5;132;01m{\u001b[39;00m\u001b[38;5;28mself\u001b[39m\u001b[38;5;241m.\u001b[39mtreatments\u001b[38;5;132;01m}\u001b[39;00m\u001b[38;5;124m)\u001b[39m\u001b[38;5;124m\"\u001b[39m\n",
      "File \u001b[1;32mc:\\Users\\Mohajeri.K\\AppData\\Local\\anaconda3\\envs\\patient\\lib\\collections\\__init__.py:1193\u001b[0m, in \u001b[0;36mUserList.__repr__\u001b[1;34m(self)\u001b[0m\n\u001b[0;32m   1192\u001b[0m \u001b[38;5;28;01mdef\u001b[39;00m \u001b[38;5;21m__repr__\u001b[39m(\u001b[38;5;28mself\u001b[39m):\n\u001b[1;32m-> 1193\u001b[0m     \u001b[38;5;28;01mreturn\u001b[39;00m \u001b[38;5;28mrepr\u001b[39m(\u001b[38;5;28;43mself\u001b[39;49m\u001b[38;5;241;43m.\u001b[39;49m\u001b[43mdata\u001b[49m)\n",
      "File \u001b[1;32mc:\\Users\\Mohajeri.K\\AppData\\Local\\anaconda3\\envs\\patient\\lib\\site-packages\\ZODB\\Connection.py:788\u001b[0m, in \u001b[0;36mConnection.setstate\u001b[1;34m(self, obj)\u001b[0m\n\u001b[0;32m    784\u001b[0m p, serial \u001b[38;5;241m=\u001b[39m \u001b[38;5;28mself\u001b[39m\u001b[38;5;241m.\u001b[39m_storage\u001b[38;5;241m.\u001b[39mload(oid)\n\u001b[0;32m    786\u001b[0m \u001b[38;5;28mself\u001b[39m\u001b[38;5;241m.\u001b[39m_load_count \u001b[38;5;241m+\u001b[39m\u001b[38;5;241m=\u001b[39m \u001b[38;5;241m1\u001b[39m\n\u001b[1;32m--> 788\u001b[0m \u001b[38;5;28;43mself\u001b[39;49m\u001b[38;5;241;43m.\u001b[39;49m\u001b[43m_reader\u001b[49m\u001b[38;5;241;43m.\u001b[39;49m\u001b[43msetGhostState\u001b[49m\u001b[43m(\u001b[49m\u001b[43mobj\u001b[49m\u001b[43m,\u001b[49m\u001b[43m \u001b[49m\u001b[43mp\u001b[49m\u001b[43m)\u001b[49m\n\u001b[0;32m    789\u001b[0m obj\u001b[38;5;241m.\u001b[39m_p_serial \u001b[38;5;241m=\u001b[39m serial\n\u001b[0;32m    790\u001b[0m \u001b[38;5;28mself\u001b[39m\u001b[38;5;241m.\u001b[39m_cache\u001b[38;5;241m.\u001b[39mupdate_object_size_estimation(oid, \u001b[38;5;28mlen\u001b[39m(p))\n",
      "File \u001b[1;32mc:\\Users\\Mohajeri.K\\AppData\\Local\\anaconda3\\envs\\patient\\lib\\site-packages\\ZODB\\serialize.py:638\u001b[0m, in \u001b[0;36mObjectReader.setGhostState\u001b[1;34m(self, obj, pickle)\u001b[0m\n\u001b[0;32m    637\u001b[0m \u001b[38;5;28;01mdef\u001b[39;00m \u001b[38;5;21msetGhostState\u001b[39m(\u001b[38;5;28mself\u001b[39m, obj, pickle):\n\u001b[1;32m--> 638\u001b[0m     state \u001b[38;5;241m=\u001b[39m \u001b[38;5;28;43mself\u001b[39;49m\u001b[38;5;241;43m.\u001b[39;49m\u001b[43mgetState\u001b[49m\u001b[43m(\u001b[49m\u001b[43mpickle\u001b[49m\u001b[43m)\u001b[49m\n\u001b[0;32m    639\u001b[0m     obj\u001b[38;5;241m.\u001b[39m__setstate__(state)\n",
      "File \u001b[1;32mc:\\Users\\Mohajeri.K\\AppData\\Local\\anaconda3\\envs\\patient\\lib\\site-packages\\ZODB\\serialize.py:631\u001b[0m, in \u001b[0;36mObjectReader.getState\u001b[1;34m(self, pickle)\u001b[0m\n\u001b[0;32m    629\u001b[0m \u001b[38;5;28;01mtry\u001b[39;00m:\n\u001b[0;32m    630\u001b[0m     unpickler\u001b[38;5;241m.\u001b[39mload()  \u001b[38;5;66;03m# skip the class metadata\u001b[39;00m\n\u001b[1;32m--> 631\u001b[0m     \u001b[38;5;28;01mreturn\u001b[39;00m \u001b[43munpickler\u001b[49m\u001b[38;5;241;43m.\u001b[39;49m\u001b[43mload\u001b[49m\u001b[43m(\u001b[49m\u001b[43m)\u001b[49m\n\u001b[0;32m    632\u001b[0m \u001b[38;5;28;01mexcept\u001b[39;00m \u001b[38;5;167;01mEOFError\u001b[39;00m:\n\u001b[0;32m    633\u001b[0m     log \u001b[38;5;241m=\u001b[39m logging\u001b[38;5;241m.\u001b[39mgetLogger(\u001b[38;5;124m\"\u001b[39m\u001b[38;5;124mZODB.serialize\u001b[39m\u001b[38;5;124m\"\u001b[39m)\n",
      "File \u001b[1;32mc:\\Users\\Mohajeri.K\\AppData\\Local\\anaconda3\\envs\\patient\\lib\\site-packages\\ZODB\\serialize.py:498\u001b[0m, in \u001b[0;36mObjectReader._persistent_load\u001b[1;34m(self, reference)\u001b[0m\n\u001b[0;32m    496\u001b[0m \u001b[38;5;28;01mdef\u001b[39;00m \u001b[38;5;21m_persistent_load\u001b[39m(\u001b[38;5;28mself\u001b[39m, reference):\n\u001b[0;32m    497\u001b[0m     \u001b[38;5;28;01mif\u001b[39;00m \u001b[38;5;28misinstance\u001b[39m(reference, \u001b[38;5;28mtuple\u001b[39m):\n\u001b[1;32m--> 498\u001b[0m         \u001b[38;5;28;01mreturn\u001b[39;00m \u001b[38;5;28;43mself\u001b[39;49m\u001b[38;5;241;43m.\u001b[39;49m\u001b[43mload_persistent\u001b[49m\u001b[43m(\u001b[49m\u001b[38;5;241;43m*\u001b[39;49m\u001b[43mreference\u001b[49m\u001b[43m)\u001b[49m\n\u001b[0;32m    499\u001b[0m     \u001b[38;5;28;01melif\u001b[39;00m \u001b[38;5;28misinstance\u001b[39m(reference, (\u001b[38;5;28mbytes\u001b[39m, \u001b[38;5;28mstr\u001b[39m)):\n\u001b[0;32m    500\u001b[0m         \u001b[38;5;28;01mreturn\u001b[39;00m \u001b[38;5;28mself\u001b[39m\u001b[38;5;241m.\u001b[39mload_oid(reference)\n",
      "File \u001b[1;32mc:\\Users\\Mohajeri.K\\AppData\\Local\\anaconda3\\envs\\patient\\lib\\site-packages\\ZODB\\serialize.py:533\u001b[0m, in \u001b[0;36mObjectReader.load_persistent\u001b[1;34m(self, oid, klass)\u001b[0m\n\u001b[0;32m    530\u001b[0m         klass \u001b[38;5;241m=\u001b[39m broken\u001b[38;5;241m.\u001b[39mpersistentBroken(klass)\n\u001b[0;32m    532\u001b[0m \u001b[38;5;28;01mtry\u001b[39;00m:\n\u001b[1;32m--> 533\u001b[0m     obj \u001b[38;5;241m=\u001b[39m \u001b[43mklass\u001b[49m\u001b[38;5;241;43m.\u001b[39;49m\u001b[38;5;21;43m__new__\u001b[39;49m\u001b[43m(\u001b[49m\u001b[43mklass\u001b[49m\u001b[43m)\u001b[49m\n\u001b[0;32m    534\u001b[0m \u001b[38;5;28;01mexcept\u001b[39;00m \u001b[38;5;167;01mTypeError\u001b[39;00m:\n\u001b[0;32m    535\u001b[0m     \u001b[38;5;66;03m# Couldn't create the instance.  Maybe there's more\u001b[39;00m\n\u001b[0;32m    536\u001b[0m     \u001b[38;5;66;03m# current data in the object's actual record!\u001b[39;00m\n\u001b[0;32m    537\u001b[0m     \u001b[38;5;28;01mreturn\u001b[39;00m \u001b[38;5;28mself\u001b[39m\u001b[38;5;241m.\u001b[39m_conn\u001b[38;5;241m.\u001b[39mget(oid)\n",
      "File \u001b[1;32mc:\\Users\\Mohajeri.K\\MyProjects\\Minos\\src\\pkg\\MedCore.py:258\u001b[0m, in \u001b[0;36mAlternativeTreatments.__new__\u001b[1;34m(cls, rates, *alternatives)\u001b[0m\n\u001b[0;32m    256\u001b[0m \u001b[38;5;28;01mdef\u001b[39;00m \u001b[38;5;21m__new__\u001b[39m(\u001b[38;5;28mcls\u001b[39m, \u001b[38;5;241m*\u001b[39malternatives: Treatment, rates: \u001b[38;5;28mlist\u001b[39m\u001b[38;5;241m=\u001b[39m\u001b[38;5;28;01mNone\u001b[39;00m):\n\u001b[0;32m    257\u001b[0m     combined_name \u001b[38;5;241m=\u001b[39m \u001b[38;5;124m\"\u001b[39m\u001b[38;5;124m / \u001b[39m\u001b[38;5;124m\"\u001b[39m\u001b[38;5;241m.\u001b[39mjoin(treatment\u001b[38;5;241m.\u001b[39mname \u001b[38;5;28;01mfor\u001b[39;00m treatment \u001b[38;5;129;01min\u001b[39;00m alternatives)\n\u001b[1;32m--> 258\u001b[0m     \u001b[38;5;28;01mreturn\u001b[39;00m \u001b[38;5;28;43msuper\u001b[39;49m\u001b[43m(\u001b[49m\u001b[43m)\u001b[49m\u001b[38;5;241;43m.\u001b[39;49m\u001b[38;5;21;43m__new__\u001b[39;49m\u001b[43m(\u001b[49m\u001b[38;5;28;43mcls\u001b[39;49m\u001b[43m,\u001b[49m\u001b[43m \u001b[49m\u001b[43mcombined_name\u001b[49m\u001b[43m)\u001b[49m\n",
      "File \u001b[1;32mc:\\Users\\Mohajeri.K\\MyProjects\\Minos\\src\\pkg\\MedCore.py:176\u001b[0m, in \u001b[0;36mTreatment.__new__\u001b[1;34m(cls, name)\u001b[0m\n\u001b[0;32m    174\u001b[0m \u001b[38;5;28;01mif\u001b[39;00m name \u001b[38;5;129;01mis\u001b[39;00m \u001b[38;5;28;01mNone\u001b[39;00m:\n\u001b[0;32m    175\u001b[0m     \u001b[38;5;28;01mreturn\u001b[39;00m \u001b[38;5;28msuper\u001b[39m()\u001b[38;5;241m.\u001b[39m\u001b[38;5;21m__new__\u001b[39m(\u001b[38;5;28mcls\u001b[39m)\n\u001b[1;32m--> 176\u001b[0m registry \u001b[38;5;241m=\u001b[39m \u001b[43mRegistryManager\u001b[49m\u001b[43m(\u001b[49m\u001b[43m)\u001b[49m\u001b[38;5;241m.\u001b[39mget_registry(\u001b[38;5;124m'\u001b[39m\u001b[38;5;124mtreatment_registry\u001b[39m\u001b[38;5;124m'\u001b[39m)\n\u001b[0;32m    177\u001b[0m key \u001b[38;5;241m=\u001b[39m (\u001b[38;5;28mcls\u001b[39m\u001b[38;5;241m.\u001b[39m\u001b[38;5;18m__name__\u001b[39m, name)\n\u001b[0;32m    178\u001b[0m \u001b[38;5;28;01mif\u001b[39;00m key \u001b[38;5;129;01min\u001b[39;00m registry:\n",
      "File \u001b[1;32mc:\\Users\\Mohajeri.K\\MyProjects\\Minos\\src\\pkg\\RegistryManager.py:12\u001b[0m, in \u001b[0;36mRegistryManager.__new__\u001b[1;34m(cls, db_path)\u001b[0m\n\u001b[0;32m     10\u001b[0m \u001b[38;5;28;01mif\u001b[39;00m \u001b[38;5;28mcls\u001b[39m\u001b[38;5;241m.\u001b[39m_instance \u001b[38;5;129;01mis\u001b[39;00m \u001b[38;5;28;01mNone\u001b[39;00m:\n\u001b[0;32m     11\u001b[0m     \u001b[38;5;28mcls\u001b[39m\u001b[38;5;241m.\u001b[39m_instance \u001b[38;5;241m=\u001b[39m \u001b[38;5;28msuper\u001b[39m(RegistryManager, \u001b[38;5;28mcls\u001b[39m)\u001b[38;5;241m.\u001b[39m\u001b[38;5;21m__new__\u001b[39m(\u001b[38;5;28mcls\u001b[39m)\n\u001b[1;32m---> 12\u001b[0m     \u001b[38;5;28;43mcls\u001b[39;49m\u001b[38;5;241;43m.\u001b[39;49m\u001b[43m_instance\u001b[49m\u001b[38;5;241;43m.\u001b[39;49m\u001b[43m_initialize\u001b[49m\u001b[43m(\u001b[49m\u001b[43mdb_path\u001b[49m\u001b[43m)\u001b[49m\n\u001b[0;32m     13\u001b[0m \u001b[38;5;28;01melif\u001b[39;00m \u001b[38;5;129;01mnot\u001b[39;00m \u001b[38;5;28mhasattr\u001b[39m(\u001b[38;5;28mcls\u001b[39m\u001b[38;5;241m.\u001b[39m_instance, \u001b[38;5;124m'\u001b[39m\u001b[38;5;124mconnection\u001b[39m\u001b[38;5;124m'\u001b[39m) \u001b[38;5;129;01mor\u001b[39;00m \u001b[38;5;28mcls\u001b[39m\u001b[38;5;241m.\u001b[39m_instance\u001b[38;5;241m.\u001b[39mconnection \u001b[38;5;129;01mis\u001b[39;00m \u001b[38;5;28;01mNone\u001b[39;00m:\n\u001b[0;32m     14\u001b[0m     \u001b[38;5;28mcls\u001b[39m\u001b[38;5;241m.\u001b[39m_instance\u001b[38;5;241m.\u001b[39m_initialize(db_path)\n",
      "File \u001b[1;32mc:\\Users\\Mohajeri.K\\MyProjects\\Minos\\src\\pkg\\RegistryManager.py:18\u001b[0m, in \u001b[0;36mRegistryManager._initialize\u001b[1;34m(self, db_path)\u001b[0m\n\u001b[0;32m     17\u001b[0m \u001b[38;5;28;01mdef\u001b[39;00m \u001b[38;5;21m_initialize\u001b[39m(\u001b[38;5;28mself\u001b[39m, db_path):\n\u001b[1;32m---> 18\u001b[0m     \u001b[38;5;28mself\u001b[39m\u001b[38;5;241m.\u001b[39mstorage \u001b[38;5;241m=\u001b[39m \u001b[43mZODB\u001b[49m\u001b[38;5;241;43m.\u001b[39;49m\u001b[43mFileStorage\u001b[49m\u001b[38;5;241;43m.\u001b[39;49m\u001b[43mFileStorage\u001b[49m\u001b[43m(\u001b[49m\u001b[43mdb_path\u001b[49m\u001b[43m)\u001b[49m\n\u001b[0;32m     19\u001b[0m     \u001b[38;5;28mself\u001b[39m\u001b[38;5;241m.\u001b[39mdb \u001b[38;5;241m=\u001b[39m ZODB\u001b[38;5;241m.\u001b[39mDB(\u001b[38;5;28mself\u001b[39m\u001b[38;5;241m.\u001b[39mstorage)\n\u001b[0;32m     20\u001b[0m     \u001b[38;5;28mself\u001b[39m\u001b[38;5;241m.\u001b[39mconnection \u001b[38;5;241m=\u001b[39m \u001b[38;5;28mself\u001b[39m\u001b[38;5;241m.\u001b[39mdb\u001b[38;5;241m.\u001b[39mopen()\n",
      "File \u001b[1;32mc:\\Users\\Mohajeri.K\\AppData\\Local\\anaconda3\\envs\\patient\\lib\\site-packages\\ZODB\\FileStorage\\FileStorage.py:251\u001b[0m, in \u001b[0;36mFileStorage.__init__\u001b[1;34m(self, file_name, create, read_only, stop, quota, pack_gc, pack_keep_old, packer, blob_dir)\u001b[0m\n\u001b[0;32m    248\u001b[0m \u001b[38;5;66;03m# Lock the database and set up the temp file.\u001b[39;00m\n\u001b[0;32m    249\u001b[0m \u001b[38;5;28;01mif\u001b[39;00m \u001b[38;5;129;01mnot\u001b[39;00m read_only:\n\u001b[0;32m    250\u001b[0m     \u001b[38;5;66;03m# Create the lock file\u001b[39;00m\n\u001b[1;32m--> 251\u001b[0m     \u001b[38;5;28mself\u001b[39m\u001b[38;5;241m.\u001b[39m_lock_file \u001b[38;5;241m=\u001b[39m \u001b[43mLockFile\u001b[49m\u001b[43m(\u001b[49m\u001b[43mfile_name\u001b[49m\u001b[43m \u001b[49m\u001b[38;5;241;43m+\u001b[39;49m\u001b[43m \u001b[49m\u001b[38;5;124;43m'\u001b[39;49m\u001b[38;5;124;43m.lock\u001b[39;49m\u001b[38;5;124;43m'\u001b[39;49m\u001b[43m)\u001b[49m\n\u001b[0;32m    252\u001b[0m     \u001b[38;5;28mself\u001b[39m\u001b[38;5;241m.\u001b[39m_tfile \u001b[38;5;241m=\u001b[39m \u001b[38;5;28mopen\u001b[39m(file_name \u001b[38;5;241m+\u001b[39m \u001b[38;5;124m'\u001b[39m\u001b[38;5;124m.tmp\u001b[39m\u001b[38;5;124m'\u001b[39m, \u001b[38;5;124m'\u001b[39m\u001b[38;5;124mw+b\u001b[39m\u001b[38;5;124m'\u001b[39m)\n\u001b[0;32m    253\u001b[0m     \u001b[38;5;28mself\u001b[39m\u001b[38;5;241m.\u001b[39m_tfmt \u001b[38;5;241m=\u001b[39m TempFormatter(\u001b[38;5;28mself\u001b[39m\u001b[38;5;241m.\u001b[39m_tfile)\n",
      "File \u001b[1;32mc:\\Users\\Mohajeri.K\\AppData\\Local\\anaconda3\\envs\\patient\\lib\\site-packages\\zc\\lockfile\\__init__.py:120\u001b[0m, in \u001b[0;36mLockFile.__init__\u001b[1;34m(self, path, content_template)\u001b[0m\n\u001b[0;32m    118\u001b[0m \u001b[38;5;28;01mdef\u001b[39;00m \u001b[38;5;21m__init__\u001b[39m(\u001b[38;5;28mself\u001b[39m, path, content_template\u001b[38;5;241m=\u001b[39m\u001b[38;5;124m'\u001b[39m\u001b[38;5;132;01m{pid}\u001b[39;00m\u001b[38;5;124m'\u001b[39m):\n\u001b[0;32m    119\u001b[0m     \u001b[38;5;28mself\u001b[39m\u001b[38;5;241m.\u001b[39m_content_template \u001b[38;5;241m=\u001b[39m content_template\n\u001b[1;32m--> 120\u001b[0m     \u001b[38;5;28;43msuper\u001b[39;49m\u001b[43m(\u001b[49m\u001b[43m)\u001b[49m\u001b[38;5;241;43m.\u001b[39;49m\u001b[38;5;21;43m__init__\u001b[39;49m\u001b[43m(\u001b[49m\u001b[43mpath\u001b[49m\u001b[43m)\u001b[49m\n",
      "File \u001b[1;32mc:\\Users\\Mohajeri.K\\AppData\\Local\\anaconda3\\envs\\patient\\lib\\site-packages\\zc\\lockfile\\__init__.py:93\u001b[0m, in \u001b[0;36mSimpleLockFile.__init__\u001b[1;34m(self, path)\u001b[0m\n\u001b[0;32m     90\u001b[0m     fp \u001b[38;5;241m=\u001b[39m \u001b[38;5;28mopen\u001b[39m(path, \u001b[38;5;124m'\u001b[39m\u001b[38;5;124ma+\u001b[39m\u001b[38;5;124m'\u001b[39m)\n\u001b[0;32m     92\u001b[0m \u001b[38;5;28;01mtry\u001b[39;00m:\n\u001b[1;32m---> 93\u001b[0m     \u001b[43m_lock_file\u001b[49m\u001b[43m(\u001b[49m\u001b[43mfp\u001b[49m\u001b[43m)\u001b[49m\n\u001b[0;32m     94\u001b[0m     \u001b[38;5;28mself\u001b[39m\u001b[38;5;241m.\u001b[39m_fp \u001b[38;5;241m=\u001b[39m fp\n\u001b[0;32m     95\u001b[0m \u001b[38;5;28;01mexcept\u001b[39;00m \u001b[38;5;167;01mBaseException\u001b[39;00m:\n",
      "File \u001b[1;32mc:\\Users\\Mohajeri.K\\AppData\\Local\\anaconda3\\envs\\patient\\lib\\site-packages\\zc\\lockfile\\__init__.py:45\u001b[0m, in \u001b[0;36m_lock_file\u001b[1;34m(file)\u001b[0m\n\u001b[0;32m     43\u001b[0m     msvcrt\u001b[38;5;241m.\u001b[39mlocking(file\u001b[38;5;241m.\u001b[39mfileno(), msvcrt\u001b[38;5;241m.\u001b[39mLK_NBLCK, \u001b[38;5;241m1\u001b[39m)\n\u001b[0;32m     44\u001b[0m \u001b[38;5;28;01mexcept\u001b[39;00m \u001b[38;5;167;01mOSError\u001b[39;00m:\n\u001b[1;32m---> 45\u001b[0m     \u001b[38;5;28;01mraise\u001b[39;00m LockError(\u001b[38;5;124m\"\u001b[39m\u001b[38;5;124mCouldn\u001b[39m\u001b[38;5;124m'\u001b[39m\u001b[38;5;124mt lock \u001b[39m\u001b[38;5;132;01m%r\u001b[39;00m\u001b[38;5;124m\"\u001b[39m \u001b[38;5;241m%\u001b[39m file\u001b[38;5;241m.\u001b[39mname)\n",
      "\u001b[1;31mLockError\u001b[0m: Couldn't lock 'C:/Users/Mohajeri.K/MyProjects/Minos/src/data/minos_data.fs.lock'"
     ]
    }
   ],
   "source": [
    "root"
   ]
  },
  {
   "cell_type": "code",
   "execution_count": 12,
   "metadata": {},
   "outputs": [],
   "source": [
    "connection.close()\n",
    "db.close()"
   ]
  },
  {
   "cell_type": "code",
   "execution_count": 20,
   "metadata": {},
   "outputs": [
    {
     "data": {
      "text/plain": [
       "\n",
       "MedicalTreatment('Zoledronic acid Treatment', drugs=[(Drug('Zoledronic Acid', strength='4 mg')\n",
       ", 13)])"
      ]
     },
     "execution_count": 20,
     "metadata": {},
     "output_type": "execute_result"
    }
   ],
   "source": [
    "zoledronic_acid_reg"
   ]
  },
  {
   "cell_type": "code",
   "execution_count": null,
   "metadata": {},
   "outputs": [],
   "source": []
  },
  {
   "cell_type": "code",
   "execution_count": 22,
   "metadata": {},
   "outputs": [
    {
     "data": {
      "text/plain": [
       "\n",
       "Alternavie Treatments('Denosumab Treatment / Zoledronic acid Treatment', alternatives=[(\n",
       "MedicalTreatment('Denosumab Treatment', drugs=[(Drug('Denosumab', strength='120 mg')\n",
       ", 13)]), 1.0), (\n",
       "MedicalTreatment('Zoledronic acid Treatment', drugs=[(Drug('Zoledronic Acid', strength='4 mg')\n",
       ", 13)]), 1.0)])"
      ]
     },
     "execution_count": 22,
     "metadata": {},
     "output_type": "execute_result"
    }
   ],
   "source": [
    "bone_target"
   ]
  },
  {
   "cell_type": "code",
   "execution_count": null,
   "metadata": {},
   "outputs": [],
   "source": []
  },
  {
   "cell_type": "code",
   "execution_count": 24,
   "metadata": {},
   "outputs": [
    {
     "data": {
      "text/plain": [
       "PersistentList([(\n",
       "                 Characteristic('type: Population, name: Iran'),\n",
       "                 90000000,\n",
       "                 1),\n",
       "                (\n",
       "                 Characteristic('type: Primary Indication, name: Lung Cancer'),\n",
       "                 9000.0,\n",
       "                 0.0001),\n",
       "                (\n",
       "                 Characteristic('type: Type, name: NSCLC'),\n",
       "                 7650.0,\n",
       "                 0.85),\n",
       "                (\n",
       "                 Characteristic('type: Metastasis, name: Metatstatic'),\n",
       "                 3442.5,\n",
       "                 0.45),\n",
       "                (\n",
       "                 Characteristic('type: Metastasis, name: Bone Metastasis'),\n",
       "                 1180.7775000000001,\n",
       "                 0.343),\n",
       "                (\n",
       "                 Characteristic('type: Medication, name: Received: Denosumab Treatment / Zoledronic Acid Treatment'),\n",
       "                 1180.7775000000001,\n",
       "                 1.0)])"
      ]
     },
     "execution_count": 24,
     "metadata": {},
     "output_type": "execute_result"
    }
   ],
   "source": [
    "patient.chars"
   ]
  },
  {
   "cell_type": "code",
   "execution_count": null,
   "metadata": {},
   "outputs": [],
   "source": []
  },
  {
   "cell_type": "code",
   "execution_count": null,
   "metadata": {},
   "outputs": [],
   "source": []
  },
  {
   "cell_type": "code",
   "execution_count": 26,
   "metadata": {},
   "outputs": [],
   "source": [
    "other_mutation = Characteristic('Mutation', 'Other mutation')"
   ]
  },
  {
   "cell_type": "code",
   "execution_count": null,
   "metadata": {},
   "outputs": [],
   "source": []
  },
  {
   "cell_type": "code",
   "execution_count": null,
   "metadata": {},
   "outputs": [],
   "source": [
    "from ZODB import DB\n",
    "from ZODB.FileStorage import FileStorage\n",
    "import transaction\n",
    "import persistent"
   ]
  },
  {
   "cell_type": "code",
   "execution_count": null,
   "metadata": {},
   "outputs": [
    {
     "data": {
      "text/plain": [
       "{}"
      ]
     },
     "execution_count": 33,
     "metadata": {},
     "output_type": "execute_result"
    }
   ],
   "source": []
  },
  {
   "cell_type": "code",
   "execution_count": null,
   "metadata": {},
   "outputs": [
    {
     "data": {
      "text/plain": [
       "{}"
      ]
     },
     "execution_count": 32,
     "metadata": {},
     "output_type": "execute_result"
    }
   ],
   "source": []
  },
  {
   "cell_type": "code",
   "execution_count": null,
   "metadata": {},
   "outputs": [],
   "source": [
    "import ZODB\n",
    "import transaction\n",
    "from RegistryManager import RegistryManager\n",
    "import networkx as nx\n",
    "import matplotlib.pyplot as plt\n",
    "\n",
    "db = ZODB.DB('..\\data\\minos_data.fs', read_only=True)\n",
    "connection = db.open()\n",
    "root = connection.root()\n",
    "patient_registry = RegistryManager().get_registry('patient_registry')\n",
    "patient_data = {}\n",
    "for patient_hash, patient in patient_registry.items():\n",
    "    patient_data[patient_hash] = {\n",
    "        'characteristics': patient.chars,\n",
    "        'treatments': patient.treatments,\n",
    "        'size': patient.size,\n",
    "    }"
   ]
  },
  {
   "cell_type": "code",
   "execution_count": null,
   "metadata": {},
   "outputs": [
    {
     "data": {
      "text/plain": [
       "{}"
      ]
     },
     "execution_count": 34,
     "metadata": {},
     "output_type": "execute_result"
    }
   ],
   "source": [
    "patient_data"
   ]
  },
  {
   "cell_type": "code",
   "execution_count": null,
   "metadata": {},
   "outputs": [
    {
     "data": {
      "text/plain": [
       "{}"
      ]
     },
     "execution_count": 35,
     "metadata": {},
     "output_type": "execute_result"
    }
   ],
   "source": [
    "patient_registry"
   ]
  },
  {
   "cell_type": "code",
   "execution_count": 3,
   "metadata": {},
   "outputs": [],
   "source": [
    "dic = RegistryManager().get_registry('patient_registry')"
   ]
  },
  {
   "cell_type": "code",
   "execution_count": 4,
   "metadata": {},
   "outputs": [
    {
     "name": "stderr",
     "output_type": "stream",
     "text": [
      "ERROR:ZODB.Connection:Couldn't load state for persistent.mapping.PersistentMapping 0x04\n",
      "Traceback (most recent call last):\n",
      "  File \"c:\\Users\\Mohajeri.K\\AppData\\Local\\anaconda3\\envs\\patient\\lib\\site-packages\\ZODB\\Connection.py\", line 788, in setstate\n",
      "    self._reader.setGhostState(obj, p)\n",
      "  File \"c:\\Users\\Mohajeri.K\\AppData\\Local\\anaconda3\\envs\\patient\\lib\\site-packages\\ZODB\\serialize.py\", line 638, in setGhostState\n",
      "    state = self.getState(pickle)\n",
      "  File \"c:\\Users\\Mohajeri.K\\AppData\\Local\\anaconda3\\envs\\patient\\lib\\site-packages\\ZODB\\serialize.py\", line 631, in getState\n",
      "    return unpickler.load()\n",
      "  File \"c:\\Users\\Mohajeri.K\\AppData\\Local\\anaconda3\\envs\\patient\\lib\\site-packages\\ZODB\\serialize.py\", line 498, in _persistent_load\n",
      "    return self.load_persistent(*reference)\n",
      "  File \"c:\\Users\\Mohajeri.K\\AppData\\Local\\anaconda3\\envs\\patient\\lib\\site-packages\\ZODB\\serialize.py\", line 533, in load_persistent\n",
      "    obj = klass.__new__(klass)\n",
      "  File \"c:\\Users\\Mohajeri.K\\MyProjects\\Minos\\src\\pkg\\MedCore.py\", line 258, in __new__\n",
      "    return super().__new__(cls, combined_name)\n",
      "  File \"c:\\Users\\Mohajeri.K\\MyProjects\\Minos\\src\\pkg\\MedCore.py\", line 178, in __new__\n",
      "    if key in registry:\n",
      "  File \"c:\\Users\\Mohajeri.K\\AppData\\Local\\anaconda3\\envs\\patient\\lib\\collections\\__init__.py\", line 1119, in __contains__\n",
      "    return key in self.data\n",
      "  File \"c:\\Users\\Mohajeri.K\\AppData\\Local\\anaconda3\\envs\\patient\\lib\\site-packages\\persistent\\mapping.py\", line 29, in __get__\n",
      "    return self.func(inst)\n",
      "  File \"c:\\Users\\Mohajeri.K\\AppData\\Local\\anaconda3\\envs\\patient\\lib\\site-packages\\persistent\\mapping.py\", line 149, in data\n",
      "    data = self.__dict__.pop('_container')\n",
      "KeyError: '_container'\n",
      "ERROR:ZODB.Connection:Couldn't load state for persistent.list.PersistentList 0x28\n",
      "Traceback (most recent call last):\n",
      "  File \"c:\\Users\\Mohajeri.K\\AppData\\Local\\anaconda3\\envs\\patient\\lib\\site-packages\\ZODB\\Connection.py\", line 788, in setstate\n",
      "    self._reader.setGhostState(obj, p)\n",
      "  File \"c:\\Users\\Mohajeri.K\\AppData\\Local\\anaconda3\\envs\\patient\\lib\\site-packages\\ZODB\\serialize.py\", line 638, in setGhostState\n",
      "    state = self.getState(pickle)\n",
      "  File \"c:\\Users\\Mohajeri.K\\AppData\\Local\\anaconda3\\envs\\patient\\lib\\site-packages\\ZODB\\serialize.py\", line 631, in getState\n",
      "    return unpickler.load()\n",
      "  File \"c:\\Users\\Mohajeri.K\\AppData\\Local\\anaconda3\\envs\\patient\\lib\\site-packages\\ZODB\\serialize.py\", line 498, in _persistent_load\n",
      "    return self.load_persistent(*reference)\n",
      "  File \"c:\\Users\\Mohajeri.K\\AppData\\Local\\anaconda3\\envs\\patient\\lib\\site-packages\\ZODB\\serialize.py\", line 533, in load_persistent\n",
      "    obj = klass.__new__(klass)\n",
      "  File \"c:\\Users\\Mohajeri.K\\MyProjects\\Minos\\src\\pkg\\MedCore.py\", line 258, in __new__\n",
      "    return super().__new__(cls, combined_name)\n",
      "  File \"c:\\Users\\Mohajeri.K\\MyProjects\\Minos\\src\\pkg\\MedCore.py\", line 178, in __new__\n",
      "    if key in registry:\n",
      "  File \"c:\\Users\\Mohajeri.K\\AppData\\Local\\anaconda3\\envs\\patient\\lib\\collections\\__init__.py\", line 1119, in __contains__\n",
      "    return key in self.data\n",
      "  File \"c:\\Users\\Mohajeri.K\\AppData\\Local\\anaconda3\\envs\\patient\\lib\\site-packages\\ZODB\\Connection.py\", line 788, in setstate\n",
      "    self._reader.setGhostState(obj, p)\n",
      "  File \"c:\\Users\\Mohajeri.K\\AppData\\Local\\anaconda3\\envs\\patient\\lib\\site-packages\\ZODB\\serialize.py\", line 638, in setGhostState\n",
      "    state = self.getState(pickle)\n",
      "  File \"c:\\Users\\Mohajeri.K\\AppData\\Local\\anaconda3\\envs\\patient\\lib\\site-packages\\ZODB\\serialize.py\", line 631, in getState\n",
      "    return unpickler.load()\n",
      "  File \"c:\\Users\\Mohajeri.K\\AppData\\Local\\anaconda3\\envs\\patient\\lib\\site-packages\\ZODB\\serialize.py\", line 498, in _persistent_load\n",
      "    return self.load_persistent(*reference)\n",
      "  File \"c:\\Users\\Mohajeri.K\\AppData\\Local\\anaconda3\\envs\\patient\\lib\\site-packages\\ZODB\\serialize.py\", line 533, in load_persistent\n",
      "    obj = klass.__new__(klass)\n",
      "  File \"c:\\Users\\Mohajeri.K\\MyProjects\\Minos\\src\\pkg\\MedCore.py\", line 258, in __new__\n",
      "    return super().__new__(cls, combined_name)\n",
      "  File \"c:\\Users\\Mohajeri.K\\MyProjects\\Minos\\src\\pkg\\MedCore.py\", line 178, in __new__\n",
      "    if key in registry:\n",
      "  File \"c:\\Users\\Mohajeri.K\\AppData\\Local\\anaconda3\\envs\\patient\\lib\\collections\\__init__.py\", line 1119, in __contains__\n",
      "    return key in self.data\n",
      "  File \"c:\\Users\\Mohajeri.K\\AppData\\Local\\anaconda3\\envs\\patient\\lib\\site-packages\\persistent\\mapping.py\", line 29, in __get__\n",
      "    return self.func(inst)\n",
      "  File \"c:\\Users\\Mohajeri.K\\AppData\\Local\\anaconda3\\envs\\patient\\lib\\site-packages\\persistent\\mapping.py\", line 149, in data\n",
      "    data = self.__dict__.pop('_container')\n",
      "KeyError: '_container'\n"
     ]
    },
    {
     "ename": "KeyError",
     "evalue": "'_container'",
     "output_type": "error",
     "traceback": [
      "\u001b[1;31m---------------------------------------------------------------------------\u001b[0m",
      "\u001b[1;31mKeyError\u001b[0m                                  Traceback (most recent call last)",
      "File \u001b[1;32mc:\\Users\\Mohajeri.K\\AppData\\Local\\anaconda3\\envs\\patient\\lib\\site-packages\\IPython\\core\\formatters.py:711\u001b[0m, in \u001b[0;36mPlainTextFormatter.__call__\u001b[1;34m(self, obj)\u001b[0m\n\u001b[0;32m    704\u001b[0m stream \u001b[38;5;241m=\u001b[39m StringIO()\n\u001b[0;32m    705\u001b[0m printer \u001b[38;5;241m=\u001b[39m pretty\u001b[38;5;241m.\u001b[39mRepresentationPrinter(stream, \u001b[38;5;28mself\u001b[39m\u001b[38;5;241m.\u001b[39mverbose,\n\u001b[0;32m    706\u001b[0m     \u001b[38;5;28mself\u001b[39m\u001b[38;5;241m.\u001b[39mmax_width, \u001b[38;5;28mself\u001b[39m\u001b[38;5;241m.\u001b[39mnewline,\n\u001b[0;32m    707\u001b[0m     max_seq_length\u001b[38;5;241m=\u001b[39m\u001b[38;5;28mself\u001b[39m\u001b[38;5;241m.\u001b[39mmax_seq_length,\n\u001b[0;32m    708\u001b[0m     singleton_pprinters\u001b[38;5;241m=\u001b[39m\u001b[38;5;28mself\u001b[39m\u001b[38;5;241m.\u001b[39msingleton_printers,\n\u001b[0;32m    709\u001b[0m     type_pprinters\u001b[38;5;241m=\u001b[39m\u001b[38;5;28mself\u001b[39m\u001b[38;5;241m.\u001b[39mtype_printers,\n\u001b[0;32m    710\u001b[0m     deferred_pprinters\u001b[38;5;241m=\u001b[39m\u001b[38;5;28mself\u001b[39m\u001b[38;5;241m.\u001b[39mdeferred_printers)\n\u001b[1;32m--> 711\u001b[0m \u001b[43mprinter\u001b[49m\u001b[38;5;241;43m.\u001b[39;49m\u001b[43mpretty\u001b[49m\u001b[43m(\u001b[49m\u001b[43mobj\u001b[49m\u001b[43m)\u001b[49m\n\u001b[0;32m    712\u001b[0m printer\u001b[38;5;241m.\u001b[39mflush()\n\u001b[0;32m    713\u001b[0m \u001b[38;5;28;01mreturn\u001b[39;00m stream\u001b[38;5;241m.\u001b[39mgetvalue()\n",
      "File \u001b[1;32mc:\\Users\\Mohajeri.K\\AppData\\Local\\anaconda3\\envs\\patient\\lib\\site-packages\\IPython\\lib\\pretty.py:419\u001b[0m, in \u001b[0;36mRepresentationPrinter.pretty\u001b[1;34m(self, obj)\u001b[0m\n\u001b[0;32m    408\u001b[0m                         \u001b[38;5;28;01mreturn\u001b[39;00m meth(obj, \u001b[38;5;28mself\u001b[39m, cycle)\n\u001b[0;32m    409\u001b[0m                 \u001b[38;5;28;01mif\u001b[39;00m (\n\u001b[0;32m    410\u001b[0m                     \u001b[38;5;28mcls\u001b[39m \u001b[38;5;129;01mis\u001b[39;00m \u001b[38;5;129;01mnot\u001b[39;00m \u001b[38;5;28mobject\u001b[39m\n\u001b[0;32m    411\u001b[0m                     \u001b[38;5;66;03m# check if cls defines __repr__\u001b[39;00m\n\u001b[1;32m   (...)\u001b[0m\n\u001b[0;32m    417\u001b[0m                     \u001b[38;5;129;01mand\u001b[39;00m \u001b[38;5;28mcallable\u001b[39m(_safe_getattr(\u001b[38;5;28mcls\u001b[39m, \u001b[38;5;124m\"\u001b[39m\u001b[38;5;124m__repr__\u001b[39m\u001b[38;5;124m\"\u001b[39m, \u001b[38;5;28;01mNone\u001b[39;00m))\n\u001b[0;32m    418\u001b[0m                 ):\n\u001b[1;32m--> 419\u001b[0m                     \u001b[38;5;28;01mreturn\u001b[39;00m \u001b[43m_repr_pprint\u001b[49m\u001b[43m(\u001b[49m\u001b[43mobj\u001b[49m\u001b[43m,\u001b[49m\u001b[43m \u001b[49m\u001b[38;5;28;43mself\u001b[39;49m\u001b[43m,\u001b[49m\u001b[43m \u001b[49m\u001b[43mcycle\u001b[49m\u001b[43m)\u001b[49m\n\u001b[0;32m    421\u001b[0m     \u001b[38;5;28;01mreturn\u001b[39;00m _default_pprint(obj, \u001b[38;5;28mself\u001b[39m, cycle)\n\u001b[0;32m    422\u001b[0m \u001b[38;5;28;01mfinally\u001b[39;00m:\n",
      "File \u001b[1;32mc:\\Users\\Mohajeri.K\\AppData\\Local\\anaconda3\\envs\\patient\\lib\\site-packages\\IPython\\lib\\pretty.py:794\u001b[0m, in \u001b[0;36m_repr_pprint\u001b[1;34m(obj, p, cycle)\u001b[0m\n\u001b[0;32m    792\u001b[0m \u001b[38;5;250m\u001b[39m\u001b[38;5;124;03m\"\"\"A pprint that just redirects to the normal repr function.\"\"\"\u001b[39;00m\n\u001b[0;32m    793\u001b[0m \u001b[38;5;66;03m# Find newlines and replace them with p.break_()\u001b[39;00m\n\u001b[1;32m--> 794\u001b[0m output \u001b[38;5;241m=\u001b[39m \u001b[38;5;28;43mrepr\u001b[39;49m\u001b[43m(\u001b[49m\u001b[43mobj\u001b[49m\u001b[43m)\u001b[49m\n\u001b[0;32m    795\u001b[0m lines \u001b[38;5;241m=\u001b[39m output\u001b[38;5;241m.\u001b[39msplitlines()\n\u001b[0;32m    796\u001b[0m \u001b[38;5;28;01mwith\u001b[39;00m p\u001b[38;5;241m.\u001b[39mgroup():\n",
      "File \u001b[1;32mc:\\Users\\Mohajeri.K\\AppData\\Local\\anaconda3\\envs\\patient\\lib\\collections\\__init__.py:1123\u001b[0m, in \u001b[0;36mUserDict.__repr__\u001b[1;34m(self)\u001b[0m\n\u001b[0;32m   1122\u001b[0m \u001b[38;5;28;01mdef\u001b[39;00m \u001b[38;5;21m__repr__\u001b[39m(\u001b[38;5;28mself\u001b[39m):\n\u001b[1;32m-> 1123\u001b[0m     \u001b[38;5;28;01mreturn\u001b[39;00m \u001b[38;5;28;43mrepr\u001b[39;49m\u001b[43m(\u001b[49m\u001b[38;5;28;43mself\u001b[39;49m\u001b[38;5;241;43m.\u001b[39;49m\u001b[43mdata\u001b[49m\u001b[43m)\u001b[49m\n",
      "File \u001b[1;32mc:\\Users\\Mohajeri.K\\MyProjects\\Minos\\src\\pkg\\MedCore.py:445\u001b[0m, in \u001b[0;36mPatient.__repr__\u001b[1;34m(self)\u001b[0m\n\u001b[0;32m    444\u001b[0m \u001b[38;5;28;01mdef\u001b[39;00m \u001b[38;5;21m__repr__\u001b[39m(\u001b[38;5;28mself\u001b[39m):\n\u001b[1;32m--> 445\u001b[0m     \u001b[38;5;28;01mreturn\u001b[39;00m \u001b[38;5;124mf\u001b[39m\u001b[38;5;124m\"\u001b[39m\u001b[38;5;124mPatient(chars=\u001b[39m\u001b[38;5;132;01m{\u001b[39;00m\u001b[38;5;28mself\u001b[39m\u001b[38;5;241m.\u001b[39mget_char_names()\u001b[38;5;132;01m}\u001b[39;00m\u001b[38;5;124m, \u001b[39m\u001b[38;5;130;01m\\n\u001b[39;00m\u001b[38;5;124mSize=\u001b[39m\u001b[38;5;132;01m{\u001b[39;00m\u001b[38;5;28mself\u001b[39m\u001b[38;5;241m.\u001b[39msize\u001b[38;5;132;01m}\u001b[39;00m\u001b[38;5;124m, \u001b[39m\u001b[38;5;130;01m\\n\u001b[39;00m\u001b[38;5;124mTreatments=\u001b[39m\u001b[38;5;132;01m{\u001b[39;00m\u001b[38;5;28mself\u001b[39m\u001b[38;5;241m.\u001b[39mtreatments\u001b[38;5;132;01m}\u001b[39;00m\u001b[38;5;124m)\u001b[39m\u001b[38;5;124m\"\u001b[39m\n",
      "File \u001b[1;32mc:\\Users\\Mohajeri.K\\AppData\\Local\\anaconda3\\envs\\patient\\lib\\collections\\__init__.py:1193\u001b[0m, in \u001b[0;36mUserList.__repr__\u001b[1;34m(self)\u001b[0m\n\u001b[0;32m   1192\u001b[0m \u001b[38;5;28;01mdef\u001b[39;00m \u001b[38;5;21m__repr__\u001b[39m(\u001b[38;5;28mself\u001b[39m):\n\u001b[1;32m-> 1193\u001b[0m     \u001b[38;5;28;01mreturn\u001b[39;00m \u001b[38;5;28mrepr\u001b[39m(\u001b[38;5;28;43mself\u001b[39;49m\u001b[38;5;241;43m.\u001b[39;49m\u001b[43mdata\u001b[49m)\n",
      "File \u001b[1;32mc:\\Users\\Mohajeri.K\\AppData\\Local\\anaconda3\\envs\\patient\\lib\\site-packages\\ZODB\\Connection.py:788\u001b[0m, in \u001b[0;36mConnection.setstate\u001b[1;34m(self, obj)\u001b[0m\n\u001b[0;32m    784\u001b[0m p, serial \u001b[38;5;241m=\u001b[39m \u001b[38;5;28mself\u001b[39m\u001b[38;5;241m.\u001b[39m_storage\u001b[38;5;241m.\u001b[39mload(oid)\n\u001b[0;32m    786\u001b[0m \u001b[38;5;28mself\u001b[39m\u001b[38;5;241m.\u001b[39m_load_count \u001b[38;5;241m+\u001b[39m\u001b[38;5;241m=\u001b[39m \u001b[38;5;241m1\u001b[39m\n\u001b[1;32m--> 788\u001b[0m \u001b[38;5;28;43mself\u001b[39;49m\u001b[38;5;241;43m.\u001b[39;49m\u001b[43m_reader\u001b[49m\u001b[38;5;241;43m.\u001b[39;49m\u001b[43msetGhostState\u001b[49m\u001b[43m(\u001b[49m\u001b[43mobj\u001b[49m\u001b[43m,\u001b[49m\u001b[43m \u001b[49m\u001b[43mp\u001b[49m\u001b[43m)\u001b[49m\n\u001b[0;32m    789\u001b[0m obj\u001b[38;5;241m.\u001b[39m_p_serial \u001b[38;5;241m=\u001b[39m serial\n\u001b[0;32m    790\u001b[0m \u001b[38;5;28mself\u001b[39m\u001b[38;5;241m.\u001b[39m_cache\u001b[38;5;241m.\u001b[39mupdate_object_size_estimation(oid, \u001b[38;5;28mlen\u001b[39m(p))\n",
      "File \u001b[1;32mc:\\Users\\Mohajeri.K\\AppData\\Local\\anaconda3\\envs\\patient\\lib\\site-packages\\ZODB\\serialize.py:638\u001b[0m, in \u001b[0;36mObjectReader.setGhostState\u001b[1;34m(self, obj, pickle)\u001b[0m\n\u001b[0;32m    637\u001b[0m \u001b[38;5;28;01mdef\u001b[39;00m \u001b[38;5;21msetGhostState\u001b[39m(\u001b[38;5;28mself\u001b[39m, obj, pickle):\n\u001b[1;32m--> 638\u001b[0m     state \u001b[38;5;241m=\u001b[39m \u001b[38;5;28;43mself\u001b[39;49m\u001b[38;5;241;43m.\u001b[39;49m\u001b[43mgetState\u001b[49m\u001b[43m(\u001b[49m\u001b[43mpickle\u001b[49m\u001b[43m)\u001b[49m\n\u001b[0;32m    639\u001b[0m     obj\u001b[38;5;241m.\u001b[39m__setstate__(state)\n",
      "File \u001b[1;32mc:\\Users\\Mohajeri.K\\AppData\\Local\\anaconda3\\envs\\patient\\lib\\site-packages\\ZODB\\serialize.py:631\u001b[0m, in \u001b[0;36mObjectReader.getState\u001b[1;34m(self, pickle)\u001b[0m\n\u001b[0;32m    629\u001b[0m \u001b[38;5;28;01mtry\u001b[39;00m:\n\u001b[0;32m    630\u001b[0m     unpickler\u001b[38;5;241m.\u001b[39mload()  \u001b[38;5;66;03m# skip the class metadata\u001b[39;00m\n\u001b[1;32m--> 631\u001b[0m     \u001b[38;5;28;01mreturn\u001b[39;00m \u001b[43munpickler\u001b[49m\u001b[38;5;241;43m.\u001b[39;49m\u001b[43mload\u001b[49m\u001b[43m(\u001b[49m\u001b[43m)\u001b[49m\n\u001b[0;32m    632\u001b[0m \u001b[38;5;28;01mexcept\u001b[39;00m \u001b[38;5;167;01mEOFError\u001b[39;00m:\n\u001b[0;32m    633\u001b[0m     log \u001b[38;5;241m=\u001b[39m logging\u001b[38;5;241m.\u001b[39mgetLogger(\u001b[38;5;124m\"\u001b[39m\u001b[38;5;124mZODB.serialize\u001b[39m\u001b[38;5;124m\"\u001b[39m)\n",
      "File \u001b[1;32mc:\\Users\\Mohajeri.K\\AppData\\Local\\anaconda3\\envs\\patient\\lib\\site-packages\\ZODB\\serialize.py:498\u001b[0m, in \u001b[0;36mObjectReader._persistent_load\u001b[1;34m(self, reference)\u001b[0m\n\u001b[0;32m    496\u001b[0m \u001b[38;5;28;01mdef\u001b[39;00m \u001b[38;5;21m_persistent_load\u001b[39m(\u001b[38;5;28mself\u001b[39m, reference):\n\u001b[0;32m    497\u001b[0m     \u001b[38;5;28;01mif\u001b[39;00m \u001b[38;5;28misinstance\u001b[39m(reference, \u001b[38;5;28mtuple\u001b[39m):\n\u001b[1;32m--> 498\u001b[0m         \u001b[38;5;28;01mreturn\u001b[39;00m \u001b[38;5;28;43mself\u001b[39;49m\u001b[38;5;241;43m.\u001b[39;49m\u001b[43mload_persistent\u001b[49m\u001b[43m(\u001b[49m\u001b[38;5;241;43m*\u001b[39;49m\u001b[43mreference\u001b[49m\u001b[43m)\u001b[49m\n\u001b[0;32m    499\u001b[0m     \u001b[38;5;28;01melif\u001b[39;00m \u001b[38;5;28misinstance\u001b[39m(reference, (\u001b[38;5;28mbytes\u001b[39m, \u001b[38;5;28mstr\u001b[39m)):\n\u001b[0;32m    500\u001b[0m         \u001b[38;5;28;01mreturn\u001b[39;00m \u001b[38;5;28mself\u001b[39m\u001b[38;5;241m.\u001b[39mload_oid(reference)\n",
      "File \u001b[1;32mc:\\Users\\Mohajeri.K\\AppData\\Local\\anaconda3\\envs\\patient\\lib\\site-packages\\ZODB\\serialize.py:533\u001b[0m, in \u001b[0;36mObjectReader.load_persistent\u001b[1;34m(self, oid, klass)\u001b[0m\n\u001b[0;32m    530\u001b[0m         klass \u001b[38;5;241m=\u001b[39m broken\u001b[38;5;241m.\u001b[39mpersistentBroken(klass)\n\u001b[0;32m    532\u001b[0m \u001b[38;5;28;01mtry\u001b[39;00m:\n\u001b[1;32m--> 533\u001b[0m     obj \u001b[38;5;241m=\u001b[39m \u001b[43mklass\u001b[49m\u001b[38;5;241;43m.\u001b[39;49m\u001b[38;5;21;43m__new__\u001b[39;49m\u001b[43m(\u001b[49m\u001b[43mklass\u001b[49m\u001b[43m)\u001b[49m\n\u001b[0;32m    534\u001b[0m \u001b[38;5;28;01mexcept\u001b[39;00m \u001b[38;5;167;01mTypeError\u001b[39;00m:\n\u001b[0;32m    535\u001b[0m     \u001b[38;5;66;03m# Couldn't create the instance.  Maybe there's more\u001b[39;00m\n\u001b[0;32m    536\u001b[0m     \u001b[38;5;66;03m# current data in the object's actual record!\u001b[39;00m\n\u001b[0;32m    537\u001b[0m     \u001b[38;5;28;01mreturn\u001b[39;00m \u001b[38;5;28mself\u001b[39m\u001b[38;5;241m.\u001b[39m_conn\u001b[38;5;241m.\u001b[39mget(oid)\n",
      "File \u001b[1;32mc:\\Users\\Mohajeri.K\\MyProjects\\Minos\\src\\pkg\\MedCore.py:258\u001b[0m, in \u001b[0;36mAlternativeTreatments.__new__\u001b[1;34m(cls, rates, *alternatives)\u001b[0m\n\u001b[0;32m    256\u001b[0m \u001b[38;5;28;01mdef\u001b[39;00m \u001b[38;5;21m__new__\u001b[39m(\u001b[38;5;28mcls\u001b[39m, \u001b[38;5;241m*\u001b[39malternatives: Treatment, rates: \u001b[38;5;28mlist\u001b[39m\u001b[38;5;241m=\u001b[39m\u001b[38;5;28;01mNone\u001b[39;00m):\n\u001b[0;32m    257\u001b[0m     combined_name \u001b[38;5;241m=\u001b[39m \u001b[38;5;124m\"\u001b[39m\u001b[38;5;124m / \u001b[39m\u001b[38;5;124m\"\u001b[39m\u001b[38;5;241m.\u001b[39mjoin(treatment\u001b[38;5;241m.\u001b[39mname \u001b[38;5;28;01mfor\u001b[39;00m treatment \u001b[38;5;129;01min\u001b[39;00m alternatives)\n\u001b[1;32m--> 258\u001b[0m     \u001b[38;5;28;01mreturn\u001b[39;00m \u001b[38;5;28;43msuper\u001b[39;49m\u001b[43m(\u001b[49m\u001b[43m)\u001b[49m\u001b[38;5;241;43m.\u001b[39;49m\u001b[38;5;21;43m__new__\u001b[39;49m\u001b[43m(\u001b[49m\u001b[38;5;28;43mcls\u001b[39;49m\u001b[43m,\u001b[49m\u001b[43m \u001b[49m\u001b[43mcombined_name\u001b[49m\u001b[43m)\u001b[49m\n",
      "File \u001b[1;32mc:\\Users\\Mohajeri.K\\MyProjects\\Minos\\src\\pkg\\MedCore.py:178\u001b[0m, in \u001b[0;36mTreatment.__new__\u001b[1;34m(cls, name)\u001b[0m\n\u001b[0;32m    176\u001b[0m registry \u001b[38;5;241m=\u001b[39m RegistryManager()\u001b[38;5;241m.\u001b[39mget_registry(\u001b[38;5;124m'\u001b[39m\u001b[38;5;124mtreatment_registry\u001b[39m\u001b[38;5;124m'\u001b[39m)\n\u001b[0;32m    177\u001b[0m key \u001b[38;5;241m=\u001b[39m (\u001b[38;5;28mcls\u001b[39m\u001b[38;5;241m.\u001b[39m\u001b[38;5;18m__name__\u001b[39m, name)\n\u001b[1;32m--> 178\u001b[0m \u001b[38;5;28;01mif\u001b[39;00m \u001b[43mkey\u001b[49m\u001b[43m \u001b[49m\u001b[38;5;129;43;01min\u001b[39;49;00m\u001b[43m \u001b[49m\u001b[43mregistry\u001b[49m:\n\u001b[0;32m    179\u001b[0m     \u001b[38;5;28;01mreturn\u001b[39;00m registry[key]\n\u001b[0;32m    180\u001b[0m \u001b[38;5;28;01melse\u001b[39;00m:\n",
      "File \u001b[1;32mc:\\Users\\Mohajeri.K\\AppData\\Local\\anaconda3\\envs\\patient\\lib\\collections\\__init__.py:1119\u001b[0m, in \u001b[0;36mUserDict.__contains__\u001b[1;34m(self, key)\u001b[0m\n\u001b[0;32m   1118\u001b[0m \u001b[38;5;28;01mdef\u001b[39;00m \u001b[38;5;21m__contains__\u001b[39m(\u001b[38;5;28mself\u001b[39m, key):\n\u001b[1;32m-> 1119\u001b[0m     \u001b[38;5;28;01mreturn\u001b[39;00m key \u001b[38;5;129;01min\u001b[39;00m \u001b[38;5;28;43mself\u001b[39;49m\u001b[38;5;241;43m.\u001b[39;49m\u001b[43mdata\u001b[49m\n",
      "File \u001b[1;32mc:\\Users\\Mohajeri.K\\AppData\\Local\\anaconda3\\envs\\patient\\lib\\site-packages\\ZODB\\Connection.py:788\u001b[0m, in \u001b[0;36mConnection.setstate\u001b[1;34m(self, obj)\u001b[0m\n\u001b[0;32m    784\u001b[0m p, serial \u001b[38;5;241m=\u001b[39m \u001b[38;5;28mself\u001b[39m\u001b[38;5;241m.\u001b[39m_storage\u001b[38;5;241m.\u001b[39mload(oid)\n\u001b[0;32m    786\u001b[0m \u001b[38;5;28mself\u001b[39m\u001b[38;5;241m.\u001b[39m_load_count \u001b[38;5;241m+\u001b[39m\u001b[38;5;241m=\u001b[39m \u001b[38;5;241m1\u001b[39m\n\u001b[1;32m--> 788\u001b[0m \u001b[38;5;28;43mself\u001b[39;49m\u001b[38;5;241;43m.\u001b[39;49m\u001b[43m_reader\u001b[49m\u001b[38;5;241;43m.\u001b[39;49m\u001b[43msetGhostState\u001b[49m\u001b[43m(\u001b[49m\u001b[43mobj\u001b[49m\u001b[43m,\u001b[49m\u001b[43m \u001b[49m\u001b[43mp\u001b[49m\u001b[43m)\u001b[49m\n\u001b[0;32m    789\u001b[0m obj\u001b[38;5;241m.\u001b[39m_p_serial \u001b[38;5;241m=\u001b[39m serial\n\u001b[0;32m    790\u001b[0m \u001b[38;5;28mself\u001b[39m\u001b[38;5;241m.\u001b[39m_cache\u001b[38;5;241m.\u001b[39mupdate_object_size_estimation(oid, \u001b[38;5;28mlen\u001b[39m(p))\n",
      "File \u001b[1;32mc:\\Users\\Mohajeri.K\\AppData\\Local\\anaconda3\\envs\\patient\\lib\\site-packages\\ZODB\\serialize.py:638\u001b[0m, in \u001b[0;36mObjectReader.setGhostState\u001b[1;34m(self, obj, pickle)\u001b[0m\n\u001b[0;32m    637\u001b[0m \u001b[38;5;28;01mdef\u001b[39;00m \u001b[38;5;21msetGhostState\u001b[39m(\u001b[38;5;28mself\u001b[39m, obj, pickle):\n\u001b[1;32m--> 638\u001b[0m     state \u001b[38;5;241m=\u001b[39m \u001b[38;5;28;43mself\u001b[39;49m\u001b[38;5;241;43m.\u001b[39;49m\u001b[43mgetState\u001b[49m\u001b[43m(\u001b[49m\u001b[43mpickle\u001b[49m\u001b[43m)\u001b[49m\n\u001b[0;32m    639\u001b[0m     obj\u001b[38;5;241m.\u001b[39m__setstate__(state)\n",
      "File \u001b[1;32mc:\\Users\\Mohajeri.K\\AppData\\Local\\anaconda3\\envs\\patient\\lib\\site-packages\\ZODB\\serialize.py:631\u001b[0m, in \u001b[0;36mObjectReader.getState\u001b[1;34m(self, pickle)\u001b[0m\n\u001b[0;32m    629\u001b[0m \u001b[38;5;28;01mtry\u001b[39;00m:\n\u001b[0;32m    630\u001b[0m     unpickler\u001b[38;5;241m.\u001b[39mload()  \u001b[38;5;66;03m# skip the class metadata\u001b[39;00m\n\u001b[1;32m--> 631\u001b[0m     \u001b[38;5;28;01mreturn\u001b[39;00m \u001b[43munpickler\u001b[49m\u001b[38;5;241;43m.\u001b[39;49m\u001b[43mload\u001b[49m\u001b[43m(\u001b[49m\u001b[43m)\u001b[49m\n\u001b[0;32m    632\u001b[0m \u001b[38;5;28;01mexcept\u001b[39;00m \u001b[38;5;167;01mEOFError\u001b[39;00m:\n\u001b[0;32m    633\u001b[0m     log \u001b[38;5;241m=\u001b[39m logging\u001b[38;5;241m.\u001b[39mgetLogger(\u001b[38;5;124m\"\u001b[39m\u001b[38;5;124mZODB.serialize\u001b[39m\u001b[38;5;124m\"\u001b[39m)\n",
      "File \u001b[1;32mc:\\Users\\Mohajeri.K\\AppData\\Local\\anaconda3\\envs\\patient\\lib\\site-packages\\ZODB\\serialize.py:498\u001b[0m, in \u001b[0;36mObjectReader._persistent_load\u001b[1;34m(self, reference)\u001b[0m\n\u001b[0;32m    496\u001b[0m \u001b[38;5;28;01mdef\u001b[39;00m \u001b[38;5;21m_persistent_load\u001b[39m(\u001b[38;5;28mself\u001b[39m, reference):\n\u001b[0;32m    497\u001b[0m     \u001b[38;5;28;01mif\u001b[39;00m \u001b[38;5;28misinstance\u001b[39m(reference, \u001b[38;5;28mtuple\u001b[39m):\n\u001b[1;32m--> 498\u001b[0m         \u001b[38;5;28;01mreturn\u001b[39;00m \u001b[38;5;28;43mself\u001b[39;49m\u001b[38;5;241;43m.\u001b[39;49m\u001b[43mload_persistent\u001b[49m\u001b[43m(\u001b[49m\u001b[38;5;241;43m*\u001b[39;49m\u001b[43mreference\u001b[49m\u001b[43m)\u001b[49m\n\u001b[0;32m    499\u001b[0m     \u001b[38;5;28;01melif\u001b[39;00m \u001b[38;5;28misinstance\u001b[39m(reference, (\u001b[38;5;28mbytes\u001b[39m, \u001b[38;5;28mstr\u001b[39m)):\n\u001b[0;32m    500\u001b[0m         \u001b[38;5;28;01mreturn\u001b[39;00m \u001b[38;5;28mself\u001b[39m\u001b[38;5;241m.\u001b[39mload_oid(reference)\n",
      "File \u001b[1;32mc:\\Users\\Mohajeri.K\\AppData\\Local\\anaconda3\\envs\\patient\\lib\\site-packages\\ZODB\\serialize.py:533\u001b[0m, in \u001b[0;36mObjectReader.load_persistent\u001b[1;34m(self, oid, klass)\u001b[0m\n\u001b[0;32m    530\u001b[0m         klass \u001b[38;5;241m=\u001b[39m broken\u001b[38;5;241m.\u001b[39mpersistentBroken(klass)\n\u001b[0;32m    532\u001b[0m \u001b[38;5;28;01mtry\u001b[39;00m:\n\u001b[1;32m--> 533\u001b[0m     obj \u001b[38;5;241m=\u001b[39m \u001b[43mklass\u001b[49m\u001b[38;5;241;43m.\u001b[39;49m\u001b[38;5;21;43m__new__\u001b[39;49m\u001b[43m(\u001b[49m\u001b[43mklass\u001b[49m\u001b[43m)\u001b[49m\n\u001b[0;32m    534\u001b[0m \u001b[38;5;28;01mexcept\u001b[39;00m \u001b[38;5;167;01mTypeError\u001b[39;00m:\n\u001b[0;32m    535\u001b[0m     \u001b[38;5;66;03m# Couldn't create the instance.  Maybe there's more\u001b[39;00m\n\u001b[0;32m    536\u001b[0m     \u001b[38;5;66;03m# current data in the object's actual record!\u001b[39;00m\n\u001b[0;32m    537\u001b[0m     \u001b[38;5;28;01mreturn\u001b[39;00m \u001b[38;5;28mself\u001b[39m\u001b[38;5;241m.\u001b[39m_conn\u001b[38;5;241m.\u001b[39mget(oid)\n",
      "File \u001b[1;32mc:\\Users\\Mohajeri.K\\MyProjects\\Minos\\src\\pkg\\MedCore.py:258\u001b[0m, in \u001b[0;36mAlternativeTreatments.__new__\u001b[1;34m(cls, rates, *alternatives)\u001b[0m\n\u001b[0;32m    256\u001b[0m \u001b[38;5;28;01mdef\u001b[39;00m \u001b[38;5;21m__new__\u001b[39m(\u001b[38;5;28mcls\u001b[39m, \u001b[38;5;241m*\u001b[39malternatives: Treatment, rates: \u001b[38;5;28mlist\u001b[39m\u001b[38;5;241m=\u001b[39m\u001b[38;5;28;01mNone\u001b[39;00m):\n\u001b[0;32m    257\u001b[0m     combined_name \u001b[38;5;241m=\u001b[39m \u001b[38;5;124m\"\u001b[39m\u001b[38;5;124m / \u001b[39m\u001b[38;5;124m\"\u001b[39m\u001b[38;5;241m.\u001b[39mjoin(treatment\u001b[38;5;241m.\u001b[39mname \u001b[38;5;28;01mfor\u001b[39;00m treatment \u001b[38;5;129;01min\u001b[39;00m alternatives)\n\u001b[1;32m--> 258\u001b[0m     \u001b[38;5;28;01mreturn\u001b[39;00m \u001b[38;5;28;43msuper\u001b[39;49m\u001b[43m(\u001b[49m\u001b[43m)\u001b[49m\u001b[38;5;241;43m.\u001b[39;49m\u001b[38;5;21;43m__new__\u001b[39;49m\u001b[43m(\u001b[49m\u001b[38;5;28;43mcls\u001b[39;49m\u001b[43m,\u001b[49m\u001b[43m \u001b[49m\u001b[43mcombined_name\u001b[49m\u001b[43m)\u001b[49m\n",
      "File \u001b[1;32mc:\\Users\\Mohajeri.K\\MyProjects\\Minos\\src\\pkg\\MedCore.py:178\u001b[0m, in \u001b[0;36mTreatment.__new__\u001b[1;34m(cls, name)\u001b[0m\n\u001b[0;32m    176\u001b[0m registry \u001b[38;5;241m=\u001b[39m RegistryManager()\u001b[38;5;241m.\u001b[39mget_registry(\u001b[38;5;124m'\u001b[39m\u001b[38;5;124mtreatment_registry\u001b[39m\u001b[38;5;124m'\u001b[39m)\n\u001b[0;32m    177\u001b[0m key \u001b[38;5;241m=\u001b[39m (\u001b[38;5;28mcls\u001b[39m\u001b[38;5;241m.\u001b[39m\u001b[38;5;18m__name__\u001b[39m, name)\n\u001b[1;32m--> 178\u001b[0m \u001b[38;5;28;01mif\u001b[39;00m \u001b[43mkey\u001b[49m\u001b[43m \u001b[49m\u001b[38;5;129;43;01min\u001b[39;49;00m\u001b[43m \u001b[49m\u001b[43mregistry\u001b[49m:\n\u001b[0;32m    179\u001b[0m     \u001b[38;5;28;01mreturn\u001b[39;00m registry[key]\n\u001b[0;32m    180\u001b[0m \u001b[38;5;28;01melse\u001b[39;00m:\n",
      "File \u001b[1;32mc:\\Users\\Mohajeri.K\\AppData\\Local\\anaconda3\\envs\\patient\\lib\\collections\\__init__.py:1119\u001b[0m, in \u001b[0;36mUserDict.__contains__\u001b[1;34m(self, key)\u001b[0m\n\u001b[0;32m   1118\u001b[0m \u001b[38;5;28;01mdef\u001b[39;00m \u001b[38;5;21m__contains__\u001b[39m(\u001b[38;5;28mself\u001b[39m, key):\n\u001b[1;32m-> 1119\u001b[0m     \u001b[38;5;28;01mreturn\u001b[39;00m key \u001b[38;5;129;01min\u001b[39;00m \u001b[38;5;28;43mself\u001b[39;49m\u001b[38;5;241;43m.\u001b[39;49m\u001b[43mdata\u001b[49m\n",
      "File \u001b[1;32mc:\\Users\\Mohajeri.K\\AppData\\Local\\anaconda3\\envs\\patient\\lib\\site-packages\\persistent\\mapping.py:29\u001b[0m, in \u001b[0;36mdefault.__get__\u001b[1;34m(self, inst, class_)\u001b[0m\n\u001b[0;32m     27\u001b[0m \u001b[38;5;28;01mif\u001b[39;00m inst \u001b[38;5;129;01mis\u001b[39;00m \u001b[38;5;28;01mNone\u001b[39;00m:\n\u001b[0;32m     28\u001b[0m     \u001b[38;5;28;01mreturn\u001b[39;00m \u001b[38;5;28mself\u001b[39m\n\u001b[1;32m---> 29\u001b[0m \u001b[38;5;28;01mreturn\u001b[39;00m \u001b[38;5;28;43mself\u001b[39;49m\u001b[38;5;241;43m.\u001b[39;49m\u001b[43mfunc\u001b[49m\u001b[43m(\u001b[49m\u001b[43minst\u001b[49m\u001b[43m)\u001b[49m\n",
      "File \u001b[1;32mc:\\Users\\Mohajeri.K\\AppData\\Local\\anaconda3\\envs\\patient\\lib\\site-packages\\persistent\\mapping.py:149\u001b[0m, in \u001b[0;36mPersistentMapping.data\u001b[1;34m(self)\u001b[0m\n\u001b[0;32m    143\u001b[0m \u001b[38;5;129m@default\u001b[39m\n\u001b[0;32m    144\u001b[0m \u001b[38;5;28;01mdef\u001b[39;00m \u001b[38;5;21mdata\u001b[39m(\u001b[38;5;28mself\u001b[39m):\n\u001b[0;32m    145\u001b[0m     \u001b[38;5;66;03m# We don't want to cause a write on read, so we're careful not to\u001b[39;00m\n\u001b[0;32m    146\u001b[0m     \u001b[38;5;66;03m# do anything that would cause us to become marked as changed, however,\u001b[39;00m\n\u001b[0;32m    147\u001b[0m     \u001b[38;5;66;03m# if we're modified, then the saved record will have data, not\u001b[39;00m\n\u001b[0;32m    148\u001b[0m     \u001b[38;5;66;03m# _container.\u001b[39;00m\n\u001b[1;32m--> 149\u001b[0m     data \u001b[38;5;241m=\u001b[39m \u001b[38;5;28;43mself\u001b[39;49m\u001b[38;5;241;43m.\u001b[39;49m\u001b[38;5;18;43m__dict__\u001b[39;49m\u001b[38;5;241;43m.\u001b[39;49m\u001b[43mpop\u001b[49m\u001b[43m(\u001b[49m\u001b[38;5;124;43m'\u001b[39;49m\u001b[38;5;124;43m_container\u001b[39;49m\u001b[38;5;124;43m'\u001b[39;49m\u001b[43m)\u001b[49m\n\u001b[0;32m    150\u001b[0m     \u001b[38;5;28mself\u001b[39m\u001b[38;5;241m.\u001b[39m\u001b[38;5;18m__dict__\u001b[39m[\u001b[38;5;124m'\u001b[39m\u001b[38;5;124mdata\u001b[39m\u001b[38;5;124m'\u001b[39m] \u001b[38;5;241m=\u001b[39m data\n\u001b[0;32m    152\u001b[0m     \u001b[38;5;28;01mreturn\u001b[39;00m data\n",
      "\u001b[1;31mKeyError\u001b[0m: '_container'"
     ]
    }
   ],
   "source": [
    "dic"
   ]
  },
  {
   "cell_type": "code",
   "execution_count": null,
   "metadata": {},
   "outputs": [],
   "source": [
    "RegistryManager().close()"
   ]
  },
  {
   "cell_type": "code",
   "execution_count": 1,
   "metadata": {},
   "outputs": [],
   "source": [
    "from MedCore import *\n",
    "from RegistryManager import RegistryManager\n",
    "from utils import commit\n",
    "rm = RegistryManager()\n",
    "char = Characteristic('Country', 'Iran')\n",
    "commit()\n",
    "rm.close()"
   ]
  },
  {
   "cell_type": "code",
   "execution_count": 1,
   "metadata": {},
   "outputs": [
    {
     "name": "stdout",
     "output_type": "stream",
     "text": [
      "KeysView({})\n"
     ]
    }
   ],
   "source": [
    "from MedCore import *\n",
    "from RegistryManager import RegistryManager\n",
    "rm = RegistryManager()\n",
    "registry = rm.get_registry('characteristic_registry')\n",
    "print(registry.keys())  # Should output: [('Country', 'Iran')]"
   ]
  },
  {
   "cell_type": "code",
   "execution_count": 1,
   "metadata": {},
   "outputs": [
    {
     "name": "stdout",
     "output_type": "stream",
     "text": [
      "Root keys: KeysView({})\n"
     ]
    }
   ],
   "source": [
    "from RegistryManager import RegistryManager\n",
    "\n",
    "# Initialize the RegistryManager\n",
    "rm = RegistryManager()\n",
    "root = rm.root\n",
    "print(\"Root keys:\", root.keys())\n"
   ]
  },
  {
   "cell_type": "code",
   "execution_count": 2,
   "metadata": {},
   "outputs": [],
   "source": [
    "# Access registries using the RegistryManager's get_registry method\n",
    "patient_registry = rm.get_registry('patient_registry')\n",
    "characteristic_registry = rm.get_registry('characteristic_registry')\n",
    "drug_registry = rm.get_registry('drug_registry')\n",
    "treatment_registry = rm.get_registry('treatment_registry')\n",
    "followup_registry = rm.get_registry('followup_registry')\n"
   ]
  },
  {
   "cell_type": "code",
   "execution_count": 14,
   "metadata": {},
   "outputs": [],
   "source": [
    "from ZODB import FileStorage, DB\n",
    "import transaction\n",
    "\n",
    "fs_path = 'C:/Users/Mohajeri.K/MyProjects/Minos/src/data/minos_data.fs'\n",
    "storage = FileStorage.FileStorage(fs_path)\n",
    "db = DB(storage)\n",
    "connection = db.open()\n",
    "root = connection.root()"
   ]
  },
  {
   "cell_type": "code",
   "execution_count": 12,
   "metadata": {},
   "outputs": [],
   "source": [
    "connection.close()"
   ]
  },
  {
   "cell_type": "code",
   "execution_count": 13,
   "metadata": {},
   "outputs": [],
   "source": [
    "db.close()"
   ]
  },
  {
   "cell_type": "code",
   "execution_count": 15,
   "metadata": {},
   "outputs": [
    {
     "name": "stderr",
     "output_type": "stream",
     "text": [
      "ERROR:ZODB.Connection:Couldn't load state for persistent.list.PersistentList 0x1b\n",
      "Traceback (most recent call last):\n",
      "  File \"c:\\Users\\Mohajeri.K\\AppData\\Local\\anaconda3\\envs\\patient\\lib\\site-packages\\ZODB\\Connection.py\", line 788, in setstate\n",
      "    self._reader.setGhostState(obj, p)\n",
      "  File \"c:\\Users\\Mohajeri.K\\AppData\\Local\\anaconda3\\envs\\patient\\lib\\site-packages\\ZODB\\serialize.py\", line 638, in setGhostState\n",
      "    state = self.getState(pickle)\n",
      "  File \"c:\\Users\\Mohajeri.K\\AppData\\Local\\anaconda3\\envs\\patient\\lib\\site-packages\\ZODB\\serialize.py\", line 631, in getState\n",
      "    return unpickler.load()\n",
      "  File \"c:\\Users\\Mohajeri.K\\AppData\\Local\\anaconda3\\envs\\patient\\lib\\site-packages\\ZODB\\serialize.py\", line 498, in _persistent_load\n",
      "    return self.load_persistent(*reference)\n",
      "  File \"c:\\Users\\Mohajeri.K\\AppData\\Local\\anaconda3\\envs\\patient\\lib\\site-packages\\ZODB\\serialize.py\", line 533, in load_persistent\n",
      "    obj = klass.__new__(klass)\n",
      "  File \"c:\\Users\\Mohajeri.K\\MyProjects\\Minos\\src\\pkg\\MedCore.py\", line 241, in __new__\n",
      "    return super().__new__(cls, combined_name)\n",
      "  File \"c:\\Users\\Mohajeri.K\\MyProjects\\Minos\\src\\pkg\\MedCore.py\", line 171, in __new__\n",
      "    registry[key] = instance\n",
      "  File \"c:\\Users\\Mohajeri.K\\AppData\\Local\\anaconda3\\envs\\patient\\lib\\site-packages\\persistent\\mapping.py\", line 82, in __setitem__\n",
      "    self._p_changed = 1\n",
      "  File \"c:\\Users\\Mohajeri.K\\AppData\\Local\\anaconda3\\envs\\patient\\lib\\site-packages\\ZODB\\Connection.py\", line 823, in register\n",
      "    self._register(obj)\n",
      "  File \"c:\\Users\\Mohajeri.K\\AppData\\Local\\anaconda3\\envs\\patient\\lib\\site-packages\\ZODB\\Connection.py\", line 833, in _register\n",
      "    self.transaction_manager.get().join(self)\n",
      "AttributeError: 'NoneType' object has no attribute 'get'\n"
     ]
    },
    {
     "ename": "AttributeError",
     "evalue": "'NoneType' object has no attribute 'get'",
     "output_type": "error",
     "traceback": [
      "\u001b[1;31m---------------------------------------------------------------------------\u001b[0m",
      "\u001b[1;31mAttributeError\u001b[0m                            Traceback (most recent call last)",
      "File \u001b[1;32mc:\\Users\\Mohajeri.K\\AppData\\Local\\anaconda3\\envs\\patient\\lib\\site-packages\\IPython\\core\\formatters.py:711\u001b[0m, in \u001b[0;36mPlainTextFormatter.__call__\u001b[1;34m(self, obj)\u001b[0m\n\u001b[0;32m    704\u001b[0m stream \u001b[38;5;241m=\u001b[39m StringIO()\n\u001b[0;32m    705\u001b[0m printer \u001b[38;5;241m=\u001b[39m pretty\u001b[38;5;241m.\u001b[39mRepresentationPrinter(stream, \u001b[38;5;28mself\u001b[39m\u001b[38;5;241m.\u001b[39mverbose,\n\u001b[0;32m    706\u001b[0m     \u001b[38;5;28mself\u001b[39m\u001b[38;5;241m.\u001b[39mmax_width, \u001b[38;5;28mself\u001b[39m\u001b[38;5;241m.\u001b[39mnewline,\n\u001b[0;32m    707\u001b[0m     max_seq_length\u001b[38;5;241m=\u001b[39m\u001b[38;5;28mself\u001b[39m\u001b[38;5;241m.\u001b[39mmax_seq_length,\n\u001b[0;32m    708\u001b[0m     singleton_pprinters\u001b[38;5;241m=\u001b[39m\u001b[38;5;28mself\u001b[39m\u001b[38;5;241m.\u001b[39msingleton_printers,\n\u001b[0;32m    709\u001b[0m     type_pprinters\u001b[38;5;241m=\u001b[39m\u001b[38;5;28mself\u001b[39m\u001b[38;5;241m.\u001b[39mtype_printers,\n\u001b[0;32m    710\u001b[0m     deferred_pprinters\u001b[38;5;241m=\u001b[39m\u001b[38;5;28mself\u001b[39m\u001b[38;5;241m.\u001b[39mdeferred_printers)\n\u001b[1;32m--> 711\u001b[0m \u001b[43mprinter\u001b[49m\u001b[38;5;241;43m.\u001b[39;49m\u001b[43mpretty\u001b[49m\u001b[43m(\u001b[49m\u001b[43mobj\u001b[49m\u001b[43m)\u001b[49m\n\u001b[0;32m    712\u001b[0m printer\u001b[38;5;241m.\u001b[39mflush()\n\u001b[0;32m    713\u001b[0m \u001b[38;5;28;01mreturn\u001b[39;00m stream\u001b[38;5;241m.\u001b[39mgetvalue()\n",
      "File \u001b[1;32mc:\\Users\\Mohajeri.K\\AppData\\Local\\anaconda3\\envs\\patient\\lib\\site-packages\\IPython\\lib\\pretty.py:419\u001b[0m, in \u001b[0;36mRepresentationPrinter.pretty\u001b[1;34m(self, obj)\u001b[0m\n\u001b[0;32m    408\u001b[0m                         \u001b[38;5;28;01mreturn\u001b[39;00m meth(obj, \u001b[38;5;28mself\u001b[39m, cycle)\n\u001b[0;32m    409\u001b[0m                 \u001b[38;5;28;01mif\u001b[39;00m (\n\u001b[0;32m    410\u001b[0m                     \u001b[38;5;28mcls\u001b[39m \u001b[38;5;129;01mis\u001b[39;00m \u001b[38;5;129;01mnot\u001b[39;00m \u001b[38;5;28mobject\u001b[39m\n\u001b[0;32m    411\u001b[0m                     \u001b[38;5;66;03m# check if cls defines __repr__\u001b[39;00m\n\u001b[1;32m   (...)\u001b[0m\n\u001b[0;32m    417\u001b[0m                     \u001b[38;5;129;01mand\u001b[39;00m \u001b[38;5;28mcallable\u001b[39m(_safe_getattr(\u001b[38;5;28mcls\u001b[39m, \u001b[38;5;124m\"\u001b[39m\u001b[38;5;124m__repr__\u001b[39m\u001b[38;5;124m\"\u001b[39m, \u001b[38;5;28;01mNone\u001b[39;00m))\n\u001b[0;32m    418\u001b[0m                 ):\n\u001b[1;32m--> 419\u001b[0m                     \u001b[38;5;28;01mreturn\u001b[39;00m \u001b[43m_repr_pprint\u001b[49m\u001b[43m(\u001b[49m\u001b[43mobj\u001b[49m\u001b[43m,\u001b[49m\u001b[43m \u001b[49m\u001b[38;5;28;43mself\u001b[39;49m\u001b[43m,\u001b[49m\u001b[43m \u001b[49m\u001b[43mcycle\u001b[49m\u001b[43m)\u001b[49m\n\u001b[0;32m    421\u001b[0m     \u001b[38;5;28;01mreturn\u001b[39;00m _default_pprint(obj, \u001b[38;5;28mself\u001b[39m, cycle)\n\u001b[0;32m    422\u001b[0m \u001b[38;5;28;01mfinally\u001b[39;00m:\n",
      "File \u001b[1;32mc:\\Users\\Mohajeri.K\\AppData\\Local\\anaconda3\\envs\\patient\\lib\\site-packages\\IPython\\lib\\pretty.py:794\u001b[0m, in \u001b[0;36m_repr_pprint\u001b[1;34m(obj, p, cycle)\u001b[0m\n\u001b[0;32m    792\u001b[0m \u001b[38;5;250m\u001b[39m\u001b[38;5;124;03m\"\"\"A pprint that just redirects to the normal repr function.\"\"\"\u001b[39;00m\n\u001b[0;32m    793\u001b[0m \u001b[38;5;66;03m# Find newlines and replace them with p.break_()\u001b[39;00m\n\u001b[1;32m--> 794\u001b[0m output \u001b[38;5;241m=\u001b[39m \u001b[38;5;28;43mrepr\u001b[39;49m\u001b[43m(\u001b[49m\u001b[43mobj\u001b[49m\u001b[43m)\u001b[49m\n\u001b[0;32m    795\u001b[0m lines \u001b[38;5;241m=\u001b[39m output\u001b[38;5;241m.\u001b[39msplitlines()\n\u001b[0;32m    796\u001b[0m \u001b[38;5;28;01mwith\u001b[39;00m p\u001b[38;5;241m.\u001b[39mgroup():\n",
      "File \u001b[1;32mc:\\Users\\Mohajeri.K\\AppData\\Local\\anaconda3\\envs\\patient\\lib\\collections\\__init__.py:1123\u001b[0m, in \u001b[0;36mUserDict.__repr__\u001b[1;34m(self)\u001b[0m\n\u001b[0;32m   1122\u001b[0m \u001b[38;5;28;01mdef\u001b[39;00m \u001b[38;5;21m__repr__\u001b[39m(\u001b[38;5;28mself\u001b[39m):\n\u001b[1;32m-> 1123\u001b[0m     \u001b[38;5;28;01mreturn\u001b[39;00m \u001b[38;5;28;43mrepr\u001b[39;49m\u001b[43m(\u001b[49m\u001b[38;5;28;43mself\u001b[39;49m\u001b[38;5;241;43m.\u001b[39;49m\u001b[43mdata\u001b[49m\u001b[43m)\u001b[49m\n",
      "File \u001b[1;32mc:\\Users\\Mohajeri.K\\AppData\\Local\\anaconda3\\envs\\patient\\lib\\collections\\__init__.py:1123\u001b[0m, in \u001b[0;36mUserDict.__repr__\u001b[1;34m(self)\u001b[0m\n\u001b[0;32m   1122\u001b[0m \u001b[38;5;28;01mdef\u001b[39;00m \u001b[38;5;21m__repr__\u001b[39m(\u001b[38;5;28mself\u001b[39m):\n\u001b[1;32m-> 1123\u001b[0m     \u001b[38;5;28;01mreturn\u001b[39;00m \u001b[38;5;28;43mrepr\u001b[39;49m\u001b[43m(\u001b[49m\u001b[38;5;28;43mself\u001b[39;49m\u001b[38;5;241;43m.\u001b[39;49m\u001b[43mdata\u001b[49m\u001b[43m)\u001b[49m\n",
      "File \u001b[1;32mc:\\Users\\Mohajeri.K\\MyProjects\\Minos\\src\\pkg\\MedCore.py:427\u001b[0m, in \u001b[0;36mPatient.__repr__\u001b[1;34m(self)\u001b[0m\n\u001b[0;32m    426\u001b[0m \u001b[38;5;28;01mdef\u001b[39;00m \u001b[38;5;21m__repr__\u001b[39m(\u001b[38;5;28mself\u001b[39m):\n\u001b[1;32m--> 427\u001b[0m     \u001b[38;5;28;01mreturn\u001b[39;00m \u001b[38;5;124mf\u001b[39m\u001b[38;5;124m\"\u001b[39m\u001b[38;5;124mPatient(chars=\u001b[39m\u001b[38;5;132;01m{\u001b[39;00m\u001b[38;5;28mself\u001b[39m\u001b[38;5;241m.\u001b[39mget_char_names()\u001b[38;5;132;01m}\u001b[39;00m\u001b[38;5;124m, \u001b[39m\u001b[38;5;130;01m\\n\u001b[39;00m\u001b[38;5;124mSize=\u001b[39m\u001b[38;5;132;01m{\u001b[39;00m\u001b[38;5;28mself\u001b[39m\u001b[38;5;241m.\u001b[39msize\u001b[38;5;132;01m}\u001b[39;00m\u001b[38;5;124m, \u001b[39m\u001b[38;5;130;01m\\n\u001b[39;00m\u001b[38;5;124mTreatments=\u001b[39m\u001b[38;5;132;01m{\u001b[39;00m\u001b[38;5;28mself\u001b[39m\u001b[38;5;241m.\u001b[39mtreatments\u001b[38;5;132;01m}\u001b[39;00m\u001b[38;5;124m)\u001b[39m\u001b[38;5;124m\"\u001b[39m\n",
      "File \u001b[1;32mc:\\Users\\Mohajeri.K\\AppData\\Local\\anaconda3\\envs\\patient\\lib\\collections\\__init__.py:1193\u001b[0m, in \u001b[0;36mUserList.__repr__\u001b[1;34m(self)\u001b[0m\n\u001b[0;32m   1192\u001b[0m \u001b[38;5;28;01mdef\u001b[39;00m \u001b[38;5;21m__repr__\u001b[39m(\u001b[38;5;28mself\u001b[39m):\n\u001b[1;32m-> 1193\u001b[0m     \u001b[38;5;28;01mreturn\u001b[39;00m \u001b[38;5;28mrepr\u001b[39m(\u001b[38;5;28;43mself\u001b[39;49m\u001b[38;5;241;43m.\u001b[39;49m\u001b[43mdata\u001b[49m)\n",
      "File \u001b[1;32mc:\\Users\\Mohajeri.K\\AppData\\Local\\anaconda3\\envs\\patient\\lib\\site-packages\\ZODB\\Connection.py:788\u001b[0m, in \u001b[0;36mConnection.setstate\u001b[1;34m(self, obj)\u001b[0m\n\u001b[0;32m    784\u001b[0m p, serial \u001b[38;5;241m=\u001b[39m \u001b[38;5;28mself\u001b[39m\u001b[38;5;241m.\u001b[39m_storage\u001b[38;5;241m.\u001b[39mload(oid)\n\u001b[0;32m    786\u001b[0m \u001b[38;5;28mself\u001b[39m\u001b[38;5;241m.\u001b[39m_load_count \u001b[38;5;241m+\u001b[39m\u001b[38;5;241m=\u001b[39m \u001b[38;5;241m1\u001b[39m\n\u001b[1;32m--> 788\u001b[0m \u001b[38;5;28;43mself\u001b[39;49m\u001b[38;5;241;43m.\u001b[39;49m\u001b[43m_reader\u001b[49m\u001b[38;5;241;43m.\u001b[39;49m\u001b[43msetGhostState\u001b[49m\u001b[43m(\u001b[49m\u001b[43mobj\u001b[49m\u001b[43m,\u001b[49m\u001b[43m \u001b[49m\u001b[43mp\u001b[49m\u001b[43m)\u001b[49m\n\u001b[0;32m    789\u001b[0m obj\u001b[38;5;241m.\u001b[39m_p_serial \u001b[38;5;241m=\u001b[39m serial\n\u001b[0;32m    790\u001b[0m \u001b[38;5;28mself\u001b[39m\u001b[38;5;241m.\u001b[39m_cache\u001b[38;5;241m.\u001b[39mupdate_object_size_estimation(oid, \u001b[38;5;28mlen\u001b[39m(p))\n",
      "File \u001b[1;32mc:\\Users\\Mohajeri.K\\AppData\\Local\\anaconda3\\envs\\patient\\lib\\site-packages\\ZODB\\serialize.py:638\u001b[0m, in \u001b[0;36mObjectReader.setGhostState\u001b[1;34m(self, obj, pickle)\u001b[0m\n\u001b[0;32m    637\u001b[0m \u001b[38;5;28;01mdef\u001b[39;00m \u001b[38;5;21msetGhostState\u001b[39m(\u001b[38;5;28mself\u001b[39m, obj, pickle):\n\u001b[1;32m--> 638\u001b[0m     state \u001b[38;5;241m=\u001b[39m \u001b[38;5;28;43mself\u001b[39;49m\u001b[38;5;241;43m.\u001b[39;49m\u001b[43mgetState\u001b[49m\u001b[43m(\u001b[49m\u001b[43mpickle\u001b[49m\u001b[43m)\u001b[49m\n\u001b[0;32m    639\u001b[0m     obj\u001b[38;5;241m.\u001b[39m__setstate__(state)\n",
      "File \u001b[1;32mc:\\Users\\Mohajeri.K\\AppData\\Local\\anaconda3\\envs\\patient\\lib\\site-packages\\ZODB\\serialize.py:631\u001b[0m, in \u001b[0;36mObjectReader.getState\u001b[1;34m(self, pickle)\u001b[0m\n\u001b[0;32m    629\u001b[0m \u001b[38;5;28;01mtry\u001b[39;00m:\n\u001b[0;32m    630\u001b[0m     unpickler\u001b[38;5;241m.\u001b[39mload()  \u001b[38;5;66;03m# skip the class metadata\u001b[39;00m\n\u001b[1;32m--> 631\u001b[0m     \u001b[38;5;28;01mreturn\u001b[39;00m \u001b[43munpickler\u001b[49m\u001b[38;5;241;43m.\u001b[39;49m\u001b[43mload\u001b[49m\u001b[43m(\u001b[49m\u001b[43m)\u001b[49m\n\u001b[0;32m    632\u001b[0m \u001b[38;5;28;01mexcept\u001b[39;00m \u001b[38;5;167;01mEOFError\u001b[39;00m:\n\u001b[0;32m    633\u001b[0m     log \u001b[38;5;241m=\u001b[39m logging\u001b[38;5;241m.\u001b[39mgetLogger(\u001b[38;5;124m\"\u001b[39m\u001b[38;5;124mZODB.serialize\u001b[39m\u001b[38;5;124m\"\u001b[39m)\n",
      "File \u001b[1;32mc:\\Users\\Mohajeri.K\\AppData\\Local\\anaconda3\\envs\\patient\\lib\\site-packages\\ZODB\\serialize.py:498\u001b[0m, in \u001b[0;36mObjectReader._persistent_load\u001b[1;34m(self, reference)\u001b[0m\n\u001b[0;32m    496\u001b[0m \u001b[38;5;28;01mdef\u001b[39;00m \u001b[38;5;21m_persistent_load\u001b[39m(\u001b[38;5;28mself\u001b[39m, reference):\n\u001b[0;32m    497\u001b[0m     \u001b[38;5;28;01mif\u001b[39;00m \u001b[38;5;28misinstance\u001b[39m(reference, \u001b[38;5;28mtuple\u001b[39m):\n\u001b[1;32m--> 498\u001b[0m         \u001b[38;5;28;01mreturn\u001b[39;00m \u001b[38;5;28;43mself\u001b[39;49m\u001b[38;5;241;43m.\u001b[39;49m\u001b[43mload_persistent\u001b[49m\u001b[43m(\u001b[49m\u001b[38;5;241;43m*\u001b[39;49m\u001b[43mreference\u001b[49m\u001b[43m)\u001b[49m\n\u001b[0;32m    499\u001b[0m     \u001b[38;5;28;01melif\u001b[39;00m \u001b[38;5;28misinstance\u001b[39m(reference, (\u001b[38;5;28mbytes\u001b[39m, \u001b[38;5;28mstr\u001b[39m)):\n\u001b[0;32m    500\u001b[0m         \u001b[38;5;28;01mreturn\u001b[39;00m \u001b[38;5;28mself\u001b[39m\u001b[38;5;241m.\u001b[39mload_oid(reference)\n",
      "File \u001b[1;32mc:\\Users\\Mohajeri.K\\AppData\\Local\\anaconda3\\envs\\patient\\lib\\site-packages\\ZODB\\serialize.py:533\u001b[0m, in \u001b[0;36mObjectReader.load_persistent\u001b[1;34m(self, oid, klass)\u001b[0m\n\u001b[0;32m    530\u001b[0m         klass \u001b[38;5;241m=\u001b[39m broken\u001b[38;5;241m.\u001b[39mpersistentBroken(klass)\n\u001b[0;32m    532\u001b[0m \u001b[38;5;28;01mtry\u001b[39;00m:\n\u001b[1;32m--> 533\u001b[0m     obj \u001b[38;5;241m=\u001b[39m \u001b[43mklass\u001b[49m\u001b[38;5;241;43m.\u001b[39;49m\u001b[38;5;21;43m__new__\u001b[39;49m\u001b[43m(\u001b[49m\u001b[43mklass\u001b[49m\u001b[43m)\u001b[49m\n\u001b[0;32m    534\u001b[0m \u001b[38;5;28;01mexcept\u001b[39;00m \u001b[38;5;167;01mTypeError\u001b[39;00m:\n\u001b[0;32m    535\u001b[0m     \u001b[38;5;66;03m# Couldn't create the instance.  Maybe there's more\u001b[39;00m\n\u001b[0;32m    536\u001b[0m     \u001b[38;5;66;03m# current data in the object's actual record!\u001b[39;00m\n\u001b[0;32m    537\u001b[0m     \u001b[38;5;28;01mreturn\u001b[39;00m \u001b[38;5;28mself\u001b[39m\u001b[38;5;241m.\u001b[39m_conn\u001b[38;5;241m.\u001b[39mget(oid)\n",
      "File \u001b[1;32mc:\\Users\\Mohajeri.K\\MyProjects\\Minos\\src\\pkg\\MedCore.py:241\u001b[0m, in \u001b[0;36mAlternativeTreatments.__new__\u001b[1;34m(cls, rates, *alternatives)\u001b[0m\n\u001b[0;32m    239\u001b[0m \u001b[38;5;28;01mdef\u001b[39;00m \u001b[38;5;21m__new__\u001b[39m(\u001b[38;5;28mcls\u001b[39m, \u001b[38;5;241m*\u001b[39malternatives: Treatment, rates: \u001b[38;5;28mlist\u001b[39m\u001b[38;5;241m=\u001b[39m\u001b[38;5;28;01mNone\u001b[39;00m):\n\u001b[0;32m    240\u001b[0m     combined_name \u001b[38;5;241m=\u001b[39m \u001b[38;5;124m\"\u001b[39m\u001b[38;5;124m / \u001b[39m\u001b[38;5;124m\"\u001b[39m\u001b[38;5;241m.\u001b[39mjoin(treatment\u001b[38;5;241m.\u001b[39mname \u001b[38;5;28;01mfor\u001b[39;00m treatment \u001b[38;5;129;01min\u001b[39;00m alternatives)\n\u001b[1;32m--> 241\u001b[0m     \u001b[38;5;28;01mreturn\u001b[39;00m \u001b[38;5;28;43msuper\u001b[39;49m\u001b[43m(\u001b[49m\u001b[43m)\u001b[49m\u001b[38;5;241;43m.\u001b[39;49m\u001b[38;5;21;43m__new__\u001b[39;49m\u001b[43m(\u001b[49m\u001b[38;5;28;43mcls\u001b[39;49m\u001b[43m,\u001b[49m\u001b[43m \u001b[49m\u001b[43mcombined_name\u001b[49m\u001b[43m)\u001b[49m\n",
      "File \u001b[1;32mc:\\Users\\Mohajeri.K\\MyProjects\\Minos\\src\\pkg\\MedCore.py:171\u001b[0m, in \u001b[0;36mTreatment.__new__\u001b[1;34m(cls, name)\u001b[0m\n\u001b[0;32m    169\u001b[0m \u001b[38;5;28;01melse\u001b[39;00m:\n\u001b[0;32m    170\u001b[0m     instance \u001b[38;5;241m=\u001b[39m \u001b[38;5;28msuper\u001b[39m()\u001b[38;5;241m.\u001b[39m\u001b[38;5;21m__new__\u001b[39m(\u001b[38;5;28mcls\u001b[39m)\n\u001b[1;32m--> 171\u001b[0m     \u001b[43mregistry\u001b[49m\u001b[43m[\u001b[49m\u001b[43mkey\u001b[49m\u001b[43m]\u001b[49m \u001b[38;5;241m=\u001b[39m instance\n\u001b[0;32m    172\u001b[0m     commit()\n\u001b[0;32m    173\u001b[0m     \u001b[38;5;28;01mreturn\u001b[39;00m instance\n",
      "File \u001b[1;32mc:\\Users\\Mohajeri.K\\AppData\\Local\\anaconda3\\envs\\patient\\lib\\site-packages\\persistent\\mapping.py:82\u001b[0m, in \u001b[0;36mPersistentMapping.__setitem__\u001b[1;34m(self, key, v)\u001b[0m\n\u001b[0;32m     80\u001b[0m \u001b[38;5;28;01mdef\u001b[39;00m \u001b[38;5;21m__setitem__\u001b[39m(\u001b[38;5;28mself\u001b[39m, key, v):\n\u001b[0;32m     81\u001b[0m     \u001b[38;5;28mself\u001b[39m\u001b[38;5;241m.\u001b[39m__super_setitem(key, v)\n\u001b[1;32m---> 82\u001b[0m     \u001b[38;5;28;43mself\u001b[39;49m\u001b[38;5;241;43m.\u001b[39;49m\u001b[43m_p_changed\u001b[49m \u001b[38;5;241m=\u001b[39m \u001b[38;5;241m1\u001b[39m\n",
      "File \u001b[1;32mc:\\Users\\Mohajeri.K\\AppData\\Local\\anaconda3\\envs\\patient\\lib\\site-packages\\ZODB\\Connection.py:823\u001b[0m, in \u001b[0;36mConnection.register\u001b[1;34m(self, obj)\u001b[0m\n\u001b[0;32m    820\u001b[0m \u001b[38;5;28;01melif\u001b[39;00m obj\u001b[38;5;241m.\u001b[39m_p_oid \u001b[38;5;129;01min\u001b[39;00m \u001b[38;5;28mself\u001b[39m\u001b[38;5;241m.\u001b[39m_added:\n\u001b[0;32m    821\u001b[0m     \u001b[38;5;66;03m# It was registered before it was added to _added.\u001b[39;00m\n\u001b[0;32m    822\u001b[0m     \u001b[38;5;28;01mreturn\u001b[39;00m\n\u001b[1;32m--> 823\u001b[0m \u001b[38;5;28;43mself\u001b[39;49m\u001b[38;5;241;43m.\u001b[39;49m\u001b[43m_register\u001b[49m\u001b[43m(\u001b[49m\u001b[43mobj\u001b[49m\u001b[43m)\u001b[49m\n",
      "File \u001b[1;32mc:\\Users\\Mohajeri.K\\AppData\\Local\\anaconda3\\envs\\patient\\lib\\site-packages\\ZODB\\Connection.py:833\u001b[0m, in \u001b[0;36mConnection._register\u001b[1;34m(self, obj)\u001b[0m\n\u001b[0;32m    825\u001b[0m \u001b[38;5;28;01mdef\u001b[39;00m \u001b[38;5;21m_register\u001b[39m(\u001b[38;5;28mself\u001b[39m, obj\u001b[38;5;241m=\u001b[39m\u001b[38;5;28;01mNone\u001b[39;00m):\n\u001b[0;32m    826\u001b[0m \n\u001b[0;32m    827\u001b[0m     \u001b[38;5;66;03m# The order here is important.  We need to join before\u001b[39;00m\n\u001b[0;32m    828\u001b[0m     \u001b[38;5;66;03m# registering the object, because joining may take a\u001b[39;00m\n\u001b[0;32m    829\u001b[0m     \u001b[38;5;66;03m# savepoint, and the savepoint should not reflect the change\u001b[39;00m\n\u001b[0;32m    830\u001b[0m     \u001b[38;5;66;03m# to the object.\u001b[39;00m\n\u001b[0;32m    832\u001b[0m     \u001b[38;5;28;01mif\u001b[39;00m \u001b[38;5;28mself\u001b[39m\u001b[38;5;241m.\u001b[39m_needs_to_join:\n\u001b[1;32m--> 833\u001b[0m         \u001b[38;5;28;43mself\u001b[39;49m\u001b[38;5;241;43m.\u001b[39;49m\u001b[43mtransaction_manager\u001b[49m\u001b[38;5;241;43m.\u001b[39;49m\u001b[43mget\u001b[49m()\u001b[38;5;241m.\u001b[39mjoin(\u001b[38;5;28mself\u001b[39m)\n\u001b[0;32m    834\u001b[0m         \u001b[38;5;28mself\u001b[39m\u001b[38;5;241m.\u001b[39m_needs_to_join \u001b[38;5;241m=\u001b[39m \u001b[38;5;28;01mFalse\u001b[39;00m\n\u001b[0;32m    836\u001b[0m     \u001b[38;5;28;01mif\u001b[39;00m obj \u001b[38;5;129;01mis\u001b[39;00m \u001b[38;5;129;01mnot\u001b[39;00m \u001b[38;5;28;01mNone\u001b[39;00m:\n",
      "\u001b[1;31mAttributeError\u001b[0m: 'NoneType' object has no attribute 'get'"
     ]
    }
   ],
   "source": [
    "root"
   ]
  },
  {
   "cell_type": "code",
   "execution_count": null,
   "metadata": {},
   "outputs": [],
   "source": []
  }
 ],
 "metadata": {
  "kernelspec": {
   "display_name": "patient",
   "language": "python",
   "name": "python3"
  },
  "language_info": {
   "codemirror_mode": {
    "name": "ipython",
    "version": 3
   },
   "file_extension": ".py",
   "mimetype": "text/x-python",
   "name": "python",
   "nbconvert_exporter": "python",
   "pygments_lexer": "ipython3",
   "version": "3.10.15"
  }
 },
 "nbformat": 4,
 "nbformat_minor": 2
}
